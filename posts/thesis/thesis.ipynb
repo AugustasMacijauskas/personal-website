{
 "cells": [
  {
   "cell_type": "raw",
   "metadata": {},
   "source": [
    "---\n",
    "title: Eliciting latent knowledge from language reward models\n",
    "description: Blog post about my master's project research at the University of Cambridge.\n",
    "author: Augustas Macijauskas\n",
    "date: \"2023/10/04\"\n",
    "image: cambridge.jpg\n",
    "image-alt: King's College Cambridge\n",
    "toc: true\n",
    "categories: [machine learning, deep learning, LLMs, cambridge]\n",
    "draft: false\n",
    "---"
   ]
  },
  {
   "cell_type": "markdown",
   "metadata": {
    "id": "3cYlBfxxkkS5"
   },
   "source": [
    "# Eliciting latent knowledge from language reward models\n",
    "\n",
    "This blog post discusses the main ideas behind my thesis for the MPhil in Machine Learning and Machine Intelligence degree at the University of Cambridge. You can read the full thesis <a href=\"mlmi-thesis.pdf\" target=\"_blank\">here</a>."
   ]
  }
 ],
 "metadata": {
  "accelerator": "GPU",
  "colab": {
   "collapsed_sections": [],
   "name": "easy-captcha-fastai-v2.ipynb",
   "provenance": [],
   "toc_visible": true
  },
  "kernelspec": {
   "display_name": "Python 3 (ipykernel)",
   "language": "python",
   "name": "python3"
  },
  "language_info": {
   "codemirror_mode": {
    "name": "ipython",
    "version": 3
   },
   "file_extension": ".py",
   "mimetype": "text/x-python",
   "name": "python",
   "nbconvert_exporter": "python",
   "pygments_lexer": "ipython3",
   "version": "3.11.4"
  }
 },
 "nbformat": 4,
 "nbformat_minor": 4
}
