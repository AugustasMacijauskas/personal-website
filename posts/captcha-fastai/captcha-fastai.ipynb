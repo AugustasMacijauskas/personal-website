{
 "cells": [
  {
   "cell_type": "raw",
   "metadata": {},
   "source": [
    "---\n",
    "title: Multi-output classification for captcha recognition using fastai\n",
    "author: Augustas Macijauskas\n",
    "description: Implementing a multi-output model to recognize easy captcha images using the fastai library.\n",
    "date: \"2021/03/31\"\n",
    "image: captcha.png\n",
    "image-alt: A captcha\n",
    "toc: true\n",
    "categories: [machine-learning, deep-learning, classification, fastai, vision]\n",
    "draft: false\n",
    "---"
   ]
  },
  {
   "cell_type": "markdown",
   "metadata": {
    "id": "5Sba8gKFHETe"
   },
   "source": [
    "# TLDR\n",
    "\n",
    "Special thanks to my dear friends [Julius](https://github.com/jul1u5) and [Laurynas](https://github.com/laurislopata) who joined me to work on this project.\n",
    "\n",
    "We worked on and off for more than a month on this project, and I must say that it was not an easy, but definitely an extremely rewarding experience considering how much I've learnt. It was also a good chance to hone my problem solving skills and endurance, as we switched approaches (and even libraries!) at least three times, spent substantial amounts of time reading through various resources and codebases and trying to adapt the codes to our purpose through trial and error.\n",
    "\n",
    "**The key takeaways are:**\n",
    "\n",
    "1. **Do not ever use old captchas** and encourage others not to, as there are too many ways to break them nowadays.\n",
    "2. Fastai has a **great mid-level API** that allows for customization for almost any use, but getting the hang of it might be tricky. Here are some resources that tremendously helped us:\n",
    "    - Looking at fastai [docs and tutorials](https://docs.fast.ai/) and reading through source code\n",
    "    - [A walk with fastai2](https://www.youtube.com/playlist?list=PLFDkaGxp5BXDvj3oHoKDgEcH73Aze-eET) playlist that has excellent material on using the fastai mid-level API\n",
    "    - [fastai v2 walk-thru](https://www.youtube.com/playlist?list=PLfYUBJiXbdtSWRCYUHh-ThVCC39bp5yiq) playlist on YouTube where Jeremy Howard talks how and why the library is built the way it is\n",
    "3. **Perseverance is key** - great ideas and solutions usually do not come overnight, but breaking the problem into smaller pieces and continously improving on each of those is a good way to go."
   ]
  },
  {
   "cell_type": "markdown",
   "metadata": {
    "id": "Th92Ad3RI3-8"
   },
   "source": [
    "# Introduction\n",
    "\n",
    "The idea is to use deep learning to recognise images from [this](https://github.com/PacktPublishing/Machine-Learning-for-Cybersecurity-Cookbook/blob/master/Chapter05/CAPTCHA%20Breaker/captcha_images.7z) captcha image dataset. The images look like the following:\n",
    "\n",
    "![](captcha-example.png \"Example captcha image\")\n",
    "\n",
    "Our final approach was the following:\n",
    "\n",
    "1. Create a data loader that would load in an image and a length four tensor that would represent the encoded symbol at each position in the captcha\n",
    "2. Create a multi-output model that would output a 128 length tensor and then reshape it to a 32x4 tensor\n",
    "    - The output is 32x4 because there are 32 possible letters (the dataset that we used had no `0`, `1`, `O` or `I`) for each position, i.e. model has four outputs, each predicting one of the 32 symbols for each position in the captcha\n",
    "3. Use `CrossEntropyLoss` with `reduction=\"sum\"` which will calculate the losses for each of the four outputs and sum them up. This way, we can easily build a model to predict multiple things at the same time\n",
    "\n",
    "Everything looked rather easy at first, however, it took us quite some time to come up with an elegant and easy to follow implementation. Continue reading for details!"
   ]
  },
  {
   "cell_type": "markdown",
   "metadata": {
    "id": "C4GutaJHmEat"
   },
   "source": [
    "# Imports\n",
    "\n",
    "Toggle cells below if you want to see what imports are being made."
   ]
  },
  {
   "cell_type": "code",
   "execution_count": 1,
   "metadata": {
    "id": "qzzTzv35iXMt"
   },
   "outputs": [],
   "source": [
    "#|code-fold: true\n",
    "# Uncomment these and run once if you are using colab\n",
    "# !pip install -qq torchtext==0.8.1\n",
    "# !pip install -Uqq fastbook"
   ]
  },
  {
   "cell_type": "code",
   "execution_count": 3,
   "metadata": {
    "id": "KgLKXHDkmEau"
   },
   "outputs": [],
   "source": [
    "#|code-fold: true\n",
    "%load_ext autoreload\n",
    "%autoreload 2\n",
    "\n",
    "%matplotlib inline\n",
    "\n",
    "from fastai.vision.all import *\n",
    "import PIL"
   ]
  },
  {
   "cell_type": "markdown",
   "metadata": {
    "id": "2WAyEqzmmEau"
   },
   "source": [
    "# Data"
   ]
  },
  {
   "cell_type": "code",
   "execution_count": 4,
   "metadata": {
    "id": "RSBlRwXsfPn_"
   },
   "outputs": [],
   "source": [
    "#|include: false\n",
    "# Run this once to download the data\n",
    "# !wget -q --no-check-certificate --content-disposition https://github.com/PacktPublishing/Machine-Learning-for-Cybersecurity-Cookbook/blob/master/Chapter05/CAPTCHA%20Breaker/captcha_images.7z?raw=true"
   ]
  },
  {
   "cell_type": "code",
   "execution_count": 5,
   "metadata": {
    "id": "bKbcxxCWVKaV"
   },
   "outputs": [],
   "source": [
    "#|include: false\n",
    "# Run this once to unzip the data\n",
    "# !7z x captcha_images.7z"
   ]
  },
  {
   "cell_type": "code",
   "execution_count": 6,
   "metadata": {
    "colab": {
     "base_uri": "https://localhost:8080/"
    },
    "id": "PwbM4yYHS9Em",
    "outputId": "10554624-6e21-46d7-85e9-c5d7e191bc90"
   },
   "outputs": [
    {
     "name": "stdout",
     "output_type": "stream",
     "text": [
      "   9955    9955   89595\n"
     ]
    }
   ],
   "source": [
    "#|include: false\n",
    "# Check that everything is as it should be\n",
    "!ls captcha_images | wc"
   ]
  },
  {
   "cell_type": "markdown",
   "metadata": {
    "id": "HCLvO004VzTy"
   },
   "source": [
    "Use fastai `get_image_files` utility function to get a list of paths to captcha files:"
   ]
  },
  {
   "cell_type": "code",
   "execution_count": 7,
   "metadata": {
    "colab": {
     "base_uri": "https://localhost:8080/"
    },
    "id": "8uE_MW8FoKm7",
    "outputId": "653c4ce4-f2ad-46f6-9ba9-57350b4b09d8"
   },
   "outputs": [
    {
     "data": {
      "text/plain": [
       "Path('captcha_images/PRBV.png')"
      ]
     },
     "execution_count": 7,
     "metadata": {
      "tags": []
     },
     "output_type": "execute_result"
    }
   ],
   "source": [
    "PATH = Path(\"captcha_images\")\n",
    "files = get_image_files(PATH)\n",
    "files[0]"
   ]
  },
  {
   "cell_type": "markdown",
   "metadata": {
    "id": "-xUUVeulXHBB"
   },
   "source": [
    "We separately checked that all the images are 24x72x3.\n",
    "\n",
    "Create python dictionaries that will be used to map symbols to integers and vice versa:"
   ]
  },
  {
   "cell_type": "code",
   "execution_count": 8,
   "metadata": {
    "id": "gjDmY8cKqgwg"
   },
   "outputs": [],
   "source": [
    "\n",
    "# Find all the unique labels\n",
    "ld = set()\n",
    "for f in files:\n",
    "    for l in f.stem:\n",
    "        ld.add(l)\n",
    "\n",
    "label_mapper = \"\".join(sorted(ld))\n",
    "l2i = { label_mapper[i]: i for i in range(len(label_mapper)) } # labels to int\n",
    "i2l = { v: k for k, v in l2i.items() } # int to labels"
   ]
  },
  {
   "cell_type": "markdown",
   "metadata": {
    "id": "1Jty4tQwmEaw"
   },
   "source": [
    "# Dataset"
   ]
  },
  {
   "cell_type": "markdown",
   "metadata": {
    "id": "eZMqL-agXNML"
   },
   "source": [
    "This custom thing that we need is a fastai `Transform` that knows how to deal with a multi-output label. Reading through fastai source code we've managed to find that a convenient way to do this is to create a class that inherits from `DisplayedTransform`. The attributes `l2i` and `i2l` are used for label to int mapping. The `encodes` method is how to tell the library how something should be encoded, here we just take a string type label and turn it into a `TensorCategory` which is nothing more but a length four tensor with the name given for it to have a more human-readable semantic meaning. Similarly, the `decodes` method takes an encoded label and reverses it back to a string label which is wrapped in the `Category` class that is intended for categories that will be shown somewhere, e.g. in plots."
   ]
  },
  {
   "cell_type": "code",
   "execution_count": 9,
   "metadata": {
    "id": "7i8WGCDcxx21"
   },
   "outputs": [],
   "source": [
    "class MultiOutputCategorize(DisplayedTransform):\n",
    "    def __init__(self, l2i=l2i, i2l=i2l):\n",
    "        self.l2i = l2i\n",
    "        self.i2l = i2l\n",
    "\n",
    "    def encodes(self, string_label):\n",
    "        return TensorCategory([self.l2i[l] for l in string_label])\n",
    "\n",
    "    def decodes(self, encoded_label):\n",
    "        return Category(\"\".join([self.i2l[v.item()] for v in encoded_label]))"
   ]
  },
  {
   "cell_type": "markdown",
   "metadata": {
    "id": "afZZSZIIZ6zV"
   },
   "source": [
    "We can now use our new transform to create a `DataBlock`, the cornerstone of fastai's mid-level API that is very flexible and can be customized for various purposes (a good example is [this](https://docs.fast.ai/tutorial.siamese.html) where it is used to implement a siamese network).\n",
    "\n",
    "Important thing to notice is how we wrap our `MultiOutputCategorize` in a `TransformBlock`.\n",
    "\n",
    "We also use augmentations to have more variety in our data while training the model. `CropPad` is used to pad image to a square (remember that all images were 24x72). All the other transform are pretty self explanatory, but make sure you read about them in the fastai docs if you feel like you need to."
   ]
  },
  {
   "cell_type": "code",
   "execution_count": 10,
   "metadata": {
    "id": "TNtG00qqiStl"
   },
   "outputs": [],
   "source": [
    "captcha_data_block = DataBlock(\n",
    "    blocks=(ImageBlock, TransformBlock(type_tfms=MultiOutputCategorize())),\n",
    "    splitter=RandomSplitter(valid_pct=0.2, seed=42),\n",
    "    get_y=lambda x: x.stem,\n",
    "    item_tfms=[CropPad(size=72, pad_mode=PadMode.Border), Resize(64)],\n",
    "    batch_tfms=[*aug_transforms(do_flip=False, max_rotate=5.0)],\n",
    ")"
   ]
  },
  {
   "cell_type": "markdown",
   "metadata": {
    "id": "9v7uVZbZcFVr"
   },
   "source": [
    "Now create a dataloader, we use batch size 128 since experiments showed that it was the optimal one:"
   ]
  },
  {
   "cell_type": "code",
   "execution_count": 11,
   "metadata": {
    "id": "MCDCPw-9jDJT"
   },
   "outputs": [],
   "source": [
    "dls = captcha_data_block.dataloaders(files, bs=128, num_workers=4, shuffle=True)\n",
    "dls = dls.cuda()"
   ]
  },
  {
   "cell_type": "markdown",
   "metadata": {
    "id": "kJQSoZcFcVdo"
   },
   "source": [
    "Another important thing to note is how fastai handles types behind the scenes - even though the images and labels were transformed and their actual types changed, the library manages to bubble up the correct initial types if needed. One of the authors of the library Jeremy Howard mentions in his code walk-thrus on YouTube that such an approach was borrowed from other programming languages that he used."
   ]
  },
  {
   "cell_type": "code",
   "execution_count": 12,
   "metadata": {
    "colab": {
     "base_uri": "https://localhost:8080/"
    },
    "id": "WJaU8barlC4b",
    "outputId": "c8f77f88-bfc0-4e7c-bcd1-40e93721a2a6"
   },
   "outputs": [
    {
     "data": {
      "text/plain": [
       "{tuple: [fastai.torch_core.TensorImage, fastai.torch_core.TensorCategory]}"
      ]
     },
     "execution_count": 12,
     "metadata": {
      "tags": []
     },
     "output_type": "execute_result"
    }
   ],
   "source": [
    "dls._types"
   ]
  },
  {
   "cell_type": "markdown",
   "metadata": {
    "id": "tvv7TY9AdmQ8"
   },
   "source": [
    "Let's just one batch to make sure everything is alright:"
   ]
  },
  {
   "cell_type": "code",
   "execution_count": 13,
   "metadata": {
    "colab": {
     "base_uri": "https://localhost:8080/",
     "height": 536
    },
    "id": "ot0yVrNak1sV",
    "outputId": "8176b3c4-ea20-4840-a3a3-36eaad9087bc"
   },
   "outputs": [
    {
     "data": {
      "image/png": "[encoded data removed]",
      "text/plain": [
       "<Figure size 648x648 with 9 Axes>"
      ]
     },
     "metadata": {
      "needs_background": "light",
      "tags": []
     },
     "output_type": "display_data"
    }
   ],
   "source": [
    "dls.show_batch()"
   ]
  },
  {
   "cell_type": "markdown",
   "metadata": {
    "id": "oxgihtc9dzbI"
   },
   "source": [
    "Also check that our custom transform is working as it should be:"
   ]
  },
  {
   "cell_type": "code",
   "execution_count": 14,
   "metadata": {
    "colab": {
     "base_uri": "https://localhost:8080/"
    },
    "id": "gIcdI1xZk7q5",
    "outputId": "8ea3304b-c641-4e6c-f227-cf59510d5271"
   },
   "outputs": [
    {
     "data": {
      "text/plain": [
       "TensorCategory([ 9, 19,  0, 15], device='cuda:0')"
      ]
     },
     "execution_count": 14,
     "metadata": {
      "tags": []
     },
     "output_type": "execute_result"
    }
   ],
   "source": [
    "b = dls.one_batch()\n",
    "b[1][0]"
   ]
  },
  {
   "cell_type": "markdown",
   "metadata": {
    "collapsed": "true",
    "id": "kghJ1M4NmEa0"
   },
   "source": [
    "# Model"
   ]
  },
  {
   "cell_type": "markdown",
   "metadata": {
    "id": "8vvodLJUd8wF"
   },
   "source": [
    "It is now time to build our multi-output model. Let's begin by creating the final layer that will just take the outputs and will reshape them to 32x4 (ignoring batch dimension)"
   ]
  },
  {
   "cell_type": "code",
   "execution_count": 15,
   "metadata": {
    "id": "pYPYzeAt1du8"
   },
   "outputs": [],
   "source": [
    "N_OUTPUTS = 4\n",
    "\n",
    "class ReshapeLayer(nn.Module):\n",
    "    def __init__(self, n_classes=len(l2i), n_outputs=N_OUTPUTS):\n",
    "        super().__init__()\n",
    "        self.n_classes = n_classes\n",
    "        self.n_outputs = n_outputs\n",
    "    \n",
    "    def forward(self, out):\n",
    "        out = out.reshape(-1, self.n_classes, self.n_outputs)\n",
    "\n",
    "        return out"
   ]
  },
  {
   "cell_type": "markdown",
   "metadata": {
    "id": "mHWX1HKlebxt"
   },
   "source": [
    "Next, we use fastai's `create_body` method to get a `resnet18` model backbone pretrained on ImageNet data. We then use the `create_head` method to add a head mainly consisting of fully-connected layers to map the outputs from the convolutional backbone to a `32*4=128` length vector. The weird parameter `body[-1][-1].bn2.num_features` is actually equal to `512` and is just the number of outputs of the convolutional backbone. We found that the model does not overfit so we turn off dropout by setting `ps=0.0`:"
   ]
  },
  {
   "cell_type": "code",
   "execution_count": 16,
   "metadata": {
    "id": "9Vs3vtd7Ivh0"
   },
   "outputs": [],
   "source": [
    "body = create_body(resnet18, cut=-2, pretrained=True)\n",
    "head = create_head(body[-1][-1].bn2.num_features, N_OUTPUTS * len(l2i), ps=0.0)"
   ]
  },
  {
   "cell_type": "markdown",
   "metadata": {
    "id": "XB0yUn6SgJsh"
   },
   "source": [
    "Combine the `body`, the `head` and the `ReshapeLayer` into a final model:"
   ]
  },
  {
   "cell_type": "code",
   "execution_count": 17,
   "metadata": {
    "id": "hw5GrWvvfwym"
   },
   "outputs": [],
   "source": [
    "model = nn.Sequential(\n",
    "    body,\n",
    "    head,\n",
    "    ReshapeLayer(n_classes=len(l2i), n_outputs=N_OUTPUTS),\n",
    "    # output will be [bs, num_classes=32, n_outputs=4]\n",
    ")\n",
    "model = model.cuda()"
   ]
  },
  {
   "cell_type": "markdown",
   "metadata": {
    "id": "Jrz5V8g2gcms"
   },
   "source": [
    "This last line that casts to model to the GPU might be redundant, but we haven't checked that, so for now it is better to be safe than sorry.\n",
    "\n",
    "Finally create a function that will tell how the model's parameters have to be split when we'll use transfer learning (e.g. which parts should be frozen or not):"
   ]
  },
  {
   "cell_type": "code",
   "execution_count": 18,
   "metadata": {
    "id": "8suXcnWsT7PB"
   },
   "outputs": [],
   "source": [
    "def model_splitter(model):\n",
    "    return [params(model[0]), params(model[1:])]"
   ]
  },
  {
   "cell_type": "markdown",
   "metadata": {
    "id": "XbK48S6wmEa4"
   },
   "source": [
    "# Training"
   ]
  },
  {
   "cell_type": "markdown",
   "metadata": {
    "id": "onnifCvFg_sW"
   },
   "source": [
    "We have come up to training the model.\n",
    "\n",
    "First we need some custom functions that will track our metrics. The first one calculates overall accuracy (fraction of images were the model gets **all** four outputs right) and the second one calculates the fraction of individual outputs that the model got right. For example, for captcha \"ABCD\", if the model guesses \"ABCA\", then the overall accuracy will be 0, but individual accuracy will be 75% (3 out of 4 letters guessed correctly):"
   ]
  },
  {
   "cell_type": "code",
   "execution_count": 19,
   "metadata": {
    "id": "9dMKmdQ6Zbuc"
   },
   "outputs": [],
   "source": [
    "def multi_output_accuracy(inp, targ):\n",
    "    labels_pred = torch.softmax(inp, dim=1)\n",
    "    labels_pred = torch.argmax(labels_pred, dim=1)\n",
    "\n",
    "    return ((labels_pred == targ).all(dim=1)).sum() / inp.size(0)"
   ]
  },
  {
   "cell_type": "code",
   "execution_count": 20,
   "metadata": {
    "id": "2ZfKOAiUc5Kk"
   },
   "outputs": [],
   "source": [
    "def multi_output_individual_accuracy(inp, targ):\n",
    "    labels_pred = torch.softmax(inp, dim=1)\n",
    "    labels_pred = torch.argmax(labels_pred, dim=1)\n",
    "\n",
    "    return (labels_pred == targ).sum() / (inp.size(0) * targ.size(1))"
   ]
  },
  {
   "cell_type": "markdown",
   "metadata": {
    "id": "1c11O5M7iiVA"
   },
   "source": [
    "Next, we create a custom `MultiOutputCrossEntropyLoss` which is an adaption of fastai's `CrossEntropyLossFlat` for our multi-output needs.\n",
    "\n",
    "Figuring out the details of this one took a substantial amount of time, but in the end we figured out what each of the parameters do:\n",
    "- setting `flatten=False` turns off the default output flattening which is what we want\n",
    "- `reduction=\"sum\"` makes the loss functions sum up the losses of individual outputs instead of averaging them\n",
    "- `axis=1` tells the loss function that softmax and argmax should operate on dim=1, in our case this means that we go from shape [bs, num_classes=32, n_output=4] to shape [bs, n_output=4] after those activations are applied which is exactly what we want\n",
    "\n",
    "Finally, we override the `__call__` method because we noticed that the output gets weirdly transposed internally, so adding an additional transpose here reverses it and makes things work the way they should be: "
   ]
  },
  {
   "cell_type": "code",
   "execution_count": 21,
   "metadata": {
    "id": "8nsCNm4wGZ_-"
   },
   "outputs": [],
   "source": [
    "class MultiOutputCrossEntropyLoss(CrossEntropyLossFlat):\n",
    "    def __init__(self, *args, **kwargs):\n",
    "        super().__init__(flatten=False, reduction=\"sum\", axis=1, *args, **kwargs)\n",
    "    \n",
    "    def __call__(self, inp, targ, **kwargs):\n",
    "        # fastai does an extra transpose inside, but we do need it, so this reverses it\n",
    "        inp = inp.transpose(1, 2)\n",
    "        return super().__call__(inp, targ, **kwargs)"
   ]
  },
  {
   "cell_type": "markdown",
   "metadata": {
    "id": "uhz1qF7hlpmO"
   },
   "source": [
    "Now assemble all the bits from above to create a fastai learner:"
   ]
  },
  {
   "cell_type": "code",
   "execution_count": 22,
   "metadata": {
    "id": "zWOvx0KRYeEk"
   },
   "outputs": [],
   "source": [
    "learn = Learner(dls, model, loss_func=MultiOutputCrossEntropyLoss(), metrics=[multi_output_accuracy, multi_output_individual_accuracy], splitter=model_splitter)"
   ]
  },
  {
   "cell_type": "code",
   "execution_count": 23,
   "metadata": {
    "id": "lbuwHrsxhjq4"
   },
   "outputs": [],
   "source": [
    "#|include: false\n",
    "# Could try to use `learn.fine_tune`"
   ]
  },
  {
   "cell_type": "markdown",
   "metadata": {
    "id": "HlVuQPcUl0m0"
   },
   "source": [
    "We want to start by only training the head for a little bit, so let's freeze the convolutional backbone:"
   ]
  },
  {
   "cell_type": "code",
   "execution_count": 24,
   "metadata": {
    "id": "74V2vfijYo4u"
   },
   "outputs": [],
   "source": [
    "learn.freeze()"
   ]
  },
  {
   "cell_type": "markdown",
   "metadata": {
    "id": "fs1FnRvSmCqj"
   },
   "source": [
    "Look for a suitable learning rate:"
   ]
  },
  {
   "cell_type": "code",
   "execution_count": 25,
   "metadata": {
    "colab": {
     "base_uri": "https://localhost:8080/",
     "height": 300
    },
    "id": "2PnV4ek_YrMv",
    "outputId": "5f9cbf89-32ac-4952-e505-c15043b90a36"
   },
   "outputs": [
    {
     "data": {
      "text/html": [],
      "text/plain": [
       "<IPython.core.display.HTML object>"
      ]
     },
     "metadata": {
      "tags": []
     },
     "output_type": "display_data"
    },
    {
     "data": {
      "text/plain": [
       "SuggestedLRs(lr_min=0.0033113110810518267, lr_steep=0.007585775572806597)"
      ]
     },
     "execution_count": 25,
     "metadata": {
      "tags": []
     },
     "output_type": "execute_result"
    },
    {
     "data": {
      "image/png": "[encoded data removed]",
      "text/plain": [
       "<Figure size 432x288 with 1 Axes>"
      ]
     },
     "metadata": {
      "needs_background": "light",
      "tags": []
     },
     "output_type": "display_data"
    }
   ],
   "source": [
    "learn.lr_find()"
   ]
  },
  {
   "cell_type": "markdown",
   "metadata": {
    "id": "k-iEZgrEmSTx"
   },
   "source": [
    "Train the head for 2 epochs with the found learning rate:"
   ]
  },
  {
   "cell_type": "code",
   "execution_count": 26,
   "metadata": {
    "colab": {
     "base_uri": "https://localhost:8080/",
     "height": 111
    },
    "id": "epCh-CtXYzwe",
    "outputId": "f82e5864-e128-4063-a2ef-5ea66ca55393"
   },
   "outputs": [
    {
     "data": {
      "text/html": [
       "<table border=\"1\" class=\"dataframe\">\n",
       "  <thead>\n",
       "    <tr style=\"text-align: left;\">\n",
       "      <th>epoch</th>\n",
       "      <th>train_loss</th>\n",
       "      <th>valid_loss</th>\n",
       "      <th>multi_output_accuracy</th>\n",
       "      <th>multi_output_individual_accuracy</th>\n",
       "      <th>time</th>\n",
       "    </tr>\n",
       "  </thead>\n",
       "  <tbody>\n",
       "    <tr>\n",
       "      <td>0</td>\n",
       "      <td>1531.273804</td>\n",
       "      <td>1531.483521</td>\n",
       "      <td>0.000000</td>\n",
       "      <td>0.170517</td>\n",
       "      <td>00:17</td>\n",
       "    </tr>\n",
       "    <tr>\n",
       "      <td>1</td>\n",
       "      <td>1195.153687</td>\n",
       "      <td>1006.178101</td>\n",
       "      <td>0.017077</td>\n",
       "      <td>0.400804</td>\n",
       "      <td>00:16</td>\n",
       "    </tr>\n",
       "  </tbody>\n",
       "</table>"
      ],
      "text/plain": [
       "<IPython.core.display.HTML object>"
      ]
     },
     "metadata": {
      "tags": []
     },
     "output_type": "display_data"
    }
   ],
   "source": [
    "learn.fit_one_cycle(2, 5e-3)"
   ]
  },
  {
   "cell_type": "markdown",
   "metadata": {
    "id": "H6OVgZSDmQen"
   },
   "source": [
    "Unfreeze the convolutional backbone:"
   ]
  },
  {
   "cell_type": "code",
   "execution_count": 27,
   "metadata": {
    "id": "Qt9esdjiY6vA"
   },
   "outputs": [],
   "source": [
    "learn.unfreeze()"
   ]
  },
  {
   "cell_type": "markdown",
   "metadata": {
    "id": "cdXG_zZImhiQ"
   },
   "source": [
    "Look for a good learning rate and then train the whole model for 3 epochs:"
   ]
  },
  {
   "cell_type": "code",
   "execution_count": 28,
   "metadata": {
    "colab": {
     "base_uri": "https://localhost:8080/",
     "height": 300
    },
    "id": "Z_7mbDRAUifN",
    "outputId": "6c76bb39-4cfb-4ba8-bb90-00eec48643d9"
   },
   "outputs": [
    {
     "data": {
      "text/html": [],
      "text/plain": [
       "<IPython.core.display.HTML object>"
      ]
     },
     "metadata": {
      "tags": []
     },
     "output_type": "display_data"
    },
    {
     "data": {
      "text/plain": [
       "SuggestedLRs(lr_min=0.002754228748381138, lr_steep=0.005248074419796467)"
      ]
     },
     "execution_count": 28,
     "metadata": {
      "tags": []
     },
     "output_type": "execute_result"
    },
    {
     "data": {
      "image/png": "[encoded data removed]",
      "text/plain": [
       "<Figure size 432x288 with 1 Axes>"
      ]
     },
     "metadata": {
      "needs_background": "light",
      "tags": []
     },
     "output_type": "display_data"
    }
   ],
   "source": [
    "learn.lr_find()"
   ]
  },
  {
   "cell_type": "code",
   "execution_count": 29,
   "metadata": {
    "colab": {
     "base_uri": "https://localhost:8080/",
     "height": 142
    },
    "id": "jliqZ7iPUekE",
    "outputId": "eaad8b51-13be-44d3-bb78-253d3f8967e5"
   },
   "outputs": [
    {
     "data": {
      "text/html": [
       "<table border=\"1\" class=\"dataframe\">\n",
       "  <thead>\n",
       "    <tr style=\"text-align: left;\">\n",
       "      <th>epoch</th>\n",
       "      <th>train_loss</th>\n",
       "      <th>valid_loss</th>\n",
       "      <th>multi_output_accuracy</th>\n",
       "      <th>multi_output_individual_accuracy</th>\n",
       "      <th>time</th>\n",
       "    </tr>\n",
       "  </thead>\n",
       "  <tbody>\n",
       "    <tr>\n",
       "      <td>0</td>\n",
       "      <td>611.221069</td>\n",
       "      <td>1285.856934</td>\n",
       "      <td>0.011552</td>\n",
       "      <td>0.353717</td>\n",
       "      <td>00:17</td>\n",
       "    </tr>\n",
       "    <tr>\n",
       "      <td>1</td>\n",
       "      <td>227.990952</td>\n",
       "      <td>82.341156</td>\n",
       "      <td>0.817177</td>\n",
       "      <td>0.950778</td>\n",
       "      <td>00:17</td>\n",
       "    </tr>\n",
       "    <tr>\n",
       "      <td>2</td>\n",
       "      <td>79.013634</td>\n",
       "      <td>9.029308</td>\n",
       "      <td>0.993973</td>\n",
       "      <td>0.998493</td>\n",
       "      <td>00:17</td>\n",
       "    </tr>\n",
       "  </tbody>\n",
       "</table>"
      ],
      "text/plain": [
       "<IPython.core.display.HTML object>"
      ]
     },
     "metadata": {
      "tags": []
     },
     "output_type": "display_data"
    }
   ],
   "source": [
    "learn.fit_one_cycle(3, 5e-3)"
   ]
  },
  {
   "cell_type": "markdown",
   "metadata": {
    "id": "-ntvvsM0nGo1"
   },
   "source": [
    "Look for a learning rate again (we will find it is a much smaller one) and train the model for one more epoch to get those extra bits of accuracy:"
   ]
  },
  {
   "cell_type": "code",
   "execution_count": 30,
   "metadata": {
    "colab": {
     "base_uri": "https://localhost:8080/",
     "height": 300
    },
    "id": "gp8br-3kqY2j",
    "outputId": "bfd49e45-f751-4012-93fa-050ac73b2dc6"
   },
   "outputs": [
    {
     "data": {
      "text/html": [],
      "text/plain": [
       "<IPython.core.display.HTML object>"
      ]
     },
     "metadata": {
      "tags": []
     },
     "output_type": "display_data"
    },
    {
     "data": {
      "text/plain": [
       "SuggestedLRs(lr_min=0.00043651582673192023, lr_steep=6.309573450380412e-07)"
      ]
     },
     "execution_count": 30,
     "metadata": {
      "tags": []
     },
     "output_type": "execute_result"
    },
    {
     "data": {
      "image/png": "[encoded data removed]",
      "text/plain": [
       "<Figure size 432x288 with 1 Axes>"
      ]
     },
     "metadata": {
      "needs_background": "light",
      "tags": []
     },
     "output_type": "display_data"
    }
   ],
   "source": [
    "learn.lr_find()"
   ]
  },
  {
   "cell_type": "code",
   "execution_count": 31,
   "metadata": {
    "colab": {
     "base_uri": "https://localhost:8080/",
     "height": 80
    },
    "id": "BUJU2nxBqa00",
    "outputId": "44025268-e807-485b-a63a-2f5f327619f9"
   },
   "outputs": [
    {
     "data": {
      "text/html": [
       "<table border=\"1\" class=\"dataframe\">\n",
       "  <thead>\n",
       "    <tr style=\"text-align: left;\">\n",
       "      <th>epoch</th>\n",
       "      <th>train_loss</th>\n",
       "      <th>valid_loss</th>\n",
       "      <th>multi_output_accuracy</th>\n",
       "      <th>multi_output_individual_accuracy</th>\n",
       "      <th>time</th>\n",
       "    </tr>\n",
       "  </thead>\n",
       "  <tbody>\n",
       "    <tr>\n",
       "      <td>0</td>\n",
       "      <td>15.953323</td>\n",
       "      <td>7.600945</td>\n",
       "      <td>0.997991</td>\n",
       "      <td>0.999498</td>\n",
       "      <td>00:17</td>\n",
       "    </tr>\n",
       "  </tbody>\n",
       "</table>"
      ],
      "text/plain": [
       "<IPython.core.display.HTML object>"
      ]
     },
     "metadata": {
      "tags": []
     },
     "output_type": "display_data"
    }
   ],
   "source": [
    "learn.fit_one_cycle(1, 1e-4)"
   ]
  },
  {
   "cell_type": "markdown",
   "metadata": {
    "id": "QOHHY-ofrBXU"
   },
   "source": [
    "In just 6 epochs, transfer learning allowed us to reach we managed toan accuracy of 99.7% percent. Amazing!"
   ]
  },
  {
   "cell_type": "code",
   "execution_count": 32,
   "metadata": {
    "colab": {
     "base_uri": "https://localhost:8080/"
    },
    "id": "wmQZfpXhbyIx",
    "outputId": "845941a9-bf27-4ea6-bf3b-11ae61b01122"
   },
   "outputs": [
    {
     "data": {
      "text/plain": [
       "Path('models/captcha-model.pth')"
      ]
     },
     "execution_count": 32,
     "metadata": {
      "tags": []
     },
     "output_type": "execute_result"
    }
   ],
   "source": [
    "#|include: false\n",
    "learn.save(\"captcha-model\")"
   ]
  },
  {
   "cell_type": "markdown",
   "metadata": {
    "id": "6SSHfjLCd4ls"
   },
   "source": [
    "# Testing"
   ]
  },
  {
   "cell_type": "markdown",
   "metadata": {
    "id": "GkYK5YtOFG-8"
   },
   "source": [
    "## Check validation set results"
   ]
  },
  {
   "cell_type": "markdown",
   "metadata": {
    "id": "kAoD8Uwanyvt"
   },
   "source": [
    "Check the model's performance on a batch of data:"
   ]
  },
  {
   "cell_type": "code",
   "execution_count": 42,
   "metadata": {
    "colab": {
     "base_uri": "https://localhost:8080/",
     "height": 551
    },
    "id": "dAlMfvPJ5XC1",
    "outputId": "afa3eeb4-0bbd-4df0-dd2c-2a755c4d40bd"
   },
   "outputs": [
    {
     "data": {
      "text/html": [],
      "text/plain": [
       "<IPython.core.display.HTML object>"
      ]
     },
     "metadata": {
      "tags": []
     },
     "output_type": "display_data"
    },
    {
     "data": {
      "image/png": "[encoded data removed]",
      "text/plain": [
       "<Figure size 648x648 with 9 Axes>"
      ]
     },
     "metadata": {
      "needs_background": "light",
      "tags": []
     },
     "output_type": "display_data"
    }
   ],
   "source": [
    "learn.show_results()"
   ]
  },
  {
   "cell_type": "markdown",
   "metadata": {
    "id": "zVqGO172XJAf"
   },
   "source": [
    "## Get failed captchas"
   ]
  },
  {
   "cell_type": "markdown",
   "metadata": {
    "id": "5xDLY8kaqhnw"
   },
   "source": [
    "Get predictions:"
   ]
  },
  {
   "cell_type": "code",
   "execution_count": 43,
   "metadata": {
    "colab": {
     "base_uri": "https://localhost:8080/",
     "height": 34
    },
    "id": "7AUzVq0AXLMO",
    "outputId": "e57568cd-be8c-4243-fdf0-a9d2c5035ff1"
   },
   "outputs": [
    {
     "data": {
      "text/html": [],
      "text/plain": [
       "<IPython.core.display.HTML object>"
      ]
     },
     "metadata": {
      "tags": []
     },
     "output_type": "display_data"
    },
    {
     "data": {
      "text/plain": [
       "(torch.Size([1991, 3, 64, 64]), torch.Size([1991, 4]), torch.Size([1991, 4]))"
      ]
     },
     "execution_count": 43,
     "metadata": {
      "tags": []
     },
     "output_type": "execute_result"
    }
   ],
   "source": [
    "inputs, _, targets, decoded_preds = learn.get_preds(with_input=True, with_decoded=True)\n",
    "inputs.size(), targets.size(), decoded_preds.size()"
   ]
  },
  {
   "cell_type": "markdown",
   "metadata": {
    "id": "36lLEJ7loCp4"
   },
   "source": [
    "Indices of failed captchas are:"
   ]
  },
  {
   "cell_type": "code",
   "execution_count": 44,
   "metadata": {
    "id": "xcPggTnDZuQB"
   },
   "outputs": [],
   "source": [
    "failed_idxs = (~(decoded_preds == targets).all(dim=1)).nonzero().view(-1)"
   ]
  },
  {
   "cell_type": "markdown",
   "metadata": {
    "id": "Meid8gWmoMCP"
   },
   "source": [
    "Show those captchas to check why the model failed:"
   ]
  },
  {
   "cell_type": "code",
   "execution_count": 45,
   "metadata": {
    "colab": {
     "base_uri": "https://localhost:8080/",
     "height": 388
    },
    "id": "Pv4aPUuSci20",
    "outputId": "e457bd80-138b-4d67-c8d3-a84455e3759f"
   },
   "outputs": [
    {
     "data": {
      "image/png": "[encoded data removed]",
      "text/plain": [
       "<Figure size 432x432 with 4 Axes>"
      ]
     },
     "metadata": {
      "needs_background": "light",
      "tags": []
     },
     "output_type": "display_data"
    }
   ],
   "source": [
    "dls.show_results(b=(inputs[failed_idxs], targets[failed_idxs]), out=decoded_preds[failed_idxs])"
   ]
  },
  {
   "cell_type": "markdown",
   "metadata": {
    "id": "BH69VgKUoXqC"
   },
   "source": [
    "We can see that the model does some slight errors, but it only fails on 4 captchas out of a validation set of 1991 images which is an amazing result. I hope that it is now obvious that using captchas to protect a website from bots is not a good idea.\n",
    "\n",
    "Check the model's confidence when it makes errors:"
   ]
  },
  {
   "cell_type": "code",
   "execution_count": 46,
   "metadata": {
    "colab": {
     "base_uri": "https://localhost:8080/",
     "height": 85
    },
    "id": "wP8OXNNrgtPQ",
    "outputId": "63268ae8-abf6-4b57-ee25-238ed7cdcab7"
   },
   "outputs": [
    {
     "data": {
      "text/html": [],
      "text/plain": [
       "<IPython.core.display.HTML object>"
      ]
     },
     "metadata": {
      "tags": []
     },
     "output_type": "display_data"
    },
    {
     "name": "stdout",
     "output_type": "stream",
     "text": [
      "Actual: W4KN, predicted: WAKN, probs: tensor([0.0805, 0.0574, 0.0800, 0.0804])\n"
     ]
    },
    {
     "data": {
      "text/html": [],
      "text/plain": [
       "<IPython.core.display.HTML object>"
      ]
     },
     "metadata": {
      "tags": []
     },
     "output_type": "display_data"
    },
    {
     "name": "stdout",
     "output_type": "stream",
     "text": [
      "Actual: B56M, predicted: B5GM, probs: tensor([0.0775, 0.0805, 0.0517, 0.0805])\n"
     ]
    },
    {
     "data": {
      "text/html": [],
      "text/plain": [
       "<IPython.core.display.HTML object>"
      ]
     },
     "metadata": {
      "tags": []
     },
     "output_type": "display_data"
    },
    {
     "name": "stdout",
     "output_type": "stream",
     "text": [
      "Actual: M3AH, predicted: MBAH, probs: tensor([0.0805, 0.0492, 0.0803, 0.0805])\n"
     ]
    },
    {
     "data": {
      "text/html": [],
      "text/plain": [
       "<IPython.core.display.HTML object>"
      ]
     },
     "metadata": {
      "tags": []
     },
     "output_type": "display_data"
    },
    {
     "name": "stdout",
     "output_type": "stream",
     "text": [
      "Actual: 3WZP, predicted: 3W2P, probs: tensor([0.0805, 0.0795, 0.0597, 0.0804])\n"
     ]
    }
   ],
   "source": [
    "for idx in failed_idxs.detach().cpu().numpy().flatten():\n",
    "    decoded_pred, pred, model_output = learn.predict(dls.valid_ds[idx][0])\n",
    "    probs = torch.softmax(model_output, dim=0)[pred].diag()\n",
    "    print(f\"Actual: {''.join([i2l[v.item()] for v in dls.valid_ds[idx][1]])}, predicted: {decoded_pred}, probs: {probs}\")"
   ]
  },
  {
   "cell_type": "markdown",
   "metadata": {
    "id": "SIiDBT2FllgQ"
   },
   "source": [
    "> Note: In each case the probabilities for the failed letters were **lower**."
   ]
  },
  {
   "cell_type": "code",
   "execution_count": 47,
   "metadata": {
    "colab": {
     "base_uri": "https://localhost:8080/",
     "height": 34
    },
    "id": "wc0kSH1TDhnW",
    "outputId": "ede2d4b7-23aa-4bd1-e09a-08be73cc42de"
   },
   "outputs": [
    {
     "data": {
      "text/html": [],
      "text/plain": [
       "<IPython.core.display.HTML object>"
      ]
     },
     "metadata": {
      "tags": []
     },
     "output_type": "display_data"
    },
    {
     "data": {
      "text/plain": [
       "('WP5D', 'WP5D')"
      ]
     },
     "execution_count": 47,
     "metadata": {
      "tags": []
     },
     "output_type": "execute_result"
    }
   ],
   "source": [
    "#|include: false\n",
    "# Check a random image\n",
    "idx = np.random.randint(len(files))\n",
    "pred = learn.predict(files[idx])[0]\n",
    "files[idx].stem, pred"
   ]
  },
  {
   "cell_type": "markdown",
   "metadata": {
    "id": "3cYlBfxxkkS5"
   },
   "source": [
    "# Conclusion\n",
    "\n",
    "We have successfully managed to use the fastai's mid-level API to build a multi-output model in an elegant and understandable way with virtually any workarounds.\n",
    "\n",
    "Note that here we have used a relatively easy dataset of captchas, but we are convinced that the same approach would deliver similar results even on harder datasets (say one that would be RGB colour instead of black and white and with some noise added in). \n",
    "\n",
    "Feel free to open the code and play around with it and maybe adapt for your own projects.\n",
    "\n",
    "Thank you for reading all the way through! Please, if you have any questions or suggestions on how I could improve, leave them down below in the comments."
   ]
  }
 ],
 "metadata": {
  "accelerator": "GPU",
  "colab": {
   "collapsed_sections": [],
   "name": "easy-captcha-fastai-v2.ipynb",
   "provenance": [],
   "toc_visible": true
  },
  "kernelspec": {
   "display_name": "Python 3 (ipykernel)",
   "language": "python",
   "name": "python3"
  },
  "language_info": {
   "codemirror_mode": {
    "name": "ipython",
    "version": 3
   },
   "file_extension": ".py",
   "mimetype": "text/x-python",
   "name": "python",
   "nbconvert_exporter": "python",
   "pygments_lexer": "ipython3",
   "version": "3.11.4"
  }
 },
 "nbformat": 4,
 "nbformat_minor": 1
}
