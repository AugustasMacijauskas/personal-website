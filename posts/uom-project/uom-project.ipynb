{
 "cells": [
  {
   "cell_type": "raw",
   "metadata": {},
   "source": [
    "---\n",
    "title: Numerical solutions to the Navier-Stokes equations\n",
    "description: Blog post about my undergraduate project at the University of Manchester.\n",
    "author: Augustas Macijauskas\n",
    "date: \"2023/10/01\"\n",
    "image: velocity-streamlines.png\n",
    "image-alt: Streamlines of the fluid flow\n",
    "toc: true\n",
    "categories: [scientific computing]\n",
    "draft: false\n",
    "---"
   ]
  },
  {
   "cell_type": "markdown",
   "metadata": {
    "id": "3cYlBfxxkkS5"
   },
   "source": [
    "# Numerical solutions to the Navier-Stokes equations\n",
    "\n",
    "Hello, World!\n",
    "\n",
    "This blog post presents my undergraduate project on the numerical solutions to the Navier-Stokes equations. You can find more information by reading the project report <a href=\"uom-project-augustas-macijauskas.pdf\" target=\"_blank\">here</a>, or check the associated <a href=\"https://github.com/AugustasMacijauskas/uom-project\" target=\"_blank\">GitHub repository</a>.\n",
    "\n",
    "![Streamlines of the fluid flow](velocity-streamlines.png)"
   ]
  },
  {
   "cell_type": "markdown",
   "metadata": {},
   "source": [
    "## Main ideas\n",
    "\n",
    "The idea is simple - using numerical methods to approximate solutions to the Navier-Stokes equations. The particular setup that I used was not too interesting and was chosen because it is a good toy example, you can find all of the details are in the PDF linked above. Here I will present only the main ideas:\n",
    "\n",
    "1. Compare different approaches to solve the problem: **time-stepping methods** versus finding the steady-state solution by using **Newton-Raphson iteration**.\n",
    "1. Compare different implementations of the methods and their running speeds and memory usage.\n",
    "1. Learn more about optimization and scientific computing and, most important of all, have fun!"
   ]
  },
  {
   "cell_type": "markdown",
   "metadata": {},
   "source": [
    "## Opportunities for growth\n",
    "\n",
    "As mentioned above, I had many opportunities to strengthen my understanding of optimization and scientific computing. In particular, I:\n",
    "\n",
    "1. Learnt about various (non)linear optimization methods: least- quares, Newton-Raphson iteration, Gauss-Newton method, LBFGS, etc.\n",
    "1. Learnt how these methods can be used through various Python packages (`SciPy`, `PyTorch`, but also `JAX` which I found to be amazing, expect more projects built on `JAX` in the future!).\n",
    "1. Compared the performance of the various methods using the different implementations.\n",
    "1. Also learnt the basic of `nbdev` and really enjoyed using it, for example, it made testing and publishing the code extremely easy (just for fun, I put up <a href=\"https://pypi.org/project/uom-project/\" target=\"_blank\">the code on PyPI</a>)."
   ]
  },
  {
   "cell_type": "markdown",
   "metadata": {},
   "source": [
    "## Findings\n",
    "\n",
    "You can find many more findings in the linked PDF, but the most interesting findings to me seem to be:\n",
    "\n",
    "1. Newton-Raphson iteration is much faster than time-stepping methods (although that is only true in this particular case - it is not always possible to apply this method).\n",
    "1. As can be seen in <a href=\"https://github.com/AugustasMacijauskas/uom-project\" target=\"_blank\">this notebook</a>, `PyTorch` and `JAX` perform faster both on CPU and GPU, but that's probably expected.\n",
    "1. On a GPU, `PyTorch` and `JAX` perform mostly the same. I expected `JAX` to be faster due to the fact that it uses jitting, but maybe the scale of the problem was not large enough to see a real difference (might be an interesting direction for future work)."
   ]
  },
  {
   "cell_type": "markdown",
   "metadata": {},
   "source": [
    "## Limitations\n",
    "\n",
    "I feel content with the project for now, but here is a (inexhaustive) list of things that could be improved:\n",
    "\n",
    "1. The current solvers are specific (the specifics of the problem are hard-coded into them). It might be worth abstracting the parts that define the problem into a separate entity and make the solvers operate on that entity.\n",
    "1. There is a lot of code that was written in a rush, so it is not always as elegant as it could be.\n",
    "1. More tests could be added."
   ]
  },
  {
   "cell_type": "markdown",
   "metadata": {},
   "source": [
    "## Conclusion\n",
    "\n",
    "I found the project exciting and I hope you found it interesting reading this blog post. It was fun learning `JAX` and `nbdev` and highly recommend everyone to try them. I Do not hesitate to contact me if you have any questions. Until next time!"
   ]
  }
 ],
 "metadata": {
  "accelerator": "GPU",
  "colab": {
   "collapsed_sections": [],
   "name": "easy-captcha-fastai-v2.ipynb",
   "provenance": [],
   "toc_visible": true
  },
  "kernelspec": {
   "display_name": "Python 3 (ipykernel)",
   "language": "python",
   "name": "python3"
  },
  "language_info": {
   "codemirror_mode": {
    "name": "ipython",
    "version": 3
   },
   "file_extension": ".py",
   "mimetype": "text/x-python",
   "name": "python",
   "nbconvert_exporter": "python",
   "pygments_lexer": "ipython3",
   "version": "3.11.4"
  }
 },
 "nbformat": 4,
 "nbformat_minor": 4
}
