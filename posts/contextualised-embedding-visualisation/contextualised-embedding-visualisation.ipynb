{
 "cells": [
  {
   "cell_type": "raw",
   "metadata": {
    "vscode": {
     "languageId": "raw"
    }
   },
   "source": [
    "---\n",
    "title: Visualising large language model embeddings with context\n",
    "description: Dimensionality reduction techniques reveal interesting structure in the embeddings learnt by large language models.\n",
    "author: Augustas Macijauskas\n",
    "date: \"2024/04/04\"\n",
    "image: dalle-3-embedding-visualisation.webp\n",
    "image-alt: Visualising LLM embeddings as imaged by DALL-E 3\n",
    "toc: true\n",
    "categories: [deep learning, LLMs, visualisation]\n",
    "draft: true\n",
    "---"
   ]
  },
  {
   "cell_type": "markdown",
   "metadata": {},
   "source": [
    "# Visualising large language model embeddings with context\n",
    "\n",
    "In a <a href=\"https://x.com/augustasmac/status/1775264780028367173?s=20\" target=\"_blank\">recent post</a>..."
   ]
  },
  {
   "cell_type": "markdown",
   "metadata": {
    "id": "C4GutaJHmEat"
   },
   "source": [
    "# Imports\n",
    "\n",
    "Toggle cells below if you want to see what imports are being made."
   ]
  },
  {
   "cell_type": "code",
   "execution_count": 1,
   "metadata": {
    "id": "Oi5gbToTf2Nb"
   },
   "outputs": [],
   "source": [
    "#|code-fold: true\n",
    "%load_ext autoreload\n",
    "%autoreload 2"
   ]
  },
  {
   "cell_type": "code",
   "execution_count": 2,
   "metadata": {},
   "outputs": [],
   "source": [
    "#|code-fold: true\n",
    "import plotly.graph_objects as go\n",
    "import torch\n",
    "from transformers import AutoModel, AutoTokenizer\n",
    "\n",
    "# Ensures we can render plotly plots with quarto\n",
    "import plotly.io as pio\n",
    "pio.renderers.default = \"plotly_mimetype+notebook_connected\""
   ]
  },
  {
   "cell_type": "code",
   "execution_count": 3,
   "metadata": {},
   "outputs": [],
   "source": [
    "model_name = \"google-bert/bert-base-cased\"\n",
    "model = AutoModel.from_pretrained(model_name)\n",
    "tokenizer = AutoTokenizer.from_pretrained(model_name)"
   ]
  },
  {
   "cell_type": "code",
   "execution_count": 7,
   "metadata": {},
   "outputs": [
    {
     "name": "stdout",
     "output_type": "stream",
     "text": [
      "torch.Size([1, 11])\n",
      "torch.Size([1, 9])\n",
      "torch.Size([1, 8])\n"
     ]
    }
   ],
   "source": [
    "sentence_v = \"your data removal request has been reviewed and concluded\"\n",
    "sentence_u = \"the sensitive personal information has been deleted\"\n",
    "sentence_k = \"she has been a sensitive person\"\n",
    "\n",
    "sentence_v_tokenized = tokenizer(sentence_v, return_tensors=\"pt\")\n",
    "sentence_u_tokenized = tokenizer(sentence_u, return_tensors=\"pt\")\n",
    "sentence_k_tokenized = tokenizer(sentence_k, return_tensors=\"pt\")\n",
    "\n",
    "print(sentence_v_tokenized[\"input_ids\"].shape)\n",
    "print(sentence_u_tokenized[\"input_ids\"].shape)\n",
    "print(sentence_k_tokenized[\"input_ids\"].shape)"
   ]
  },
  {
   "cell_type": "markdown",
   "metadata": {},
   "source": [
    "Use `[CLS]` pooling according to [this](https://huggingface.co/mixedbread-ai/mxbai-embed-large-v1):"
   ]
  },
  {
   "cell_type": "code",
   "execution_count": 10,
   "metadata": {},
   "outputs": [
    {
     "data": {
      "text/plain": [
       "(torch.Size([768]), torch.Size([768]), torch.Size([768]))"
      ]
     },
     "execution_count": 10,
     "metadata": {},
     "output_type": "execute_result"
    }
   ],
   "source": [
    "# @TODO: how do I do 1-grams here?\n",
    "def compute_n_gram_representation(tokenized_sentence, n=1):\n",
    "    representations = []\n",
    "\n",
    "    for i in range(tokenized_sentence[\"input_ids\"].shape[1] - n + 1):\n",
    "        print(i)\n",
    "    \n",
    "\n",
    "sentence_v_0_gram = compute_n_gram_representation(sentence_v_tokenized)\n",
    "# sentence_u_0_gram = embedding_vectors[sentence_u_tokenized, :].sum(axis=0)\n",
    "# sentence_k_0_gram = embedding_vectors[sentence_k_tokenized, :].sum(axis=0)\n",
    "\n",
    "# sentence_v_0_gram.shape, sentence_u_0_gram.shape, sentence_k_0_gram.shape\n",
    "sentence_v_0_gram.shape"
   ]
  },
  {
   "cell_type": "code",
   "execution_count": 23,
   "metadata": {},
   "outputs": [
    {
     "name": "stdout",
     "output_type": "stream",
     "text": [
      "tensor(2.5507) tensor(3.3529)\n"
     ]
    },
    {
     "data": {
      "text/plain": [
       "tensor(True)"
      ]
     },
     "execution_count": 23,
     "metadata": {},
     "output_type": "execute_result"
    }
   ],
   "source": [
    "dist_1 = torch.linalg.vector_norm(sentence_u_0_gram - sentence_k_0_gram)\n",
    "dist_2 = torch.linalg.vector_norm(sentence_v_0_gram - sentence_u_0_gram)\n",
    "\n",
    "print(dist_1, dist_2)\n",
    "dist_1 < dist_2"
   ]
  },
  {
   "cell_type": "code",
   "execution_count": 20,
   "metadata": {},
   "outputs": [
    {
     "data": {
      "text/plain": [
       "(torch.Size([1, 11, 768]), torch.Size([1, 768]))"
      ]
     },
     "execution_count": 20,
     "metadata": {},
     "output_type": "execute_result"
    }
   ],
   "source": [
    "# @TODO: is this right?\n",
    "with torch.no_grad():\n",
    "    tmp = model(**tokenizer(sentence_v, return_tensors=\"pt\"))\n",
    "\n",
    "tmp.last_hidden_state.shape, tmp.pooler_output.shape"
   ]
  },
  {
   "cell_type": "code",
   "execution_count": 26,
   "metadata": {},
   "outputs": [
    {
     "data": {
      "text/plain": [
       "(torch.Size([768]), torch.Size([768]), torch.Size([768]))"
      ]
     },
     "execution_count": 26,
     "metadata": {},
     "output_type": "execute_result"
    }
   ],
   "source": [
    "# We take 0th hidden vector because it corresponds to the [CLS] token\n",
    "with torch.no_grad():\n",
    "    sentence_v_transformers = model(**tokenizer(sentence_v, return_tensors=\"pt\")).last_hidden_state[0, 0, :]\n",
    "    sentence_u_transformers = model(**tokenizer(sentence_u, return_tensors=\"pt\")).last_hidden_state[0, 0, :]\n",
    "    sentence_k_transformers = model(**tokenizer(sentence_k, return_tensors=\"pt\")).last_hidden_state[0, 0, :]\n",
    "\n",
    "sentence_v_transformers.shape, sentence_u_transformers.shape, sentence_k_transformers.shape"
   ]
  },
  {
   "cell_type": "code",
   "execution_count": 27,
   "metadata": {},
   "outputs": [
    {
     "name": "stdout",
     "output_type": "stream",
     "text": [
      "tensor(5.7802) tensor(5.6262)\n"
     ]
    },
    {
     "data": {
      "text/plain": [
       "tensor(False)"
      ]
     },
     "execution_count": 27,
     "metadata": {},
     "output_type": "execute_result"
    }
   ],
   "source": [
    "dist_1 = torch.linalg.vector_norm(sentence_u_transformers - sentence_k_transformers)\n",
    "dist_2 = torch.linalg.vector_norm(sentence_v_transformers - sentence_u_transformers)\n",
    "\n",
    "print(dist_1, dist_2)\n",
    "dist_1 < dist_2"
   ]
  },
  {
   "cell_type": "markdown",
   "metadata": {
    "id": "3cYlBfxxkkS5"
   },
   "source": [
    "# Conclusion\n",
    "\n",
    "Some conclusion"
   ]
  }
 ],
 "metadata": {
  "accelerator": "GPU",
  "colab": {
   "collapsed_sections": [],
   "name": "easy-captcha-fastai-v2.ipynb",
   "provenance": [],
   "toc_visible": true
  },
  "kernelspec": {
   "display_name": "Python 3 (ipykernel)",
   "language": "python",
   "name": "python3"
  },
  "language_info": {
   "codemirror_mode": {
    "name": "ipython",
    "version": 3
   },
   "file_extension": ".py",
   "mimetype": "text/x-python",
   "name": "python",
   "nbconvert_exporter": "python",
   "pygments_lexer": "ipython3",
   "version": "3.12.2"
  }
 },
 "nbformat": 4,
 "nbformat_minor": 4
}
