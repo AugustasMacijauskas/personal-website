{
 "cells": [
  {
   "cell_type": "raw",
   "metadata": {
    "vscode": {
     "languageId": "raw"
    }
   },
   "source": [
    "---\n",
    "title: Visualising large language model embeddings with context\n",
    "description: Dimensionality reduction techniques reveal interesting structure in the embeddings learnt by large language models.\n",
    "author: Augustas Macijauskas\n",
    "date: \"2024/04/04\"\n",
    "image: dalle-3-embedding-visualisation.webp\n",
    "image-alt: Visualising LLM embeddings as imaged by DALL-E 3\n",
    "toc: true\n",
    "categories: [deep learning, LLMs, visualisation]\n",
    "draft: true\n",
    "---"
   ]
  },
  {
   "cell_type": "markdown",
   "metadata": {},
   "source": [
    "# Visualising large language model embeddings with context\n",
    "\n",
    "In a <a href=\"https://x.com/augustasmac/status/1775264780028367173?s=20\" target=\"_blank\">recent post</a>..."
   ]
  },
  {
   "cell_type": "markdown",
   "metadata": {
    "id": "C4GutaJHmEat"
   },
   "source": [
    "# Imports\n",
    "\n",
    "Toggle cells below if you want to see what imports are being made."
   ]
  },
  {
   "cell_type": "code",
   "execution_count": 43,
   "metadata": {
    "id": "Oi5gbToTf2Nb"
   },
   "outputs": [
    {
     "name": "stdout",
     "output_type": "stream",
     "text": [
      "The autoreload extension is already loaded. To reload it, use:\n",
      "  %reload_ext autoreload\n"
     ]
    }
   ],
   "source": [
    "#|code-fold: true\n",
    "%load_ext autoreload\n",
    "%autoreload 2"
   ]
  },
  {
   "cell_type": "code",
   "execution_count": 44,
   "metadata": {},
   "outputs": [],
   "source": [
    "#|code-fold: true\n",
    "import torch\n",
    "import torch.nn.functional as F\n",
    "from transformers import AutoModel, AutoTokenizer\n",
    "\n",
    "# Ensures we can render plotly plots with quarto\n",
    "import plotly.io as pio\n",
    "pio.renderers.default = \"plotly_mimetype+notebook_connected\""
   ]
  },
  {
   "cell_type": "code",
   "execution_count": 78,
   "metadata": {},
   "outputs": [],
   "source": [
    "def perform_distance_comparison(s1, s2, s3):\n",
    "    euclidean_dist_1 = torch.linalg.vector_norm(s1 - s2).item()\n",
    "    euclidean_dist_2 = torch.linalg.vector_norm(s1 - s3).item()\n",
    "\n",
    "    print(euclidean_dist_1, euclidean_dist_2)\n",
    "    print(f\"|s1 - s2| < |s1 - s3| = {euclidean_dist_1 < euclidean_dist_2}\")\n",
    "\n",
    "    cosine_sim_1 = F.cosine_similarity(s1[None, :], s2[None, :])[0].item()\n",
    "    cosine_sim_2 = F.cosine_similarity(s1[None, :], s3[None, :])[0].item()\n",
    "\n",
    "    print(cosine_sim_1, cosine_sim_2)\n",
    "    print(f\"sim(s1, s2) > sim(s1, s3) = {cosine_sim_1 > cosine_sim_2}\")\n"
   ]
  },
  {
   "cell_type": "code",
   "execution_count": 79,
   "metadata": {},
   "outputs": [],
   "source": [
    "model_name = \"google-bert/bert-base-cased\"\n",
    "model = AutoModel.from_pretrained(model_name)\n",
    "tokenizer = AutoTokenizer.from_pretrained(model_name)"
   ]
  },
  {
   "cell_type": "code",
   "execution_count": 80,
   "metadata": {},
   "outputs": [],
   "source": [
    "sentence_1 = \"sensitive information\"\n",
    "sentence_2 = \"confidential details\"\n",
    "sentence_3 = \"sensitive individual\""
   ]
  },
  {
   "cell_type": "code",
   "execution_count": 81,
   "metadata": {},
   "outputs": [
    {
     "name": "stdout",
     "output_type": "stream",
     "text": [
      "torch.Size([1, 4])\n",
      "torch.Size([1, 4])\n",
      "torch.Size([1, 4])\n"
     ]
    },
    {
     "data": {
      "text/plain": [
       "(torch.Size([768]), torch.Size([768]), torch.Size([768]))"
      ]
     },
     "execution_count": 81,
     "metadata": {},
     "output_type": "execute_result"
    }
   ],
   "source": [
    "sentence_1_tokenized = tokenizer(sentence_1, return_tensors=\"pt\")\n",
    "sentence_2_tokenized = tokenizer(sentence_2, return_tensors=\"pt\")\n",
    "sentence_3_tokenized = tokenizer(sentence_3, return_tensors=\"pt\")\n",
    "\n",
    "print(sentence_1_tokenized[\"input_ids\"].shape)\n",
    "print(sentence_2_tokenized[\"input_ids\"].shape)\n",
    "print(sentence_3_tokenized[\"input_ids\"].shape)\n",
    "\n",
    "with torch.no_grad():\n",
    "    sentence_1_transformers = model(**sentence_1_tokenized).last_hidden_state[0, 0, :]\n",
    "    sentence_2_transformers = model(**sentence_2_tokenized).last_hidden_state[0, 0, :]\n",
    "    sentence_3_transformers = model(**sentence_3_tokenized).last_hidden_state[0, 0, :]\n",
    "\n",
    "sentence_1_transformers.shape, sentence_2_transformers.shape, sentence_3_transformers.shape"
   ]
  },
  {
   "cell_type": "code",
   "execution_count": 82,
   "metadata": {},
   "outputs": [
    {
     "name": "stdout",
     "output_type": "stream",
     "text": [
      "4.9806365966796875 6.78804874420166\n",
      "|s1 - s2| < |s1 - s3| = True\n",
      "0.9552195072174072 0.9001082181930542\n",
      "sim(s1, s2) > sim(s1, s3) = True\n"
     ]
    }
   ],
   "source": [
    "perform_distance_comparison(\n",
    "    sentence_1_transformers, sentence_2_transformers, sentence_3_transformers\n",
    ")"
   ]
  },
  {
   "cell_type": "markdown",
   "metadata": {},
   "source": [
    "## Harder example"
   ]
  },
  {
   "cell_type": "code",
   "execution_count": 100,
   "metadata": {},
   "outputs": [],
   "source": [
    "sentence_1 = \"your data removal request has been reviewed and concluded\"\n",
    "sentence_2 = \"the sensitive personal information has been deleted\"\n",
    "sentence_3 = \"she has been a sensitive person\""
   ]
  },
  {
   "cell_type": "markdown",
   "metadata": {},
   "source": [
    "Use `[CLS]` pooling according to [this](https://huggingface.co/mixedbread-ai/mxbai-embed-large-v1):"
   ]
  },
  {
   "cell_type": "code",
   "execution_count": 101,
   "metadata": {},
   "outputs": [],
   "source": [
    "# @TODO: is this the best way to do n-grams?\n",
    "def compute_n_gram_representation(sentence: str, model, n=1):\n",
    "    representations = []\n",
    "\n",
    "    words = sentence.split()\n",
    "    for i in range(len(words) - n):\n",
    "        tokenized_words = tokenizer(\" \".join(words[i:i+n+1]), return_tensors=\"pt\")\n",
    "\n",
    "        with torch.no_grad():\n",
    "            curr_repr = model(**tokenized_words).last_hidden_state[0, 0]\n",
    "        \n",
    "        representations.append(curr_repr)\n",
    "\n",
    "    return torch.vstack(representations).T.mean(axis=1)\n"
   ]
  },
  {
   "cell_type": "code",
   "execution_count": 102,
   "metadata": {},
   "outputs": [
    {
     "data": {
      "text/plain": [
       "(torch.Size([768]), torch.Size([768]), torch.Size([768]))"
      ]
     },
     "execution_count": 102,
     "metadata": {},
     "output_type": "execute_result"
    }
   ],
   "source": [
    "sentence_1_1_gram = compute_n_gram_representation(sentence_1, model, n=0)\n",
    "sentence_2_1_gram = compute_n_gram_representation(sentence_2, model, n=0)\n",
    "sentence_3_1_gram = compute_n_gram_representation(sentence_3, model, n=0)\n",
    "\n",
    "sentence_1_1_gram.shape, sentence_2_1_gram.shape, sentence_3_1_gram.shape"
   ]
  },
  {
   "cell_type": "code",
   "execution_count": 103,
   "metadata": {},
   "outputs": [
    {
     "name": "stdout",
     "output_type": "stream",
     "text": [
      "1.922633171081543 2.517957925796509\n",
      "|s1 - s2| < |s1 - s3| = True\n",
      "0.9925070405006409 0.9873220920562744\n",
      "sim(s1, s2) > sim(s1, s3) = True\n"
     ]
    }
   ],
   "source": [
    "perform_distance_comparison(sentence_1_1_gram, sentence_2_1_gram, sentence_3_1_gram)"
   ]
  },
  {
   "cell_type": "code",
   "execution_count": 93,
   "metadata": {},
   "outputs": [
    {
     "name": "stdout",
     "output_type": "stream",
     "text": [
      "torch.Size([1, 11])\n",
      "torch.Size([1, 9])\n",
      "torch.Size([1, 8])\n"
     ]
    },
    {
     "data": {
      "text/plain": [
       "(torch.Size([768]), torch.Size([768]), torch.Size([768]))"
      ]
     },
     "execution_count": 93,
     "metadata": {},
     "output_type": "execute_result"
    }
   ],
   "source": [
    "sentence_1_tokenized = tokenizer(sentence_1, return_tensors=\"pt\")\n",
    "sentence_2_tokenized = tokenizer(sentence_2, return_tensors=\"pt\")\n",
    "sentence_3_tokenized = tokenizer(sentence_3, return_tensors=\"pt\")\n",
    "\n",
    "print(sentence_1_tokenized[\"input_ids\"].shape)\n",
    "print(sentence_2_tokenized[\"input_ids\"].shape)\n",
    "print(sentence_3_tokenized[\"input_ids\"].shape)\n",
    "\n",
    "with torch.no_grad():\n",
    "    sentence_1_transformers = model(**sentence_1_tokenized).last_hidden_state[0, 0, :]\n",
    "    sentence_2_transformers = model(**sentence_2_tokenized).last_hidden_state[0, 0, :]\n",
    "    sentence_3_transformers = model(**sentence_3_tokenized).last_hidden_state[0, 0, :]\n",
    "\n",
    "sentence_1_transformers.shape, sentence_2_transformers.shape, sentence_3_transformers.shape"
   ]
  },
  {
   "cell_type": "code",
   "execution_count": 94,
   "metadata": {},
   "outputs": [
    {
     "name": "stdout",
     "output_type": "stream",
     "text": [
      "5.626187324523926 7.529390335083008\n",
      "|s1 - s2| < |s1 - s3| = True\n",
      "0.940568208694458 0.8929167985916138\n",
      "sim(s1, s2) > sim(s1, s3) = True\n"
     ]
    }
   ],
   "source": [
    "perform_distance_comparison(\n",
    "    sentence_1_transformers, sentence_2_transformers, sentence_3_transformers\n",
    ")"
   ]
  },
  {
   "cell_type": "markdown",
   "metadata": {},
   "source": [
    "## Try the same with a text embedding model"
   ]
  },
  {
   "cell_type": "code",
   "execution_count": 52,
   "metadata": {},
   "outputs": [],
   "source": [
    "model_name = \"mixedbread-ai/mxbai-embed-large-v1\"\n",
    "model = AutoModel.from_pretrained(model_name)\n",
    "tokenizer = AutoTokenizer.from_pretrained(model_name)"
   ]
  },
  {
   "cell_type": "code",
   "execution_count": 54,
   "metadata": {},
   "outputs": [
    {
     "name": "stdout",
     "output_type": "stream",
     "text": [
      "2\n",
      "sensitive information\n",
      "2\n",
      "confidential details\n",
      "2\n",
      "sensitive individual\n"
     ]
    },
    {
     "data": {
      "text/plain": [
       "(torch.Size([1024]), torch.Size([1024]), torch.Size([1024]))"
      ]
     },
     "execution_count": 54,
     "metadata": {},
     "output_type": "execute_result"
    }
   ],
   "source": [
    "sentence_v_1_gram = compute_n_gram_representation(sentence_v, model, n=1)\n",
    "sentence_u_1_gram = compute_n_gram_representation(sentence_u, model, n=1)\n",
    "sentence_k_1_gram = compute_n_gram_representation(sentence_k, model, n=1)\n",
    "\n",
    "sentence_v_1_gram.shape, sentence_u_1_gram.shape, sentence_k_1_gram.shape"
   ]
  },
  {
   "cell_type": "code",
   "execution_count": 55,
   "metadata": {},
   "outputs": [
    {
     "name": "stdout",
     "output_type": "stream",
     "text": [
      "13.8001070022583 8.948094367980957\n",
      "False\n",
      "0.6227388978004456 0.84317946434021\n",
      "True\n"
     ]
    }
   ],
   "source": [
    "euclidean_dist_1 = torch.linalg.vector_norm(sentence_u_1_gram - sentence_k_1_gram).item()\n",
    "euclidean_dist_2 = torch.linalg.vector_norm(sentence_v_1_gram - sentence_u_1_gram).item()\n",
    "\n",
    "print(euclidean_dist_1, euclidean_dist_2)\n",
    "print(euclidean_dist_1 < euclidean_dist_2)\n",
    "# assert euclidean_dist_1 < euclidean_dist_2  # should be true\n",
    "\n",
    "cosine_sim_1 = F.cosine_similarity(sentence_u_1_gram[None, :], sentence_k_1_gram[None, :])[0].item()\n",
    "cosine_sim_2 = F.cosine_similarity(sentence_v_1_gram[None, :], sentence_u_1_gram[None, :])[0].item()\n",
    "\n",
    "print(cosine_sim_1, cosine_sim_2)\n",
    "print(cosine_sim_1 < cosine_sim_2)\n",
    "# assert not cosine_sim_1 < cosine_sim_2  # should be false"
   ]
  },
  {
   "cell_type": "code",
   "execution_count": 56,
   "metadata": {},
   "outputs": [
    {
     "data": {
      "text/plain": [
       "(torch.Size([1024]), torch.Size([1024]), torch.Size([1024]))"
      ]
     },
     "execution_count": 56,
     "metadata": {},
     "output_type": "execute_result"
    }
   ],
   "source": [
    "with torch.no_grad():\n",
    "    sentence_v_transformers = model(**sentence_v_tokenized).last_hidden_state[0, 0, :]\n",
    "    sentence_u_transformers = model(**sentence_u_tokenized).last_hidden_state[0, 0, :]\n",
    "    sentence_k_transformers = model(**sentence_k_tokenized).last_hidden_state[0, 0, :]\n",
    "\n",
    "sentence_v_transformers.shape, sentence_u_transformers.shape, sentence_k_transformers.shape"
   ]
  },
  {
   "cell_type": "code",
   "execution_count": 57,
   "metadata": {},
   "outputs": [
    {
     "name": "stdout",
     "output_type": "stream",
     "text": [
      "17.151620864868164 16.00449562072754\n",
      "False\n",
      "0.40056076645851135 0.4910770058631897\n",
      "True\n"
     ]
    }
   ],
   "source": [
    "euclidean_dist_1 = torch.linalg.vector_norm(sentence_u_transformers - sentence_k_transformers).item()\n",
    "euclidean_dist_2 = torch.linalg.vector_norm(sentence_v_transformers - sentence_u_transformers).item()\n",
    "\n",
    "print(euclidean_dist_1, euclidean_dist_2)\n",
    "print(euclidean_dist_1 < euclidean_dist_2)  # should be false, but turns out to be true\n",
    "\n",
    "cosine_sim_1 = F.cosine_similarity(sentence_u_transformers[None, :], sentence_k_transformers[None, :])[0].item()\n",
    "cosine_sim_2 = F.cosine_similarity(sentence_v_transformers[None, :], sentence_u_transformers[None, :])[0].item()\n",
    "\n",
    "print(cosine_sim_1, cosine_sim_2)\n",
    "print(cosine_sim_1 < cosine_sim_2)  # should be true, but turns out to be false"
   ]
  },
  {
   "cell_type": "markdown",
   "metadata": {
    "id": "3cYlBfxxkkS5"
   },
   "source": [
    "# Conclusion\n",
    "\n",
    "Some conclusion"
   ]
  }
 ],
 "metadata": {
  "accelerator": "GPU",
  "colab": {
   "collapsed_sections": [],
   "name": "easy-captcha-fastai-v2.ipynb",
   "provenance": [],
   "toc_visible": true
  },
  "kernelspec": {
   "display_name": "Python 3 (ipykernel)",
   "language": "python",
   "name": "python3"
  },
  "language_info": {
   "codemirror_mode": {
    "name": "ipython",
    "version": 3
   },
   "file_extension": ".py",
   "mimetype": "text/x-python",
   "name": "python",
   "nbconvert_exporter": "python",
   "pygments_lexer": "ipython3",
   "version": "3.12.2"
  }
 },
 "nbformat": 4,
 "nbformat_minor": 4
}
