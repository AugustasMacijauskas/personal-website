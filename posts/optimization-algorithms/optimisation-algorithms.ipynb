{
 "cells": [
  {
   "cell_type": "raw",
   "metadata": {},
   "source": [
    "---\n",
    "title: Implementing optimisation algorithms to optimise parameters of linear functions\n",
    "description: A sandbox notebook which I used to play around with optimizers.\n",
    "author: Augustas Macijauskas\n",
    "date: \"2021/05/01\"\n",
    "image: optimization.jpg\n",
    "image-alt: Optimization surface\n",
    "toc: true\n",
    "categories: [machine-learning, deep-learning]\n",
    "draft: false\n",
    "---"
   ]
  },
  {
   "cell_type": "markdown",
   "metadata": {
    "id": "C4GutaJHmEat"
   },
   "source": [
    "# Imports\n",
    "\n",
    "Toggle cells below if you want to see what imports are being made."
   ]
  },
  {
   "cell_type": "code",
   "execution_count": 2,
   "metadata": {
    "id": "KgLKXHDkmEau"
   },
   "outputs": [],
   "source": [
    "#|code-fold: true\n",
    "%load_ext autoreload\n",
    "%autoreload 2\n",
    "\n",
    "%matplotlib inline\n",
    "\n",
    "import numpy as np\n",
    "import matplotlib.pyplot as plt"
   ]
  },
  {
   "cell_type": "markdown",
   "metadata": {
    "id": "2WAyEqzmmEau"
   },
   "source": [
    "# Data"
   ]
  },
  {
   "cell_type": "markdown",
   "metadata": {},
   "source": [
    "Let's create 100 `x` values uniformly distributed between 0 and 100. Note the usage of a random seed for reproducibility:"
   ]
  },
  {
   "cell_type": "code",
   "execution_count": 3,
   "metadata": {},
   "outputs": [],
   "source": [
    "np.random.seed(0)\n",
    "x = np.random.uniform(0, 100, size=100)"
   ]
  },
  {
   "cell_type": "markdown",
   "metadata": {},
   "source": [
    "Calculate `y` values for the given `x` values. I chose a slope of -2 and an intercept of 10 and decided not to add noise to make the task easier:"
   ]
  },
  {
   "cell_type": "code",
   "execution_count": 4,
   "metadata": {},
   "outputs": [],
   "source": [
    "slope = -2\n",
    "intercept = 10\n",
    "y = slope * x + intercept"
   ]
  },
  {
   "cell_type": "markdown",
   "metadata": {},
   "source": [
    "Let's plot the points to check that everything looks as it should be:"
   ]
  },
  {
   "cell_type": "code",
   "execution_count": 5,
   "metadata": {},
   "outputs": [
    {
     "data": {
      "image/png": "[encoded data removed]",
      "text/plain": [
       "<Figure size 432x288 with 1 Axes>"
      ]
     },
     "metadata": {
      "needs_background": "light"
     },
     "output_type": "display_data"
    }
   ],
   "source": [
    "plt.scatter(x, y)\n",
    "plt.plot(x, slope * x + intercept, color=\"red\");"
   ]
  },
  {
   "cell_type": "markdown",
   "metadata": {
    "id": "XbK48S6wmEa4"
   },
   "source": [
    "# Prepare for the experiments\n",
    "\n",
    "Let's create some classes and functions that will help us to quickly experiment with different optimization algorithms."
   ]
  },
  {
   "cell_type": "markdown",
   "metadata": {},
   "source": [
    "We start by creating our simple `LinearModel` whose parameters we'll try to optimize. Here we choose to initialize both the slope and the intercept with the value `1`, but this should not matter too much for this problem.\n",
    "\n",
    "The `forward` method performs the forward pass of the model to get a prediction for a given `x`, i.e. just return `ax+b`.\n",
    "\n",
    "The `backward` method is used to calculate gradients of the parameters given `x`, `y` and `y_pred`. These are usually calculated using automatic differentiation in deep learning libraries, such as PyTorch, but here we do everything by hand:"
   ]
  },
  {
   "cell_type": "code",
   "execution_count": 6,
   "metadata": {},
   "outputs": [],
   "source": [
    "class LinearModel:\n",
    "    def __init__(self, initial_slope=1, initial_intercept=1):\n",
    "        self.slope = initial_slope\n",
    "        self.intercept = initial_intercept\n",
    "    \n",
    "    def forward(self, x):\n",
    "        return self.slope * x + self.intercept\n",
    "    \n",
    "    def backward(self, x, y, y_pred):\n",
    "        return x * (y_pred - y), (y_pred - y)"
   ]
  },
  {
   "cell_type": "markdown",
   "metadata": {},
   "source": [
    "The `Tracker` utility class will be used to track different values while experimenting. It can be considered an overkill for such a simple task (and I later ended up tracking only one value with it), but it can be very convenient for larger projects, so I included it here too.\n",
    "\n",
    "The class stores a dictionary of `string-list` pairs in its state and provides `add_record` and `get_values` methods to easily access and update that dictionary."
   ]
  },
  {
   "cell_type": "code",
   "execution_count": 7,
   "metadata": {},
   "outputs": [],
   "source": [
    "from collections import defaultdict\n",
    "\n",
    "class Tracker:\n",
    "    def __init__(self):\n",
    "        self.tracker = defaultdict(list)\n",
    "    \n",
    "    def add_record(self, key, value):\n",
    "        self.tracker[key].append(value)\n",
    "    \n",
    "    def get_values(self, key):\n",
    "        if not key in self.tracker: raise KeyError(f\"Key {key} not in tracker\")\n",
    "\n",
    "        return self.tracker[key]"
   ]
  },
  {
   "cell_type": "markdown",
   "metadata": {},
   "source": [
    "`train_one_epoch` is a utility function that trains the model for one epoch (one pass through the data). It performs a forward pass, calculates and tracks the error, gets the gradients of parameters by performing a backward pass and passes those along with the `params` parameter to the optimizer that updates the weights of the model. The `params` parameter is a dictionary that is used to hyperparameter constants, such as the learning rate, to the optimizer."
   ]
  },
  {
   "cell_type": "code",
   "execution_count": 8,
   "metadata": {},
   "outputs": [],
   "source": [
    "def train_one_epoch(model, data, optimizer, tracker, params):\n",
    "    total_error = 0.0\n",
    "    \n",
    "    for x, y in data:\n",
    "        # Forward pass\n",
    "        y_pred = model.forward(x)\n",
    "        \n",
    "        # Calculate error\n",
    "        error = 0.5 * (y_pred - y) ** 2\n",
    "        total_error += error\n",
    "\n",
    "        # Backward pass\n",
    "        grad_slope, grad_intercept = model.backward(x, y, y_pred)\n",
    "        \n",
    "        # Step the optimizer\n",
    "        params[\"step\"] += 1\n",
    "        optimizer.step(model, grad_slope, grad_intercept, params)\n",
    "\n",
    "    tracker.add_record(\"error\", total_error / len(data))"
   ]
  },
  {
   "cell_type": "markdown",
   "metadata": {},
   "source": [
    "Finally, a utility function that brings everything together to execute an experiment. Our goal is to train the model for as little as possible, stopping when error drops below some desired threshold."
   ]
  },
  {
   "cell_type": "code",
   "execution_count": 9,
   "metadata": {},
   "outputs": [],
   "source": [
    "def perform_experiment(optimizer, params, desired_error=1e-8):\n",
    "    # Initialization\n",
    "    model = LinearModel()\n",
    "    data = list(zip(x, y))\n",
    "    tracker = Tracker()\n",
    "    \n",
    "    params[\"step\"] = 0\n",
    "    while True:\n",
    "        # Train for an epoch\n",
    "        train_one_epoch(model, data, optimizer, tracker, params)\n",
    "        \n",
    "        # Check if we reached desired accuracy\n",
    "        if tracker.get_values(\"error\")[-1] <= desired_error:\n",
    "            break\n",
    "        \n",
    "        # Improper hyperparameter values might cause the models to diverge,\n",
    "        # so we include this here to stop execution if this happens\n",
    "        if np.isnan(tracker.get_values(\"error\")[-1]):\n",
    "            break\n",
    "    \n",
    "    # Print results and plot error over time\n",
    "    steps = params[\"step\"]\n",
    "    print(f\"Epochs: {steps // len(data)}\")\n",
    "    print(f\"Batches (of size 1): {steps}\")\n",
    "    print(f\"Slope: {model.slope}\")\n",
    "    print(f\"Intercept: {model.intercept}\")\n",
    "    plt.plot(tracker.get_values(\"error\"), linestyle=\"dotted\")\n",
    "    \n",
    "    return params[\"step\"] // len(data), params[\"step\"], model.slope, model.intercept"
   ]
  },
  {
   "cell_type": "markdown",
   "metadata": {
    "id": "kghJ1M4NmEa0"
   },
   "source": [
    "# Vanilla SGD"
   ]
  },
  {
   "cell_type": "code",
   "execution_count": 10,
   "metadata": {
    "id": "8vvodLJUd8wF"
   },
   "outputs": [],
   "source": [
    "class SGDOptimizer:\n",
    "    def step(self, model, grad_slope, grad_intercept, params):\n",
    "        lr = params[\"lr\"]\n",
    "        model.slope -= lr * grad_slope\n",
    "        model.intercept -= lr * grad_intercept"
   ]
  },
  {
   "cell_type": "code",
   "execution_count": 11,
   "metadata": {},
   "outputs": [
    {
     "name": "stdout",
     "output_type": "stream",
     "text": [
      "Epochs: 3893\n",
      "Batches (of size 1): 389300\n",
      "Slope: -1.9999963788900519\n",
      "Intercept: 9.999738575620166\n"
     ]
    },
    {
     "data": {
      "image/png": "[encoded data removed]",
      "text/plain": [
       "<Figure size 432x288 with 1 Axes>"
      ]
     },
     "metadata": {
      "needs_background": "light"
     },
     "output_type": "display_data"
    }
   ],
   "source": [
    "optimizer = SGDOptimizer()\n",
    "params = { \"lr\": 1e-4 }\n",
    "perform_experiment(optimizer, params);"
   ]
  },
  {
   "cell_type": "markdown",
   "metadata": {},
   "source": [
    "Breaks with `lr=1e-3`"
   ]
  },
  {
   "cell_type": "markdown",
   "metadata": {},
   "source": [
    "# SGD with momentum"
   ]
  },
  {
   "cell_type": "code",
   "execution_count": 12,
   "metadata": {},
   "outputs": [],
   "source": [
    "class SGDWithMomentumOptimizer(SGDOptimizer):\n",
    "    def __init__(self):\n",
    "        self.slope_momentum = self.intercept_momentum = 0\n",
    "    \n",
    "    def step(self, model, grad_slope, grad_intercept, params):\n",
    "        lr = params[\"lr\"]\n",
    "        miu = params[\"miu\"]\n",
    "        self.slope_momentum = miu * self.slope_momentum + (1 - miu) * grad_slope\n",
    "        model.slope -= lr * self.slope_momentum\n",
    "\n",
    "        self.intercept_momentum = miu * self.intercept_momentum + (1 - miu) * grad_intercept\n",
    "        model.intercept -= lr * self.intercept_momentum"
   ]
  },
  {
   "cell_type": "code",
   "execution_count": 13,
   "metadata": {},
   "outputs": [
    {
     "name": "stdout",
     "output_type": "stream",
     "text": [
      "Epochs: 3844\n",
      "Batches (of size 1): 384400\n",
      "Slope: -1.9999951526911044\n",
      "Intercept: 9.999742134759243\n"
     ]
    },
    {
     "data": {
      "image/png": "[encoded data removed]",
      "text/plain": [
       "<Figure size 432x288 with 1 Axes>"
      ]
     },
     "metadata": {
      "needs_background": "light"
     },
     "output_type": "display_data"
    }
   ],
   "source": [
    "optimizer = SGDWithMomentumOptimizer()\n",
    "params = { \"lr\": 1e-4, \"miu\": 0.9 }\n",
    "perform_experiment(optimizer, params);"
   ]
  },
  {
   "cell_type": "code",
   "execution_count": 14,
   "metadata": {},
   "outputs": [
    {
     "name": "stdout",
     "output_type": "stream",
     "text": [
      "Epochs: 365\n",
      "Batches (of size 1): 36500\n",
      "Slope: -1.9999980020599053\n",
      "Intercept: 9.999929876584854\n"
     ]
    },
    {
     "data": {
      "image/png": "[encoded data removed]",
      "text/plain": [
       "<Figure size 432x288 with 1 Axes>"
      ]
     },
     "metadata": {
      "needs_background": "light"
     },
     "output_type": "display_data"
    }
   ],
   "source": [
    "optimizer = SGDWithMomentumOptimizer()\n",
    "params = { \"lr\": 1e-3, \"miu\": 0.9 }\n",
    "perform_experiment(optimizer, params);"
   ]
  },
  {
   "cell_type": "markdown",
   "metadata": {},
   "source": [
    "# RMSprop"
   ]
  },
  {
   "cell_type": "code",
   "execution_count": 15,
   "metadata": {},
   "outputs": [],
   "source": [
    "class RMSpropOptimizer(SGDOptimizer):\n",
    "    def __init__(self, eps=1e-8):\n",
    "        self.eps = eps\n",
    "        self.slope_squared_grads = self.intercept_squared_grads = 0\n",
    "    \n",
    "    def step(self, model, grad_slope, grad_intercept, params):\n",
    "        lr = params[\"lr\"]\n",
    "        decay_rate = params[\"decay_rate\"]\n",
    "        self.slope_squared_grads = decay_rate * self.slope_squared_grads + (1 - decay_rate) * grad_slope ** 2\n",
    "        model.slope -= lr * grad_slope / (np.sqrt(self.slope_squared_grads) + self.eps)\n",
    "\n",
    "        self.intercept_squared_grads = decay_rate * self.intercept_squared_grads + (1 - decay_rate) * grad_intercept ** 2\n",
    "        model.intercept -= lr * grad_intercept / (np.sqrt(self.intercept_squared_grads) + self.eps)"
   ]
  },
  {
   "cell_type": "code",
   "execution_count": 16,
   "metadata": {},
   "outputs": [
    {
     "name": "stdout",
     "output_type": "stream",
     "text": [
      "Epochs: 2765\n",
      "Batches (of size 1): 276500\n",
      "Slope: -1.9999999858447193\n",
      "Intercept: 9.999996406289089\n"
     ]
    },
    {
     "data": {
      "image/png": "[encoded data removed]",
      "text/plain": [
       "<Figure size 432x288 with 1 Axes>"
      ]
     },
     "metadata": {
      "needs_background": "light"
     },
     "output_type": "display_data"
    }
   ],
   "source": [
    "optimizer = RMSpropOptimizer()\n",
    "params = { \"lr\": 1e-4, \"decay_rate\": 0.99 }\n",
    "perform_experiment(optimizer, params);"
   ]
  },
  {
   "cell_type": "code",
   "execution_count": 17,
   "metadata": {},
   "outputs": [
    {
     "name": "stdout",
     "output_type": "stream",
     "text": [
      "Epochs: 302\n",
      "Batches (of size 1): 30200\n",
      "Slope: -1.9999998782649515\n",
      "Intercept: 9.999976783670757\n"
     ]
    },
    {
     "data": {
      "image/png": "[encoded data removed]",
      "text/plain": [
       "<Figure size 432x288 with 1 Axes>"
      ]
     },
     "metadata": {
      "needs_background": "light"
     },
     "output_type": "display_data"
    }
   ],
   "source": [
    "optimizer = RMSpropOptimizer()\n",
    "params = { \"lr\": 1e-3, \"decay_rate\": 0.99 }\n",
    "perform_experiment(optimizer, params);"
   ]
  },
  {
   "cell_type": "code",
   "execution_count": 18,
   "metadata": {},
   "outputs": [
    {
     "name": "stdout",
     "output_type": "stream",
     "text": [
      "Epochs: 113\n",
      "Batches (of size 1): 11300\n",
      "Slope: -2.0000001115561656\n",
      "Intercept: 10.000020816756175\n"
     ]
    },
    {
     "data": {
      "image/png": "[encoded data removed]",
      "text/plain": [
       "<Figure size 432x288 with 1 Axes>"
      ]
     },
     "metadata": {
      "needs_background": "light"
     },
     "output_type": "display_data"
    }
   ],
   "source": [
    "optimizer = RMSpropOptimizer()\n",
    "params = { \"lr\": 3e-3, \"decay_rate\": 0.99 }\n",
    "perform_experiment(optimizer, params);"
   ]
  },
  {
   "cell_type": "markdown",
   "metadata": {},
   "source": [
    "Works best with `lr=3e-3` and `decay_rate=0.99`."
   ]
  },
  {
   "cell_type": "code",
   "execution_count": 19,
   "metadata": {},
   "outputs": [
    {
     "name": "stdout",
     "output_type": "stream",
     "text": [
      "Epochs: 83323\n",
      "Batches (of size 1): 8332300\n",
      "Slope: -2.000000169655216\n",
      "Intercept: 10.000030570050711\n"
     ]
    },
    {
     "data": {
      "image/png": "[encoded data removed]",
      "text/plain": [
       "<Figure size 432x288 with 1 Axes>"
      ]
     },
     "metadata": {
      "needs_background": "light"
     },
     "output_type": "display_data"
    }
   ],
   "source": [
    "optimizer = RMSpropOptimizer()\n",
    "params = { \"lr\": 1e1, \"decay_rate\": 0.99 }\n",
    "perform_experiment(optimizer, params);"
   ]
  },
  {
   "cell_type": "markdown",
   "metadata": {},
   "source": [
    "# Adam"
   ]
  },
  {
   "cell_type": "code",
   "execution_count": 20,
   "metadata": {},
   "outputs": [],
   "source": [
    "class Adam(SGDOptimizer):\n",
    "    def __init__(self, eps=1e-8):\n",
    "        self.eps = eps\n",
    "        \n",
    "        self.slope_momentum = self.intercept_momentum = 0\n",
    "        self.slope_squared_grads = self.intercept_squared_grads = 0\n",
    "    \n",
    "    def step(self, model, grad_slope, grad_intercept, params):\n",
    "        lr = params[\"lr\"]\n",
    "        beta1, beta2 = params[\"betas\"]\n",
    "        step = params[\"step\"]\n",
    "        \n",
    "        self.slope_momentum = beta1 * self.slope_momentum + (1 - beta1) * grad_slope\n",
    "        slope_corrected_momentum = self.slope_momentum / (1 - beta1 ** step)\n",
    "        self.slope_squared_grads = beta2 * self.slope_squared_grads + (1 - beta2) * grad_slope ** 2\n",
    "        slope_corrected_squared_grads = self.slope_squared_grads / (1 - beta2 ** step)\n",
    "        model.slope -= lr * slope_corrected_momentum / (np.sqrt(slope_corrected_squared_grads) + self.eps)\n",
    "\n",
    "        self.intercept_momentum = beta1 * self.intercept_momentum + (1 - beta1) * grad_intercept\n",
    "        intercept_corrected_momentum = self.intercept_momentum / (1 - beta1 ** step)\n",
    "        self.intercept_squared_grads = beta2 * self.intercept_squared_grads + (1 - beta2) * grad_intercept ** 2\n",
    "        intercept_corrected_squared_grads = self.intercept_squared_grads / (1 - beta2 ** step)\n",
    "        model.intercept -= lr * intercept_corrected_momentum / (np.sqrt(intercept_corrected_squared_grads) + self.eps)\n"
   ]
  },
  {
   "cell_type": "code",
   "execution_count": 21,
   "metadata": {},
   "outputs": [
    {
     "name": "stdout",
     "output_type": "stream",
     "text": [
      "Epochs: 2848\n",
      "Batches (of size 1): 284800\n",
      "Slope: -1.9999980335219065\n",
      "Intercept: 9.999814585095613\n"
     ]
    },
    {
     "data": {
      "image/png": "[encoded data removed]",
      "text/plain": [
       "<Figure size 432x288 with 1 Axes>"
      ]
     },
     "metadata": {
      "needs_background": "light"
     },
     "output_type": "display_data"
    }
   ],
   "source": [
    "optimizer = Adam()\n",
    "params = { \"lr\": 1e-4, \"betas\": (0.9, 0.999) }\n",
    "perform_experiment(optimizer, params);"
   ]
  },
  {
   "cell_type": "code",
   "execution_count": 22,
   "metadata": {},
   "outputs": [
    {
     "name": "stdout",
     "output_type": "stream",
     "text": [
      "Epochs: 10\n",
      "Batches (of size 1): 1000\n",
      "Slope: -2.00000001786048\n",
      "Intercept: 10.000001361061178\n"
     ]
    },
    {
     "data": {
      "image/png": "[encoded data removed]",
      "text/plain": [
       "<Figure size 432x288 with 1 Axes>"
      ]
     },
     "metadata": {
      "needs_background": "light"
     },
     "output_type": "display_data"
    }
   ],
   "source": [
    "optimizer = Adam()\n",
    "params = { \"lr\": 1e0, \"betas\": (0.9, 0.999) }\n",
    "perform_experiment(optimizer, params);"
   ]
  },
  {
   "cell_type": "markdown",
   "metadata": {},
   "source": [
    "Adam seems to be of the order of 10 times faster than other optimization methods and works with much greater learning rates"
   ]
  },
  {
   "cell_type": "code",
   "execution_count": 23,
   "metadata": {},
   "outputs": [
    {
     "name": "stdout",
     "output_type": "stream",
     "text": [
      "Epochs: 43\n",
      "Batches (of size 1): 4300\n",
      "Slope: -2.000001151784137\n",
      "Intercept: 9.999987336010909\n"
     ]
    },
    {
     "data": {
      "image/png": "[encoded data removed]",
      "text/plain": [
       "<Figure size 432x288 with 1 Axes>"
      ]
     },
     "metadata": {
      "needs_background": "light"
     },
     "output_type": "display_data"
    }
   ],
   "source": [
    "optimizer = Adam()\n",
    "params = { \"lr\": 1e8, \"betas\": (0.9, 0.999) }\n",
    "perform_experiment(optimizer, params);"
   ]
  },
  {
   "cell_type": "markdown",
   "metadata": {},
   "source": [
    "In this very easy case of parameters of a linear curve estimation it works with learning rates as large as `1e8`, whereas the largest learning rate that still works among other methods is `1e1` for RMSprop. However, the graphs there showed that oscillations in the error were all over the place, while Adam barely oscillated at all."
   ]
  },
  {
   "cell_type": "code",
   "execution_count": 24,
   "metadata": {},
   "outputs": [
    {
     "name": "stdout",
     "output_type": "stream",
     "text": [
      "Epochs: 72\n",
      "Batches (of size 1): 7200\n",
      "Slope: -2.0\n",
      "Intercept: 10.0\n"
     ]
    },
    {
     "data": {
      "image/png": "[encoded data removed]",
      "text/plain": [
       "<Figure size 432x288 with 1 Axes>"
      ]
     },
     "metadata": {
      "needs_background": "light"
     },
     "output_type": "display_data"
    }
   ],
   "source": [
    "optimizer = Adam()\n",
    "params = { \"lr\": 6e-2, \"betas\": (0.9, 0.999) }\n",
    "perform_experiment(optimizer, params, 1e-32);"
   ]
  },
  {
   "cell_type": "markdown",
   "metadata": {},
   "source": [
    "Also, Adam is the only optimizer that was able to achieve an error as little as `1e-32`. Even though out of the box the number of steps (in epochs) was of the same order as for other optimization methods, some hyperparameter tinkering allowed to top them by reducing the number of steps to 72. "
   ]
  }
 ],
 "metadata": {
  "accelerator": "GPU",
  "colab": {
   "collapsed_sections": [],
   "name": "easy-captcha-fastai-v2.ipynb",
   "provenance": [],
   "toc_visible": true
  },
  "kernelspec": {
   "display_name": "Python 3 (ipykernel)",
   "language": "python",
   "name": "python3"
  },
  "language_info": {
   "codemirror_mode": {
    "name": "ipython",
    "version": 3
   },
   "file_extension": ".py",
   "mimetype": "text/x-python",
   "name": "python",
   "nbconvert_exporter": "python",
   "pygments_lexer": "ipython3",
   "version": "3.11.4"
  }
 },
 "nbformat": 4,
 "nbformat_minor": 4
}
