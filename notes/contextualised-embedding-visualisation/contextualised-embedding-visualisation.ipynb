{
 "cells": [
  {
   "cell_type": "raw",
   "metadata": {
    "vscode": {
     "languageId": "raw"
    }
   },
   "source": [
    "---\n",
    "title: Visualising contextualised large language model embeddings with context\n",
    "description: Large language models (predictably) learn to represent the semantic meaning of sentences.\n",
    "author: Augustas Macijauskas\n",
    "date: \"2024/04/10\"\n",
    "image: dalle-3-contextualised-embedding-visualisation.webp\n",
    "image-alt: Visualising contextualised LLM embeddings as imaged by DALL-E 3\n",
    "toc: true\n",
    "categories: [deep learning, LLMs, visualisation]\n",
    "draft: false\n",
    "---"
   ]
  },
  {
   "cell_type": "markdown",
   "metadata": {},
   "source": [
    "# Visualising contextualised large language model embeddings with context\n",
    "\n",
    "A follow up on <a href=\"https://x.com/augustasmac/status/1775980024245444758\" target=\"_blank\">this</a> post."
   ]
  },
  {
   "cell_type": "markdown",
   "metadata": {
    "id": "C4GutaJHmEat"
   },
   "source": [
    "## Imports\n",
    "\n",
    "Toggle cells below if you want to see what imports are being made."
   ]
  },
  {
   "cell_type": "code",
   "execution_count": 43,
   "metadata": {
    "id": "Oi5gbToTf2Nb"
   },
   "outputs": [
    {
     "name": "stdout",
     "output_type": "stream",
     "text": [
      "The autoreload extension is already loaded. To reload it, use:\n",
      "  %reload_ext autoreload\n"
     ]
    }
   ],
   "source": [
    "#|code-fold: true\n",
    "%load_ext autoreload\n",
    "%autoreload 2"
   ]
  },
  {
   "cell_type": "code",
   "execution_count": 44,
   "metadata": {},
   "outputs": [],
   "source": [
    "#|code-fold: true\n",
    "import torch\n",
    "import torch.nn.functional as F\n",
    "from transformers import AutoModel, AutoTokenizer"
   ]
  },
  {
   "cell_type": "markdown",
   "metadata": {},
   "source": [
    "## Utils"
   ]
  },
  {
   "cell_type": "markdown",
   "metadata": {},
   "source": [
    "Use `[CLS]` pooling according to [this](https://huggingface.co/mixedbread-ai/mxbai-embed-large-v1):"
   ]
  },
  {
   "cell_type": "code",
   "execution_count": 45,
   "metadata": {},
   "outputs": [],
   "source": [
    "def compute_sentence_embedding(sentence: str, model, tokenizer):\n",
    "    sentence_tokenized = tokenizer(sentence, return_tensors=\"pt\")\n",
    "\n",
    "    print(f\"Num tokens: {sentence_tokenized[\"input_ids\"].shape[1]}\")\n",
    "\n",
    "    with torch.no_grad():\n",
    "        return model(**sentence_tokenized).last_hidden_state[0, 0, :]\n"
   ]
  },
  {
   "cell_type": "code",
   "execution_count": 46,
   "metadata": {},
   "outputs": [],
   "source": [
    "def perform_distance_comparison(s1, s2, s3):\n",
    "    euclidean_dist_1 = torch.linalg.vector_norm(s1 - s2).item()\n",
    "    euclidean_dist_2 = torch.linalg.vector_norm(s1 - s3).item()\n",
    "\n",
    "    print(f\"|s1 - s2| = {euclidean_dist_1:.3f}\")\n",
    "    print(f\"|s1 - s3| = {euclidean_dist_2:.3f}\")\n",
    "    print(f\"|s1 - s2| < |s1 - s3| = {euclidean_dist_1 < euclidean_dist_2}\")\n",
    "\n",
    "    cosine_sim_1 = F.cosine_similarity(s1[None, :], s2[None, :])[0].item()\n",
    "    cosine_sim_2 = F.cosine_similarity(s1[None, :], s3[None, :])[0].item()\n",
    "\n",
    "    print(f\"sim(s1, s2) = {cosine_sim_1:.3f}\")\n",
    "    print(f\"sim(s1, s3) = {cosine_sim_2:.3f}\")\n",
    "    print(f\"sim(s1, s2) > sim(s1, s3) = {cosine_sim_1 > cosine_sim_2}\")\n"
   ]
  },
  {
   "cell_type": "markdown",
   "metadata": {},
   "source": [
    "## Easier example"
   ]
  },
  {
   "cell_type": "code",
   "execution_count": 47,
   "metadata": {},
   "outputs": [],
   "source": [
    "model_name = \"google-bert/bert-base-cased\"\n",
    "model = AutoModel.from_pretrained(model_name)\n",
    "tokenizer = AutoTokenizer.from_pretrained(model_name)"
   ]
  },
  {
   "cell_type": "code",
   "execution_count": 48,
   "metadata": {},
   "outputs": [],
   "source": [
    "sentence_1 = \"sensitive information\"\n",
    "sentence_2 = \"confidential details\"\n",
    "sentence_3 = \"sensitive individual\""
   ]
  },
  {
   "cell_type": "code",
   "execution_count": 49,
   "metadata": {},
   "outputs": [
    {
     "name": "stdout",
     "output_type": "stream",
     "text": [
      "Num tokens: 4\n",
      "Num tokens: 4\n",
      "Num tokens: 4\n"
     ]
    },
    {
     "data": {
      "text/plain": [
       "(torch.Size([768]), torch.Size([768]), torch.Size([768]))"
      ]
     },
     "execution_count": 49,
     "metadata": {},
     "output_type": "execute_result"
    }
   ],
   "source": [
    "sentence_1_transformers = compute_sentence_embedding(sentence_1, model, tokenizer)\n",
    "sentence_2_transformers = compute_sentence_embedding(sentence_2, model, tokenizer)\n",
    "sentence_3_transformers = compute_sentence_embedding(sentence_3, model, tokenizer)\n",
    "\n",
    "sentence_1_transformers.shape, sentence_2_transformers.shape, sentence_3_transformers.shape"
   ]
  },
  {
   "cell_type": "code",
   "execution_count": 50,
   "metadata": {},
   "outputs": [
    {
     "name": "stdout",
     "output_type": "stream",
     "text": [
      "|s1 - s2| = 4.981\n",
      "|s1 - s3| = 6.788\n",
      "|s1 - s2| < |s1 - s3| = True\n",
      "sim(s1, s2) = 0.955\n",
      "sim(s1, s3) = 0.900\n",
      "sim(s1, s2) > sim(s1, s3) = True\n"
     ]
    }
   ],
   "source": [
    "# Both should be true\n",
    "perform_distance_comparison(\n",
    "    sentence_1_transformers, sentence_2_transformers, sentence_3_transformers\n",
    ")"
   ]
  },
  {
   "cell_type": "markdown",
   "metadata": {},
   "source": [
    "## Harder example"
   ]
  },
  {
   "cell_type": "code",
   "execution_count": 51,
   "metadata": {},
   "outputs": [],
   "source": [
    "sentence_1 = \"your data removal request has been reviewed and concluded\"\n",
    "sentence_2 = \"the sensitive personal information has been deleted\"\n",
    "sentence_3 = \"she has been a sensitive person\""
   ]
  },
  {
   "cell_type": "code",
   "execution_count": 52,
   "metadata": {},
   "outputs": [
    {
     "name": "stdout",
     "output_type": "stream",
     "text": [
      "Num tokens: 11\n",
      "Num tokens: 9\n",
      "Num tokens: 8\n"
     ]
    },
    {
     "data": {
      "text/plain": [
       "(torch.Size([768]), torch.Size([768]), torch.Size([768]))"
      ]
     },
     "execution_count": 52,
     "metadata": {},
     "output_type": "execute_result"
    }
   ],
   "source": [
    "sentence_1_transformers = compute_sentence_embedding(sentence_1, model, tokenizer)\n",
    "sentence_2_transformers = compute_sentence_embedding(sentence_2, model, tokenizer)\n",
    "sentence_3_transformers = compute_sentence_embedding(sentence_3, model, tokenizer)\n",
    "\n",
    "sentence_1_transformers.shape, sentence_2_transformers.shape, sentence_3_transformers.shape"
   ]
  },
  {
   "cell_type": "code",
   "execution_count": 53,
   "metadata": {},
   "outputs": [
    {
     "name": "stdout",
     "output_type": "stream",
     "text": [
      "|s1 - s2| = 5.626\n",
      "|s1 - s3| = 7.529\n",
      "|s1 - s2| < |s1 - s3| = True\n",
      "sim(s1, s2) = 0.941\n",
      "sim(s1, s3) = 0.893\n",
      "sim(s1, s2) > sim(s1, s3) = True\n"
     ]
    }
   ],
   "source": [
    "# Both should be true\n",
    "perform_distance_comparison(\n",
    "    sentence_1_transformers, sentence_2_transformers, sentence_3_transformers\n",
    ")"
   ]
  },
  {
   "cell_type": "markdown",
   "metadata": {},
   "source": [
    "## Try the same with a text embedding model"
   ]
  },
  {
   "cell_type": "code",
   "execution_count": 54,
   "metadata": {},
   "outputs": [],
   "source": [
    "model_name = \"mixedbread-ai/mxbai-embed-large-v1\"\n",
    "model = AutoModel.from_pretrained(model_name)\n",
    "tokenizer = AutoTokenizer.from_pretrained(model_name)"
   ]
  },
  {
   "cell_type": "code",
   "execution_count": 55,
   "metadata": {},
   "outputs": [
    {
     "name": "stdout",
     "output_type": "stream",
     "text": [
      "Num tokens: 11\n",
      "Num tokens: 9\n",
      "Num tokens: 8\n"
     ]
    },
    {
     "data": {
      "text/plain": [
       "(torch.Size([1024]), torch.Size([1024]), torch.Size([1024]))"
      ]
     },
     "execution_count": 55,
     "metadata": {},
     "output_type": "execute_result"
    }
   ],
   "source": [
    "sentence_1_transformers = compute_sentence_embedding(sentence_1, model, tokenizer)\n",
    "sentence_2_transformers = compute_sentence_embedding(sentence_2, model, tokenizer)\n",
    "sentence_3_transformers = compute_sentence_embedding(sentence_3, model, tokenizer)\n",
    "\n",
    "sentence_1_transformers.shape, sentence_2_transformers.shape, sentence_3_transformers.shape"
   ]
  },
  {
   "cell_type": "code",
   "execution_count": 56,
   "metadata": {},
   "outputs": [
    {
     "name": "stdout",
     "output_type": "stream",
     "text": [
      "|s1 - s2| = 14.404\n",
      "|s1 - s3| = 19.134\n",
      "|s1 - s2| < |s1 - s3| = True\n",
      "sim(s1, s2) = 0.672\n",
      "sim(s1, s3) = 0.372\n",
      "sim(s1, s2) > sim(s1, s3) = True\n"
     ]
    }
   ],
   "source": [
    "perform_distance_comparison(\n",
    "    sentence_1_transformers, sentence_2_transformers, sentence_3_transformers\n",
    ")"
   ]
  }
 ],
 "metadata": {
  "accelerator": "GPU",
  "colab": {
   "collapsed_sections": [],
   "name": "easy-captcha-fastai-v2.ipynb",
   "provenance": [],
   "toc_visible": true
  },
  "kernelspec": {
   "display_name": "Python 3 (ipykernel)",
   "language": "python",
   "name": "python3"
  },
  "language_info": {
   "codemirror_mode": {
    "name": "ipython",
    "version": 3
   },
   "file_extension": ".py",
   "mimetype": "text/x-python",
   "name": "python",
   "nbconvert_exporter": "python",
   "pygments_lexer": "ipython3",
   "version": "3.12.2"
  }
 },
 "nbformat": 4,
 "nbformat_minor": 4
}
