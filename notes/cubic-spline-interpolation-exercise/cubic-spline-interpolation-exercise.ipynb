{
 "cells": [
  {
   "cell_type": "raw",
   "metadata": {
    "vscode": {
     "languageId": "raw"
    }
   },
   "source": [
    "---\n",
    "title: Cubic spline interpolation exercise\n",
    "description: Large language models (predictably) learn to represent the semantic meaning of sentences.\n",
    "author: Augustas Macijauskas\n",
    "date: \"2024/04/13\"\n",
    "image: dalle-3-cubic-spline-interpolation-exercise.webp\n",
    "image-alt: Cubic spline interpolation as imaged by DALL-E 3\n",
    "toc: true\n",
    "categories: [scientific computing, numerical methods]\n",
    "draft: false\n",
    "---"
   ]
  },
  {
   "cell_type": "markdown",
   "metadata": {},
   "source": [
    "# Cubic spline interpolation exercise\n",
    "\n",
    "I somehow stumbled upon cubic spline interpolation quite accidentally, but it caught my interest with all of the neat linear algebra and scientific computing techniques behind it. This got me excited to revise materials from my undergrad classes and try to implement the method in Python from scratch.\n",
    "\n",
    "Resources:\n",
    "\n",
    "1. The scipy <a href=\"https://docs.scipy.org/doc/scipy/reference/generated/scipy.interpolate.CubicSpline.html\" target=\"_blank\">scipy implementation</a> of the method.\n",
    "1. <a href=\"https://en.wikiversity.org/wiki/Cubic_Spline_Interpolation\" target=\"_blank\">Cubic Spline Interpolation</a> on Wikiversity."
   ]
  },
  {
   "cell_type": "markdown",
   "metadata": {
    "id": "C4GutaJHmEat"
   },
   "source": [
    "## Imports\n",
    "\n",
    "Toggle cells below if you want to see what imports are being made."
   ]
  },
  {
   "cell_type": "code",
   "execution_count": 95,
   "metadata": {
    "id": "Oi5gbToTf2Nb"
   },
   "outputs": [
    {
     "name": "stdout",
     "output_type": "stream",
     "text": [
      "The autoreload extension is already loaded. To reload it, use:\n",
      "  %reload_ext autoreload\n"
     ]
    }
   ],
   "source": [
    "#|code-fold: true\n",
    "%load_ext autoreload\n",
    "%autoreload 2"
   ]
  },
  {
   "cell_type": "code",
   "execution_count": 96,
   "metadata": {},
   "outputs": [],
   "source": [
    "#|code-fold: true\n",
    "import numpy as np\n",
    "import plotly.graph_objects as go\n",
    "from scipy.interpolate import CubicSpline\n",
    "\n",
    "# Ensures we can render plotly plots with quarto\n",
    "import plotly.io as pio\n",
    "pio.renderers.default = \"plotly_mimetype+notebook_connected\""
   ]
  },
  {
   "cell_type": "markdown",
   "metadata": {},
   "source": [
    "## Data"
   ]
  },
  {
   "cell_type": "markdown",
   "metadata": {},
   "source": [
    "## Cubic spline interpolation with scipy"
   ]
  },
  {
   "cell_type": "code",
   "execution_count": 97,
   "metadata": {},
   "outputs": [],
   "source": [
    "x_train = np.linspace(0, 10, 11)\n",
    "y_train = np.sin(x_train) + np.random.normal(0, 0.5, 11)"
   ]
  },
  {
   "cell_type": "code",
   "execution_count": 98,
   "metadata": {},
   "outputs": [],
   "source": [
    "cs = CubicSpline(x_train, y_train, bc_type=\"natural\", extrapolate=True)\n",
    "\n",
    "x_test = np.linspace(-1, 11, 121)\n",
    "y_test = cs(x_test)"
   ]
  },
  {
   "cell_type": "code",
   "execution_count": 99,
   "metadata": {},
   "outputs": [
    {
     "data": {
      "text/html": [
       "        <script type=\"text/javascript\">\n",
       "        window.PlotlyConfig = {MathJaxConfig: 'local'};\n",
       "        if (window.MathJax && window.MathJax.Hub && window.MathJax.Hub.Config) {window.MathJax.Hub.Config({SVG: {font: \"STIX-Web\"}});}\n",
       "        if (typeof require !== 'undefined') {\n",
       "        require.undef(\"plotly\");\n",
       "        requirejs.config({\n",
       "            paths: {\n",
       "                'plotly': ['https://cdn.plot.ly/plotly-2.30.0.min']\n",
       "            }\n",
       "        });\n",
       "        require(['plotly'], function(Plotly) {\n",
       "            window._Plotly = Plotly;\n",
       "        });\n",
       "        }\n",
       "        </script>\n",
       "        "
      ]
     },
     "metadata": {},
     "output_type": "display_data"
    },
    {
     "data": {
      "application/vnd.plotly.v1+json": {
       "config": {
        "plotlyServerURL": "https://plot.ly"
       },
       "data": [
        {
         "mode": "markers",
         "name": "Original points",
         "type": "scatter",
         "x": [
          0,
          1,
          2,
          3,
          4,
          5,
          6,
          7,
          8,
          9,
          10
         ],
         "y": [
          0.580364487363645,
          0.5063698568363647,
          0.9040584355700104,
          1.3729084985300553,
          -1.8534271745982762,
          -0.8582989436130031,
          0.039411772898621744,
          1.0751590041828851,
          0.7422782958160838,
          0.4865140767201376,
          -0.2105880414864575
         ]
        },
        {
         "mode": "lines",
         "name": "Fitted line",
         "type": "scatter",
         "x": [
          -1,
          -0.9,
          -0.8,
          -0.7,
          -0.6,
          -0.5,
          -0.3999999999999999,
          -0.29999999999999993,
          -0.19999999999999996,
          -0.09999999999999998,
          0,
          0.10000000000000009,
          0.20000000000000018,
          0.30000000000000004,
          0.40000000000000013,
          0.5,
          0.6000000000000001,
          0.7000000000000002,
          0.8,
          0.9000000000000001,
          1,
          1.1,
          1.2000000000000002,
          1.3000000000000003,
          1.4000000000000004,
          1.5,
          1.6,
          1.7000000000000002,
          1.8000000000000003,
          1.9000000000000004,
          2,
          2.1,
          2.2,
          2.3000000000000003,
          2.4000000000000004,
          2.5,
          2.6,
          2.7,
          2.8000000000000003,
          2.9000000000000004,
          3,
          3.1000000000000005,
          3.2,
          3.3,
          3.4000000000000004,
          3.5,
          3.6000000000000005,
          3.7,
          3.8000000000000007,
          3.9000000000000004,
          4,
          4.1000000000000005,
          4.2,
          4.300000000000001,
          4.4,
          4.5,
          4.6000000000000005,
          4.7,
          4.800000000000001,
          4.9,
          5,
          5.1000000000000005,
          5.2,
          5.300000000000001,
          5.4,
          5.5,
          5.6000000000000005,
          5.7,
          5.800000000000001,
          5.9,
          6,
          6.1000000000000005,
          6.2,
          6.300000000000001,
          6.4,
          6.5,
          6.6000000000000005,
          6.7,
          6.800000000000001,
          6.9,
          7,
          7.1,
          7.200000000000001,
          7.300000000000001,
          7.4,
          7.5,
          7.6,
          7.700000000000001,
          7.800000000000001,
          7.9,
          8,
          8.1,
          8.200000000000001,
          8.3,
          8.4,
          8.5,
          8.600000000000001,
          8.700000000000001,
          8.8,
          8.9,
          9,
          9.100000000000001,
          9.200000000000001,
          9.3,
          9.4,
          9.5,
          9.600000000000001,
          9.700000000000001,
          9.8,
          9.9,
          10,
          10.100000000000001,
          10.200000000000001,
          10.3,
          10.4,
          10.5,
          10.600000000000001,
          10.700000000000001,
          10.8,
          10.9,
          11
         ],
         "y": [
          0.6543591178909252,
          0.6517653432777065,
          0.6476539828414848,
          0.6421936572292606,
          0.635552987088034,
          0.6279005930648055,
          0.6194050958065753,
          0.6102351159603439,
          0.6005592741731115,
          0.5905461910918783,
          0.580364487363645,
          0.5701827836354116,
          0.5601697005541785,
          0.5504938587669461,
          0.5413238789207147,
          0.5328283816624845,
          0.525175987639256,
          0.5185353174980295,
          0.5130749918858051,
          0.5089636314495835,
          0.5063698568363647,
          0.5057653512554098,
          0.5088340481650222,
          0.5175629435857656,
          0.533939033538204,
          0.5599493140429014,
          0.5975807811204218,
          0.6488204307913289,
          0.7156552590761869,
          0.8000722619955596,
          0.9040584355700104,
          1.0275163206367663,
          1.1620106372997014,
          1.297021650479353,
          1.4220296250962574,
          1.526514826070951,
          1.5999575183239716,
          1.6318379667758554,
          1.6116364363471392,
          1.52883319195836,
          1.3729084985300553,
          1.1380115536585698,
          0.8369672856434973,
          0.48726955546023626,
          0.10641222408418313,
          -0.2881108475092552,
          -0.6788057983446854,
          -1.0481787674467005,
          -1.3787358938399061,
          -1.6529833165488963,
          -1.8534271745982762,
          -1.9674818856720315,
          -2.002194982091699,
          -1.9695222748382053,
          -1.881419574892477,
          -1.7498426932354392,
          -1.586747440848016,
          -1.4040896287111355,
          -1.2138250678057219,
          -1.0279095691127031,
          -0.8582989436130031,
          -0.7142203513845955,
          -0.5939863488936545,
          -0.493180841703399,
          -0.40738773537705136,
          -0.3321909354778315,
          -0.2631743475689598,
          -0.19592187721365828,
          -0.12601742997514637,
          -0.04904491141664613,
          0.039411772898621744,
          0.14231672790285582,
          0.25682610050992283,
          0.3786440481291115,
          0.5034747281697063,
          0.6270222980409953,
          0.7449909151522658,
          0.8530847369128027,
          0.9470079207318944,
          1.022464624018826,
          1.0751590041828851,
          1.1021324072650662,
          1.105774933833193,
          1.089813873086798,
          1.0579765142254123,
          1.0139901464485683,
          0.9615820589557974,
          0.9044795409466309,
          0.8464098816206025,
          0.7911003701772428,
          0.7422782958160838,
          0.702726591597755,
          0.6714507660272754,
          0.6465119714707638,
          0.6259713602943371,
          0.6078900848641128,
          0.590329297546208,
          0.5713501507067407,
          0.5490137967118284,
          0.521381387927588,
          0.4865140767201376,
          0.4429490525621921,
          0.39112765335286376,
          0.33196725409786115,
          0.26638522980289364,
          0.19529895547367046,
          0.11962580611589949,
          0.040283156735292716,
          -0.041811617662441874,
          -0.12574114207159506,
          -0.2105880414864575,
          -0.2954349409013215,
          -0.3793644653104747,
          -0.46145923970820923,
          -0.540801889088816,
          -0.6164750384465854,
          -0.68756131277581,
          -0.7531433370707774,
          -0.8123037363257801,
          -0.8641251355351083,
          -0.9076901596930531
         ]
        }
       ],
       "layout": {
        "template": {
         "data": {
          "bar": [
           {
            "error_x": {
             "color": "#2a3f5f"
            },
            "error_y": {
             "color": "#2a3f5f"
            },
            "marker": {
             "line": {
              "color": "#E5ECF6",
              "width": 0.5
             },
             "pattern": {
              "fillmode": "overlay",
              "size": 10,
              "solidity": 0.2
             }
            },
            "type": "bar"
           }
          ],
          "barpolar": [
           {
            "marker": {
             "line": {
              "color": "#E5ECF6",
              "width": 0.5
             },
             "pattern": {
              "fillmode": "overlay",
              "size": 10,
              "solidity": 0.2
             }
            },
            "type": "barpolar"
           }
          ],
          "carpet": [
           {
            "aaxis": {
             "endlinecolor": "#2a3f5f",
             "gridcolor": "white",
             "linecolor": "white",
             "minorgridcolor": "white",
             "startlinecolor": "#2a3f5f"
            },
            "baxis": {
             "endlinecolor": "#2a3f5f",
             "gridcolor": "white",
             "linecolor": "white",
             "minorgridcolor": "white",
             "startlinecolor": "#2a3f5f"
            },
            "type": "carpet"
           }
          ],
          "choropleth": [
           {
            "colorbar": {
             "outlinewidth": 0,
             "ticks": ""
            },
            "type": "choropleth"
           }
          ],
          "contour": [
           {
            "colorbar": {
             "outlinewidth": 0,
             "ticks": ""
            },
            "colorscale": [
             [
              0,
              "#0d0887"
             ],
             [
              0.1111111111111111,
              "#46039f"
             ],
             [
              0.2222222222222222,
              "#7201a8"
             ],
             [
              0.3333333333333333,
              "#9c179e"
             ],
             [
              0.4444444444444444,
              "#bd3786"
             ],
             [
              0.5555555555555556,
              "#d8576b"
             ],
             [
              0.6666666666666666,
              "#ed7953"
             ],
             [
              0.7777777777777778,
              "#fb9f3a"
             ],
             [
              0.8888888888888888,
              "#fdca26"
             ],
             [
              1,
              "#f0f921"
             ]
            ],
            "type": "contour"
           }
          ],
          "contourcarpet": [
           {
            "colorbar": {
             "outlinewidth": 0,
             "ticks": ""
            },
            "type": "contourcarpet"
           }
          ],
          "heatmap": [
           {
            "colorbar": {
             "outlinewidth": 0,
             "ticks": ""
            },
            "colorscale": [
             [
              0,
              "#0d0887"
             ],
             [
              0.1111111111111111,
              "#46039f"
             ],
             [
              0.2222222222222222,
              "#7201a8"
             ],
             [
              0.3333333333333333,
              "#9c179e"
             ],
             [
              0.4444444444444444,
              "#bd3786"
             ],
             [
              0.5555555555555556,
              "#d8576b"
             ],
             [
              0.6666666666666666,
              "#ed7953"
             ],
             [
              0.7777777777777778,
              "#fb9f3a"
             ],
             [
              0.8888888888888888,
              "#fdca26"
             ],
             [
              1,
              "#f0f921"
             ]
            ],
            "type": "heatmap"
           }
          ],
          "heatmapgl": [
           {
            "colorbar": {
             "outlinewidth": 0,
             "ticks": ""
            },
            "colorscale": [
             [
              0,
              "#0d0887"
             ],
             [
              0.1111111111111111,
              "#46039f"
             ],
             [
              0.2222222222222222,
              "#7201a8"
             ],
             [
              0.3333333333333333,
              "#9c179e"
             ],
             [
              0.4444444444444444,
              "#bd3786"
             ],
             [
              0.5555555555555556,
              "#d8576b"
             ],
             [
              0.6666666666666666,
              "#ed7953"
             ],
             [
              0.7777777777777778,
              "#fb9f3a"
             ],
             [
              0.8888888888888888,
              "#fdca26"
             ],
             [
              1,
              "#f0f921"
             ]
            ],
            "type": "heatmapgl"
           }
          ],
          "histogram": [
           {
            "marker": {
             "pattern": {
              "fillmode": "overlay",
              "size": 10,
              "solidity": 0.2
             }
            },
            "type": "histogram"
           }
          ],
          "histogram2d": [
           {
            "colorbar": {
             "outlinewidth": 0,
             "ticks": ""
            },
            "colorscale": [
             [
              0,
              "#0d0887"
             ],
             [
              0.1111111111111111,
              "#46039f"
             ],
             [
              0.2222222222222222,
              "#7201a8"
             ],
             [
              0.3333333333333333,
              "#9c179e"
             ],
             [
              0.4444444444444444,
              "#bd3786"
             ],
             [
              0.5555555555555556,
              "#d8576b"
             ],
             [
              0.6666666666666666,
              "#ed7953"
             ],
             [
              0.7777777777777778,
              "#fb9f3a"
             ],
             [
              0.8888888888888888,
              "#fdca26"
             ],
             [
              1,
              "#f0f921"
             ]
            ],
            "type": "histogram2d"
           }
          ],
          "histogram2dcontour": [
           {
            "colorbar": {
             "outlinewidth": 0,
             "ticks": ""
            },
            "colorscale": [
             [
              0,
              "#0d0887"
             ],
             [
              0.1111111111111111,
              "#46039f"
             ],
             [
              0.2222222222222222,
              "#7201a8"
             ],
             [
              0.3333333333333333,
              "#9c179e"
             ],
             [
              0.4444444444444444,
              "#bd3786"
             ],
             [
              0.5555555555555556,
              "#d8576b"
             ],
             [
              0.6666666666666666,
              "#ed7953"
             ],
             [
              0.7777777777777778,
              "#fb9f3a"
             ],
             [
              0.8888888888888888,
              "#fdca26"
             ],
             [
              1,
              "#f0f921"
             ]
            ],
            "type": "histogram2dcontour"
           }
          ],
          "mesh3d": [
           {
            "colorbar": {
             "outlinewidth": 0,
             "ticks": ""
            },
            "type": "mesh3d"
           }
          ],
          "parcoords": [
           {
            "line": {
             "colorbar": {
              "outlinewidth": 0,
              "ticks": ""
             }
            },
            "type": "parcoords"
           }
          ],
          "pie": [
           {
            "automargin": true,
            "type": "pie"
           }
          ],
          "scatter": [
           {
            "fillpattern": {
             "fillmode": "overlay",
             "size": 10,
             "solidity": 0.2
            },
            "type": "scatter"
           }
          ],
          "scatter3d": [
           {
            "line": {
             "colorbar": {
              "outlinewidth": 0,
              "ticks": ""
             }
            },
            "marker": {
             "colorbar": {
              "outlinewidth": 0,
              "ticks": ""
             }
            },
            "type": "scatter3d"
           }
          ],
          "scattercarpet": [
           {
            "marker": {
             "colorbar": {
              "outlinewidth": 0,
              "ticks": ""
             }
            },
            "type": "scattercarpet"
           }
          ],
          "scattergeo": [
           {
            "marker": {
             "colorbar": {
              "outlinewidth": 0,
              "ticks": ""
             }
            },
            "type": "scattergeo"
           }
          ],
          "scattergl": [
           {
            "marker": {
             "colorbar": {
              "outlinewidth": 0,
              "ticks": ""
             }
            },
            "type": "scattergl"
           }
          ],
          "scattermapbox": [
           {
            "marker": {
             "colorbar": {
              "outlinewidth": 0,
              "ticks": ""
             }
            },
            "type": "scattermapbox"
           }
          ],
          "scatterpolar": [
           {
            "marker": {
             "colorbar": {
              "outlinewidth": 0,
              "ticks": ""
             }
            },
            "type": "scatterpolar"
           }
          ],
          "scatterpolargl": [
           {
            "marker": {
             "colorbar": {
              "outlinewidth": 0,
              "ticks": ""
             }
            },
            "type": "scatterpolargl"
           }
          ],
          "scatterternary": [
           {
            "marker": {
             "colorbar": {
              "outlinewidth": 0,
              "ticks": ""
             }
            },
            "type": "scatterternary"
           }
          ],
          "surface": [
           {
            "colorbar": {
             "outlinewidth": 0,
             "ticks": ""
            },
            "colorscale": [
             [
              0,
              "#0d0887"
             ],
             [
              0.1111111111111111,
              "#46039f"
             ],
             [
              0.2222222222222222,
              "#7201a8"
             ],
             [
              0.3333333333333333,
              "#9c179e"
             ],
             [
              0.4444444444444444,
              "#bd3786"
             ],
             [
              0.5555555555555556,
              "#d8576b"
             ],
             [
              0.6666666666666666,
              "#ed7953"
             ],
             [
              0.7777777777777778,
              "#fb9f3a"
             ],
             [
              0.8888888888888888,
              "#fdca26"
             ],
             [
              1,
              "#f0f921"
             ]
            ],
            "type": "surface"
           }
          ],
          "table": [
           {
            "cells": {
             "fill": {
              "color": "#EBF0F8"
             },
             "line": {
              "color": "white"
             }
            },
            "header": {
             "fill": {
              "color": "#C8D4E3"
             },
             "line": {
              "color": "white"
             }
            },
            "type": "table"
           }
          ]
         },
         "layout": {
          "annotationdefaults": {
           "arrowcolor": "#2a3f5f",
           "arrowhead": 0,
           "arrowwidth": 1
          },
          "autotypenumbers": "strict",
          "coloraxis": {
           "colorbar": {
            "outlinewidth": 0,
            "ticks": ""
           }
          },
          "colorscale": {
           "diverging": [
            [
             0,
             "#8e0152"
            ],
            [
             0.1,
             "#c51b7d"
            ],
            [
             0.2,
             "#de77ae"
            ],
            [
             0.3,
             "#f1b6da"
            ],
            [
             0.4,
             "#fde0ef"
            ],
            [
             0.5,
             "#f7f7f7"
            ],
            [
             0.6,
             "#e6f5d0"
            ],
            [
             0.7,
             "#b8e186"
            ],
            [
             0.8,
             "#7fbc41"
            ],
            [
             0.9,
             "#4d9221"
            ],
            [
             1,
             "#276419"
            ]
           ],
           "sequential": [
            [
             0,
             "#0d0887"
            ],
            [
             0.1111111111111111,
             "#46039f"
            ],
            [
             0.2222222222222222,
             "#7201a8"
            ],
            [
             0.3333333333333333,
             "#9c179e"
            ],
            [
             0.4444444444444444,
             "#bd3786"
            ],
            [
             0.5555555555555556,
             "#d8576b"
            ],
            [
             0.6666666666666666,
             "#ed7953"
            ],
            [
             0.7777777777777778,
             "#fb9f3a"
            ],
            [
             0.8888888888888888,
             "#fdca26"
            ],
            [
             1,
             "#f0f921"
            ]
           ],
           "sequentialminus": [
            [
             0,
             "#0d0887"
            ],
            [
             0.1111111111111111,
             "#46039f"
            ],
            [
             0.2222222222222222,
             "#7201a8"
            ],
            [
             0.3333333333333333,
             "#9c179e"
            ],
            [
             0.4444444444444444,
             "#bd3786"
            ],
            [
             0.5555555555555556,
             "#d8576b"
            ],
            [
             0.6666666666666666,
             "#ed7953"
            ],
            [
             0.7777777777777778,
             "#fb9f3a"
            ],
            [
             0.8888888888888888,
             "#fdca26"
            ],
            [
             1,
             "#f0f921"
            ]
           ]
          },
          "colorway": [
           "#636efa",
           "#EF553B",
           "#00cc96",
           "#ab63fa",
           "#FFA15A",
           "#19d3f3",
           "#FF6692",
           "#B6E880",
           "#FF97FF",
           "#FECB52"
          ],
          "font": {
           "color": "#2a3f5f"
          },
          "geo": {
           "bgcolor": "white",
           "lakecolor": "white",
           "landcolor": "#E5ECF6",
           "showlakes": true,
           "showland": true,
           "subunitcolor": "white"
          },
          "hoverlabel": {
           "align": "left"
          },
          "hovermode": "closest",
          "mapbox": {
           "style": "light"
          },
          "paper_bgcolor": "white",
          "plot_bgcolor": "#E5ECF6",
          "polar": {
           "angularaxis": {
            "gridcolor": "white",
            "linecolor": "white",
            "ticks": ""
           },
           "bgcolor": "#E5ECF6",
           "radialaxis": {
            "gridcolor": "white",
            "linecolor": "white",
            "ticks": ""
           }
          },
          "scene": {
           "xaxis": {
            "backgroundcolor": "#E5ECF6",
            "gridcolor": "white",
            "gridwidth": 2,
            "linecolor": "white",
            "showbackground": true,
            "ticks": "",
            "zerolinecolor": "white"
           },
           "yaxis": {
            "backgroundcolor": "#E5ECF6",
            "gridcolor": "white",
            "gridwidth": 2,
            "linecolor": "white",
            "showbackground": true,
            "ticks": "",
            "zerolinecolor": "white"
           },
           "zaxis": {
            "backgroundcolor": "#E5ECF6",
            "gridcolor": "white",
            "gridwidth": 2,
            "linecolor": "white",
            "showbackground": true,
            "ticks": "",
            "zerolinecolor": "white"
           }
          },
          "shapedefaults": {
           "line": {
            "color": "#2a3f5f"
           }
          },
          "ternary": {
           "aaxis": {
            "gridcolor": "white",
            "linecolor": "white",
            "ticks": ""
           },
           "baxis": {
            "gridcolor": "white",
            "linecolor": "white",
            "ticks": ""
           },
           "bgcolor": "#E5ECF6",
           "caxis": {
            "gridcolor": "white",
            "linecolor": "white",
            "ticks": ""
           }
          },
          "title": {
           "x": 0.05
          },
          "xaxis": {
           "automargin": true,
           "gridcolor": "white",
           "linecolor": "white",
           "ticks": "",
           "title": {
            "standoff": 15
           },
           "zerolinecolor": "white",
           "zerolinewidth": 2
          },
          "yaxis": {
           "automargin": true,
           "gridcolor": "white",
           "linecolor": "white",
           "ticks": "",
           "title": {
            "standoff": 15
           },
           "zerolinecolor": "white",
           "zerolinewidth": 2
          }
         }
        },
        "title": {
         "text": "Scipy interpolation"
        },
        "xaxis": {
         "title": {
          "text": "time"
         }
        },
        "yaxis": {
         "title": {
          "text": "heart rate"
         }
        }
       }
      },
      "text/html": [
       "<div>                            <div id=\"cf01c436-b2e9-4e6a-8003-51ebc77e473d\" class=\"plotly-graph-div\" style=\"height:525px; width:100%;\"></div>            <script type=\"text/javascript\">                require([\"plotly\"], function(Plotly) {                    window.PLOTLYENV=window.PLOTLYENV || {};                                    if (document.getElementById(\"cf01c436-b2e9-4e6a-8003-51ebc77e473d\")) {                    Plotly.newPlot(                        \"cf01c436-b2e9-4e6a-8003-51ebc77e473d\",                        [{\"mode\":\"markers\",\"name\":\"Original points\",\"x\":[0.0,1.0,2.0,3.0,4.0,5.0,6.0,7.0,8.0,9.0,10.0],\"y\":[0.580364487363645,0.5063698568363647,0.9040584355700104,1.3729084985300553,-1.8534271745982762,-0.8582989436130031,0.039411772898621744,1.0751590041828851,0.7422782958160838,0.4865140767201376,-0.2105880414864575],\"type\":\"scatter\"},{\"mode\":\"lines\",\"name\":\"Fitted line\",\"x\":[-1.0,-0.9,-0.8,-0.7,-0.6,-0.5,-0.3999999999999999,-0.29999999999999993,-0.19999999999999996,-0.09999999999999998,0.0,0.10000000000000009,0.20000000000000018,0.30000000000000004,0.40000000000000013,0.5,0.6000000000000001,0.7000000000000002,0.8,0.9000000000000001,1.0,1.1,1.2000000000000002,1.3000000000000003,1.4000000000000004,1.5,1.6,1.7000000000000002,1.8000000000000003,1.9000000000000004,2.0,2.1,2.2,2.3000000000000003,2.4000000000000004,2.5,2.6,2.7,2.8000000000000003,2.9000000000000004,3.0,3.1000000000000005,3.2,3.3,3.4000000000000004,3.5,3.6000000000000005,3.7,3.8000000000000007,3.9000000000000004,4.0,4.1000000000000005,4.2,4.300000000000001,4.4,4.5,4.6000000000000005,4.7,4.800000000000001,4.9,5.0,5.1000000000000005,5.2,5.300000000000001,5.4,5.5,5.6000000000000005,5.7,5.800000000000001,5.9,6.0,6.1000000000000005,6.2,6.300000000000001,6.4,6.5,6.6000000000000005,6.7,6.800000000000001,6.9,7.0,7.1,7.200000000000001,7.300000000000001,7.4,7.5,7.6,7.700000000000001,7.800000000000001,7.9,8.0,8.1,8.200000000000001,8.3,8.4,8.5,8.600000000000001,8.700000000000001,8.8,8.9,9.0,9.100000000000001,9.200000000000001,9.3,9.4,9.5,9.600000000000001,9.700000000000001,9.8,9.9,10.0,10.100000000000001,10.200000000000001,10.3,10.4,10.5,10.600000000000001,10.700000000000001,10.8,10.9,11.0],\"y\":[0.6543591178909252,0.6517653432777065,0.6476539828414848,0.6421936572292606,0.635552987088034,0.6279005930648055,0.6194050958065753,0.6102351159603439,0.6005592741731115,0.5905461910918783,0.580364487363645,0.5701827836354116,0.5601697005541785,0.5504938587669461,0.5413238789207147,0.5328283816624845,0.525175987639256,0.5185353174980295,0.5130749918858051,0.5089636314495835,0.5063698568363647,0.5057653512554098,0.5088340481650222,0.5175629435857656,0.533939033538204,0.5599493140429014,0.5975807811204218,0.6488204307913289,0.7156552590761869,0.8000722619955596,0.9040584355700104,1.0275163206367663,1.1620106372997014,1.297021650479353,1.4220296250962574,1.526514826070951,1.5999575183239716,1.6318379667758554,1.6116364363471392,1.52883319195836,1.3729084985300553,1.1380115536585698,0.8369672856434973,0.48726955546023626,0.10641222408418313,-0.2881108475092552,-0.6788057983446854,-1.0481787674467005,-1.3787358938399061,-1.6529833165488963,-1.8534271745982762,-1.9674818856720315,-2.002194982091699,-1.9695222748382053,-1.881419574892477,-1.7498426932354392,-1.586747440848016,-1.4040896287111355,-1.2138250678057219,-1.0279095691127031,-0.8582989436130031,-0.7142203513845955,-0.5939863488936545,-0.493180841703399,-0.40738773537705136,-0.3321909354778315,-0.2631743475689598,-0.19592187721365828,-0.12601742997514637,-0.04904491141664613,0.039411772898621744,0.14231672790285582,0.25682610050992283,0.3786440481291115,0.5034747281697063,0.6270222980409953,0.7449909151522658,0.8530847369128027,0.9470079207318944,1.022464624018826,1.0751590041828851,1.1021324072650662,1.105774933833193,1.089813873086798,1.0579765142254123,1.0139901464485683,0.9615820589557974,0.9044795409466309,0.8464098816206025,0.7911003701772428,0.7422782958160838,0.702726591597755,0.6714507660272754,0.6465119714707638,0.6259713602943371,0.6078900848641128,0.590329297546208,0.5713501507067407,0.5490137967118284,0.521381387927588,0.4865140767201376,0.4429490525621921,0.39112765335286376,0.33196725409786115,0.26638522980289364,0.19529895547367046,0.11962580611589949,0.040283156735292716,-0.041811617662441874,-0.12574114207159506,-0.2105880414864575,-0.2954349409013215,-0.3793644653104747,-0.46145923970820923,-0.540801889088816,-0.6164750384465854,-0.68756131277581,-0.7531433370707774,-0.8123037363257801,-0.8641251355351083,-0.9076901596930531],\"type\":\"scatter\"}],                        {\"template\":{\"data\":{\"histogram2dcontour\":[{\"type\":\"histogram2dcontour\",\"colorbar\":{\"outlinewidth\":0,\"ticks\":\"\"},\"colorscale\":[[0.0,\"#0d0887\"],[0.1111111111111111,\"#46039f\"],[0.2222222222222222,\"#7201a8\"],[0.3333333333333333,\"#9c179e\"],[0.4444444444444444,\"#bd3786\"],[0.5555555555555556,\"#d8576b\"],[0.6666666666666666,\"#ed7953\"],[0.7777777777777778,\"#fb9f3a\"],[0.8888888888888888,\"#fdca26\"],[1.0,\"#f0f921\"]]}],\"choropleth\":[{\"type\":\"choropleth\",\"colorbar\":{\"outlinewidth\":0,\"ticks\":\"\"}}],\"histogram2d\":[{\"type\":\"histogram2d\",\"colorbar\":{\"outlinewidth\":0,\"ticks\":\"\"},\"colorscale\":[[0.0,\"#0d0887\"],[0.1111111111111111,\"#46039f\"],[0.2222222222222222,\"#7201a8\"],[0.3333333333333333,\"#9c179e\"],[0.4444444444444444,\"#bd3786\"],[0.5555555555555556,\"#d8576b\"],[0.6666666666666666,\"#ed7953\"],[0.7777777777777778,\"#fb9f3a\"],[0.8888888888888888,\"#fdca26\"],[1.0,\"#f0f921\"]]}],\"heatmap\":[{\"type\":\"heatmap\",\"colorbar\":{\"outlinewidth\":0,\"ticks\":\"\"},\"colorscale\":[[0.0,\"#0d0887\"],[0.1111111111111111,\"#46039f\"],[0.2222222222222222,\"#7201a8\"],[0.3333333333333333,\"#9c179e\"],[0.4444444444444444,\"#bd3786\"],[0.5555555555555556,\"#d8576b\"],[0.6666666666666666,\"#ed7953\"],[0.7777777777777778,\"#fb9f3a\"],[0.8888888888888888,\"#fdca26\"],[1.0,\"#f0f921\"]]}],\"heatmapgl\":[{\"type\":\"heatmapgl\",\"colorbar\":{\"outlinewidth\":0,\"ticks\":\"\"},\"colorscale\":[[0.0,\"#0d0887\"],[0.1111111111111111,\"#46039f\"],[0.2222222222222222,\"#7201a8\"],[0.3333333333333333,\"#9c179e\"],[0.4444444444444444,\"#bd3786\"],[0.5555555555555556,\"#d8576b\"],[0.6666666666666666,\"#ed7953\"],[0.7777777777777778,\"#fb9f3a\"],[0.8888888888888888,\"#fdca26\"],[1.0,\"#f0f921\"]]}],\"contourcarpet\":[{\"type\":\"contourcarpet\",\"colorbar\":{\"outlinewidth\":0,\"ticks\":\"\"}}],\"contour\":[{\"type\":\"contour\",\"colorbar\":{\"outlinewidth\":0,\"ticks\":\"\"},\"colorscale\":[[0.0,\"#0d0887\"],[0.1111111111111111,\"#46039f\"],[0.2222222222222222,\"#7201a8\"],[0.3333333333333333,\"#9c179e\"],[0.4444444444444444,\"#bd3786\"],[0.5555555555555556,\"#d8576b\"],[0.6666666666666666,\"#ed7953\"],[0.7777777777777778,\"#fb9f3a\"],[0.8888888888888888,\"#fdca26\"],[1.0,\"#f0f921\"]]}],\"surface\":[{\"type\":\"surface\",\"colorbar\":{\"outlinewidth\":0,\"ticks\":\"\"},\"colorscale\":[[0.0,\"#0d0887\"],[0.1111111111111111,\"#46039f\"],[0.2222222222222222,\"#7201a8\"],[0.3333333333333333,\"#9c179e\"],[0.4444444444444444,\"#bd3786\"],[0.5555555555555556,\"#d8576b\"],[0.6666666666666666,\"#ed7953\"],[0.7777777777777778,\"#fb9f3a\"],[0.8888888888888888,\"#fdca26\"],[1.0,\"#f0f921\"]]}],\"mesh3d\":[{\"type\":\"mesh3d\",\"colorbar\":{\"outlinewidth\":0,\"ticks\":\"\"}}],\"scatter\":[{\"fillpattern\":{\"fillmode\":\"overlay\",\"size\":10,\"solidity\":0.2},\"type\":\"scatter\"}],\"parcoords\":[{\"type\":\"parcoords\",\"line\":{\"colorbar\":{\"outlinewidth\":0,\"ticks\":\"\"}}}],\"scatterpolargl\":[{\"type\":\"scatterpolargl\",\"marker\":{\"colorbar\":{\"outlinewidth\":0,\"ticks\":\"\"}}}],\"bar\":[{\"error_x\":{\"color\":\"#2a3f5f\"},\"error_y\":{\"color\":\"#2a3f5f\"},\"marker\":{\"line\":{\"color\":\"#E5ECF6\",\"width\":0.5},\"pattern\":{\"fillmode\":\"overlay\",\"size\":10,\"solidity\":0.2}},\"type\":\"bar\"}],\"scattergeo\":[{\"type\":\"scattergeo\",\"marker\":{\"colorbar\":{\"outlinewidth\":0,\"ticks\":\"\"}}}],\"scatterpolar\":[{\"type\":\"scatterpolar\",\"marker\":{\"colorbar\":{\"outlinewidth\":0,\"ticks\":\"\"}}}],\"histogram\":[{\"marker\":{\"pattern\":{\"fillmode\":\"overlay\",\"size\":10,\"solidity\":0.2}},\"type\":\"histogram\"}],\"scattergl\":[{\"type\":\"scattergl\",\"marker\":{\"colorbar\":{\"outlinewidth\":0,\"ticks\":\"\"}}}],\"scatter3d\":[{\"type\":\"scatter3d\",\"line\":{\"colorbar\":{\"outlinewidth\":0,\"ticks\":\"\"}},\"marker\":{\"colorbar\":{\"outlinewidth\":0,\"ticks\":\"\"}}}],\"scattermapbox\":[{\"type\":\"scattermapbox\",\"marker\":{\"colorbar\":{\"outlinewidth\":0,\"ticks\":\"\"}}}],\"scatterternary\":[{\"type\":\"scatterternary\",\"marker\":{\"colorbar\":{\"outlinewidth\":0,\"ticks\":\"\"}}}],\"scattercarpet\":[{\"type\":\"scattercarpet\",\"marker\":{\"colorbar\":{\"outlinewidth\":0,\"ticks\":\"\"}}}],\"carpet\":[{\"aaxis\":{\"endlinecolor\":\"#2a3f5f\",\"gridcolor\":\"white\",\"linecolor\":\"white\",\"minorgridcolor\":\"white\",\"startlinecolor\":\"#2a3f5f\"},\"baxis\":{\"endlinecolor\":\"#2a3f5f\",\"gridcolor\":\"white\",\"linecolor\":\"white\",\"minorgridcolor\":\"white\",\"startlinecolor\":\"#2a3f5f\"},\"type\":\"carpet\"}],\"table\":[{\"cells\":{\"fill\":{\"color\":\"#EBF0F8\"},\"line\":{\"color\":\"white\"}},\"header\":{\"fill\":{\"color\":\"#C8D4E3\"},\"line\":{\"color\":\"white\"}},\"type\":\"table\"}],\"barpolar\":[{\"marker\":{\"line\":{\"color\":\"#E5ECF6\",\"width\":0.5},\"pattern\":{\"fillmode\":\"overlay\",\"size\":10,\"solidity\":0.2}},\"type\":\"barpolar\"}],\"pie\":[{\"automargin\":true,\"type\":\"pie\"}]},\"layout\":{\"autotypenumbers\":\"strict\",\"colorway\":[\"#636efa\",\"#EF553B\",\"#00cc96\",\"#ab63fa\",\"#FFA15A\",\"#19d3f3\",\"#FF6692\",\"#B6E880\",\"#FF97FF\",\"#FECB52\"],\"font\":{\"color\":\"#2a3f5f\"},\"hovermode\":\"closest\",\"hoverlabel\":{\"align\":\"left\"},\"paper_bgcolor\":\"white\",\"plot_bgcolor\":\"#E5ECF6\",\"polar\":{\"bgcolor\":\"#E5ECF6\",\"angularaxis\":{\"gridcolor\":\"white\",\"linecolor\":\"white\",\"ticks\":\"\"},\"radialaxis\":{\"gridcolor\":\"white\",\"linecolor\":\"white\",\"ticks\":\"\"}},\"ternary\":{\"bgcolor\":\"#E5ECF6\",\"aaxis\":{\"gridcolor\":\"white\",\"linecolor\":\"white\",\"ticks\":\"\"},\"baxis\":{\"gridcolor\":\"white\",\"linecolor\":\"white\",\"ticks\":\"\"},\"caxis\":{\"gridcolor\":\"white\",\"linecolor\":\"white\",\"ticks\":\"\"}},\"coloraxis\":{\"colorbar\":{\"outlinewidth\":0,\"ticks\":\"\"}},\"colorscale\":{\"sequential\":[[0.0,\"#0d0887\"],[0.1111111111111111,\"#46039f\"],[0.2222222222222222,\"#7201a8\"],[0.3333333333333333,\"#9c179e\"],[0.4444444444444444,\"#bd3786\"],[0.5555555555555556,\"#d8576b\"],[0.6666666666666666,\"#ed7953\"],[0.7777777777777778,\"#fb9f3a\"],[0.8888888888888888,\"#fdca26\"],[1.0,\"#f0f921\"]],\"sequentialminus\":[[0.0,\"#0d0887\"],[0.1111111111111111,\"#46039f\"],[0.2222222222222222,\"#7201a8\"],[0.3333333333333333,\"#9c179e\"],[0.4444444444444444,\"#bd3786\"],[0.5555555555555556,\"#d8576b\"],[0.6666666666666666,\"#ed7953\"],[0.7777777777777778,\"#fb9f3a\"],[0.8888888888888888,\"#fdca26\"],[1.0,\"#f0f921\"]],\"diverging\":[[0,\"#8e0152\"],[0.1,\"#c51b7d\"],[0.2,\"#de77ae\"],[0.3,\"#f1b6da\"],[0.4,\"#fde0ef\"],[0.5,\"#f7f7f7\"],[0.6,\"#e6f5d0\"],[0.7,\"#b8e186\"],[0.8,\"#7fbc41\"],[0.9,\"#4d9221\"],[1,\"#276419\"]]},\"xaxis\":{\"gridcolor\":\"white\",\"linecolor\":\"white\",\"ticks\":\"\",\"title\":{\"standoff\":15},\"zerolinecolor\":\"white\",\"automargin\":true,\"zerolinewidth\":2},\"yaxis\":{\"gridcolor\":\"white\",\"linecolor\":\"white\",\"ticks\":\"\",\"title\":{\"standoff\":15},\"zerolinecolor\":\"white\",\"automargin\":true,\"zerolinewidth\":2},\"scene\":{\"xaxis\":{\"backgroundcolor\":\"#E5ECF6\",\"gridcolor\":\"white\",\"linecolor\":\"white\",\"showbackground\":true,\"ticks\":\"\",\"zerolinecolor\":\"white\",\"gridwidth\":2},\"yaxis\":{\"backgroundcolor\":\"#E5ECF6\",\"gridcolor\":\"white\",\"linecolor\":\"white\",\"showbackground\":true,\"ticks\":\"\",\"zerolinecolor\":\"white\",\"gridwidth\":2},\"zaxis\":{\"backgroundcolor\":\"#E5ECF6\",\"gridcolor\":\"white\",\"linecolor\":\"white\",\"showbackground\":true,\"ticks\":\"\",\"zerolinecolor\":\"white\",\"gridwidth\":2}},\"shapedefaults\":{\"line\":{\"color\":\"#2a3f5f\"}},\"annotationdefaults\":{\"arrowcolor\":\"#2a3f5f\",\"arrowhead\":0,\"arrowwidth\":1},\"geo\":{\"bgcolor\":\"white\",\"landcolor\":\"#E5ECF6\",\"subunitcolor\":\"white\",\"showland\":true,\"showlakes\":true,\"lakecolor\":\"white\"},\"title\":{\"x\":0.05},\"mapbox\":{\"style\":\"light\"}}},\"title\":{\"text\":\"Scipy interpolation\"},\"xaxis\":{\"title\":{\"text\":\"time\"}},\"yaxis\":{\"title\":{\"text\":\"heart rate\"}}},                        {\"responsive\": true}                    ).then(function(){\n",
       "                            \n",
       "var gd = document.getElementById('cf01c436-b2e9-4e6a-8003-51ebc77e473d');\n",
       "var x = new MutationObserver(function (mutations, observer) {{\n",
       "        var display = window.getComputedStyle(gd).display;\n",
       "        if (!display || display === 'none') {{\n",
       "            console.log([gd, 'removed!']);\n",
       "            Plotly.purge(gd);\n",
       "            observer.disconnect();\n",
       "        }}\n",
       "}});\n",
       "\n",
       "// Listen for the removal of the full notebook cells\n",
       "var notebookContainer = gd.closest('#notebook-container');\n",
       "if (notebookContainer) {{\n",
       "    x.observe(notebookContainer, {childList: true});\n",
       "}}\n",
       "\n",
       "// Listen for the clearing of the current output cell\n",
       "var outputEl = gd.closest('.output');\n",
       "if (outputEl) {{\n",
       "    x.observe(outputEl, {childList: true});\n",
       "}}\n",
       "\n",
       "                        })                };                });            </script>        </div>"
      ]
     },
     "metadata": {},
     "output_type": "display_data"
    }
   ],
   "source": [
    "# Create a figure\n",
    "fig = go.Figure()\n",
    "\n",
    "# Add scatter plot\n",
    "fig.add_trace(go.Scatter(x=x_train, y=y_train, mode='markers', name='Original points'))\n",
    "\n",
    "# Add line plot\n",
    "fig.add_trace(go.Scatter(x=x_test, y=y_test, mode='lines', name='Fitted line'))\n",
    "\n",
    "# Add titles and labels\n",
    "fig.update_layout(title=\"Scipy interpolation\", xaxis_title=\"time\", yaxis_title=\"heart rate\")\n",
    "\n",
    "# Show the plot\n",
    "fig.show()\n"
   ]
  },
  {
   "cell_type": "markdown",
   "metadata": {},
   "source": [
    "## Custom implementation of cubic spline interpolation"
   ]
  },
  {
   "cell_type": "code",
   "execution_count": 100,
   "metadata": {},
   "outputs": [],
   "source": [
    "def tridiagonal_linear_system_solver(d_lower, d_main, d_upper, b):\n",
    "    \"\"\"Solve a tridiagonal linear system given the main, lower, and upper diagonals, as well as the vector b\"\"\"\n",
    "\n",
    "    n = len(d_main)\n",
    "\n",
    "    # Forward sweep\n",
    "    for i in range(1, n):\n",
    "        w = d_lower[i - 1] / d_main[i - 1]\n",
    "        d_main[i] -= w * d_upper[i - 1]\n",
    "        b[i] -= w * b[i - 1]\n",
    "\n",
    "    # Back substitution\n",
    "    x = np.zeros(n)\n",
    "    x[-1] = b[-1] / d_main[-1]\n",
    "    for i in range(n - 2, -1, -1):\n",
    "        x[i] = (b[i] - d_upper[i] * x[i + 1]) / d_main[i]\n",
    "\n",
    "    return x\n",
    "\n",
    "\n",
    "class CubicSplineCustom:\n",
    "\n",
    "    def __init__(self, x, y):\n",
    "        if not np.all(np.diff(x) > 0):\n",
    "            raise ValueError(\"x values must be in ascending order.\")\n",
    "\n",
    "        self.x = np.array(x)\n",
    "        self.y = np.array(y)\n",
    "        self._find_coeffs()\n",
    "\n",
    "    def _find_coeffs(self):\n",
    "        # Find the relevant diagonals and from self.x and self.y assuming natural boundary conditions\n",
    "        d_lower, d_main, d_upper, b, h = self._compute_diagonals_and_b()\n",
    "\n",
    "        # Compute the M_i's for i = 1, n-1 (since M_0 and M_n are assumed to be 0). This will require solving a\n",
    "        # tridiagonal linear system\n",
    "        ms = tridiagonal_linear_system_solver(d_lower, d_main, d_upper, b)\n",
    "\n",
    "        # Compute the coefficients of the cubic polynomials\n",
    "        self.c = self._compute_coefficients_from_second_derivatives(ms, h)\n",
    "\n",
    "    def _compute_diagonals_and_b(self):\n",
    "        x, y = self.x, self.y\n",
    "        h = np.diff(x)\n",
    "\n",
    "        # Compute the diagonals for the tridiagonal matrix\n",
    "        d_lower = h.copy()\n",
    "        d_lower[-1] = 0  # one of the naturals BCs\n",
    "        d_upper = h.copy()\n",
    "        d_upper[0] = 0\n",
    "\n",
    "        d_main = 2 * np.ones(len(x))\n",
    "        d_main[1:-1] *= h[:-1] + h[1:]\n",
    "\n",
    "        b = np.zeros(len(x))\n",
    "        y_diff = np.diff(y)\n",
    "        b[1:-1] = 6 * (y_diff[1:] / h[1:] - y_diff[:-1] / h[:-1])\n",
    "\n",
    "        return d_lower, d_main, d_upper, b, h\n",
    "\n",
    "    def _compute_coefficients_from_second_derivatives(self, ms, h):\n",
    "        coeffs = np.zeros((4, len(self.x) - 1))\n",
    "        coeffs[0, :] = (ms[1:] - ms[:-1]) / (6 * h)\n",
    "        coeffs[1, :] = ms[:-1] / 2\n",
    "        coeffs[2, :] = (self.y[1:] - self.y[:-1]) / h - (ms[1:] + 2 * ms[:-1]) * h / 6\n",
    "        coeffs[3, :] = self.y[:-1]\n",
    "\n",
    "        return coeffs\n",
    "\n",
    "    def _get_index(self, x):\n",
    "        \"\"\"Performs binary search\"\"\"\n",
    "        low, high = 0, len(self.x) - 1\n",
    "\n",
    "        while low < high:\n",
    "            mid = (low + high) // 2\n",
    "            if self.x[mid] <= x:\n",
    "                low = mid + 1\n",
    "            else:\n",
    "                high = mid\n",
    "\n",
    "        return min(max(low - 1, 0), len(self.x) - 2)\n",
    "\n",
    "    def interpolate(self, x: float):\n",
    "        # Find which polynomial is appropriate and evaluate at x\n",
    "        idx = self._get_index(x)\n",
    "        dx = x - self.x[idx]\n",
    "        return (self.c[0, idx] * dx + self.c[1, idx]) * dx**2 + self.c[2, idx] * dx + self.c[3, idx]\n"
   ]
  },
  {
   "cell_type": "code",
   "execution_count": 101,
   "metadata": {},
   "outputs": [
    {
     "data": {
      "text/plain": [
       "2.4400968440584284e-16"
      ]
     },
     "execution_count": 101,
     "metadata": {},
     "output_type": "execute_result"
    }
   ],
   "source": [
    "custom_spline = CubicSplineCustom(x_train, y_train)\n",
    "\n",
    "assert cs.c.shape == custom_spline.c.shape\n",
    "assert np.allclose(cs.c, custom_spline.c)\n",
    "np.sqrt(((cs.c - custom_spline.c) ** 2).mean())"
   ]
  },
  {
   "cell_type": "code",
   "execution_count": 102,
   "metadata": {},
   "outputs": [],
   "source": [
    "assert np.allclose(custom_spline.interpolate(-1), cs(-1))\n",
    "assert np.allclose(custom_spline.interpolate(86500), cs(86500))"
   ]
  },
  {
   "cell_type": "code",
   "execution_count": 103,
   "metadata": {},
   "outputs": [
    {
     "data": {
      "application/vnd.plotly.v1+json": {
       "config": {
        "plotlyServerURL": "https://plot.ly"
       },
       "data": [
        {
         "mode": "markers",
         "name": "Original data",
         "type": "scatter",
         "x": [
          0,
          1,
          2,
          3,
          4,
          5,
          6,
          7,
          8,
          9,
          10
         ],
         "y": [
          0.580364487363645,
          0.5063698568363647,
          0.9040584355700104,
          1.3729084985300553,
          -1.8534271745982762,
          -0.8582989436130031,
          0.039411772898621744,
          1.0751590041828851,
          0.7422782958160838,
          0.4865140767201376,
          -0.2105880414864575
         ]
        },
        {
         "mode": "lines",
         "name": "Fitted line",
         "type": "scatter",
         "x": [
          -1,
          -0.9,
          -0.8,
          -0.7,
          -0.6,
          -0.5,
          -0.3999999999999999,
          -0.29999999999999993,
          -0.19999999999999996,
          -0.09999999999999998,
          0,
          0.10000000000000009,
          0.20000000000000018,
          0.30000000000000004,
          0.40000000000000013,
          0.5,
          0.6000000000000001,
          0.7000000000000002,
          0.8,
          0.9000000000000001,
          1,
          1.1,
          1.2000000000000002,
          1.3000000000000003,
          1.4000000000000004,
          1.5,
          1.6,
          1.7000000000000002,
          1.8000000000000003,
          1.9000000000000004,
          2,
          2.1,
          2.2,
          2.3000000000000003,
          2.4000000000000004,
          2.5,
          2.6,
          2.7,
          2.8000000000000003,
          2.9000000000000004,
          3,
          3.1000000000000005,
          3.2,
          3.3,
          3.4000000000000004,
          3.5,
          3.6000000000000005,
          3.7,
          3.8000000000000007,
          3.9000000000000004,
          4,
          4.1000000000000005,
          4.2,
          4.300000000000001,
          4.4,
          4.5,
          4.6000000000000005,
          4.7,
          4.800000000000001,
          4.9,
          5,
          5.1000000000000005,
          5.2,
          5.300000000000001,
          5.4,
          5.5,
          5.6000000000000005,
          5.7,
          5.800000000000001,
          5.9,
          6,
          6.1000000000000005,
          6.2,
          6.300000000000001,
          6.4,
          6.5,
          6.6000000000000005,
          6.7,
          6.800000000000001,
          6.9,
          7,
          7.1,
          7.200000000000001,
          7.300000000000001,
          7.4,
          7.5,
          7.6,
          7.700000000000001,
          7.800000000000001,
          7.9,
          8,
          8.1,
          8.200000000000001,
          8.3,
          8.4,
          8.5,
          8.600000000000001,
          8.700000000000001,
          8.8,
          8.9,
          9,
          9.100000000000001,
          9.200000000000001,
          9.3,
          9.4,
          9.5,
          9.600000000000001,
          9.700000000000001,
          9.8,
          9.9,
          10,
          10.100000000000001,
          10.200000000000001,
          10.3,
          10.4,
          10.5,
          10.600000000000001,
          10.700000000000001,
          10.8,
          10.9,
          11
         ],
         "y": [
          0.6543591178909252,
          0.6517653432777065,
          0.6476539828414848,
          0.6421936572292606,
          0.635552987088034,
          0.6279005930648055,
          0.6194050958065753,
          0.6102351159603439,
          0.6005592741731115,
          0.5905461910918783,
          0.580364487363645,
          0.5701827836354116,
          0.5601697005541785,
          0.5504938587669461,
          0.5413238789207147,
          0.5328283816624845,
          0.525175987639256,
          0.5185353174980295,
          0.5130749918858051,
          0.5089636314495835,
          0.5063698568363647,
          0.5057653512554098,
          0.5088340481650222,
          0.5175629435857656,
          0.533939033538204,
          0.5599493140429014,
          0.5975807811204218,
          0.6488204307913289,
          0.7156552590761869,
          0.8000722619955596,
          0.9040584355700104,
          1.0275163206367663,
          1.1620106372997014,
          1.297021650479353,
          1.4220296250962574,
          1.526514826070951,
          1.5999575183239716,
          1.6318379667758554,
          1.6116364363471392,
          1.52883319195836,
          1.3729084985300553,
          1.1380115536585698,
          0.8369672856434973,
          0.48726955546023626,
          0.10641222408418313,
          -0.2881108475092552,
          -0.6788057983446854,
          -1.0481787674467005,
          -1.3787358938399061,
          -1.6529833165488963,
          -1.8534271745982762,
          -1.9674818856720315,
          -2.002194982091699,
          -1.9695222748382053,
          -1.881419574892477,
          -1.7498426932354392,
          -1.586747440848016,
          -1.4040896287111355,
          -1.2138250678057219,
          -1.0279095691127031,
          -0.8582989436130031,
          -0.7142203513845955,
          -0.5939863488936545,
          -0.493180841703399,
          -0.40738773537705136,
          -0.3321909354778315,
          -0.2631743475689598,
          -0.19592187721365828,
          -0.12601742997514637,
          -0.04904491141664613,
          0.039411772898621744,
          0.14231672790285582,
          0.25682610050992283,
          0.3786440481291115,
          0.5034747281697063,
          0.6270222980409953,
          0.7449909151522658,
          0.8530847369128027,
          0.9470079207318944,
          1.022464624018826,
          1.0751590041828851,
          1.1021324072650662,
          1.105774933833193,
          1.089813873086798,
          1.0579765142254123,
          1.0139901464485683,
          0.9615820589557974,
          0.9044795409466309,
          0.8464098816206025,
          0.7911003701772428,
          0.7422782958160838,
          0.702726591597755,
          0.6714507660272754,
          0.6465119714707638,
          0.6259713602943371,
          0.6078900848641128,
          0.590329297546208,
          0.5713501507067407,
          0.5490137967118284,
          0.521381387927588,
          0.4865140767201376,
          0.4429490525621921,
          0.39112765335286376,
          0.33196725409786115,
          0.26638522980289364,
          0.19529895547367046,
          0.11962580611589949,
          0.040283156735292716,
          -0.041811617662441874,
          -0.12574114207159506,
          -0.2105880414864575,
          -0.2954349409013215,
          -0.3793644653104747,
          -0.46145923970820923,
          -0.540801889088816,
          -0.6164750384465854,
          -0.68756131277581,
          -0.7531433370707774,
          -0.8123037363257801,
          -0.8641251355351083,
          -0.9076901596930531
         ]
        },
        {
         "line": {
          "dash": "longdash"
         },
         "mode": "lines",
         "name": "Fitted line (custom)",
         "type": "scatter",
         "x": [
          -1,
          -0.9,
          -0.8,
          -0.7,
          -0.6,
          -0.5,
          -0.3999999999999999,
          -0.29999999999999993,
          -0.19999999999999996,
          -0.09999999999999998,
          0,
          0.10000000000000009,
          0.20000000000000018,
          0.30000000000000004,
          0.40000000000000013,
          0.5,
          0.6000000000000001,
          0.7000000000000002,
          0.8,
          0.9000000000000001,
          1,
          1.1,
          1.2000000000000002,
          1.3000000000000003,
          1.4000000000000004,
          1.5,
          1.6,
          1.7000000000000002,
          1.8000000000000003,
          1.9000000000000004,
          2,
          2.1,
          2.2,
          2.3000000000000003,
          2.4000000000000004,
          2.5,
          2.6,
          2.7,
          2.8000000000000003,
          2.9000000000000004,
          3,
          3.1000000000000005,
          3.2,
          3.3,
          3.4000000000000004,
          3.5,
          3.6000000000000005,
          3.7,
          3.8000000000000007,
          3.9000000000000004,
          4,
          4.1000000000000005,
          4.2,
          4.300000000000001,
          4.4,
          4.5,
          4.6000000000000005,
          4.7,
          4.800000000000001,
          4.9,
          5,
          5.1000000000000005,
          5.2,
          5.300000000000001,
          5.4,
          5.5,
          5.6000000000000005,
          5.7,
          5.800000000000001,
          5.9,
          6,
          6.1000000000000005,
          6.2,
          6.300000000000001,
          6.4,
          6.5,
          6.6000000000000005,
          6.7,
          6.800000000000001,
          6.9,
          7,
          7.1,
          7.200000000000001,
          7.300000000000001,
          7.4,
          7.5,
          7.6,
          7.700000000000001,
          7.800000000000001,
          7.9,
          8,
          8.1,
          8.200000000000001,
          8.3,
          8.4,
          8.5,
          8.600000000000001,
          8.700000000000001,
          8.8,
          8.9,
          9,
          9.100000000000001,
          9.200000000000001,
          9.3,
          9.4,
          9.5,
          9.600000000000001,
          9.700000000000001,
          9.8,
          9.9,
          10,
          10.100000000000001,
          10.200000000000001,
          10.3,
          10.4,
          10.5,
          10.600000000000001,
          10.700000000000001,
          10.8,
          10.9,
          11
         ],
         "y": [
          0.6543591178909253,
          0.6517653432777065,
          0.6476539828414849,
          0.6421936572292606,
          0.635552987088034,
          0.6279005930648055,
          0.6194050958065753,
          0.6102351159603439,
          0.6005592741731115,
          0.5905461910918783,
          0.580364487363645,
          0.5701827836354115,
          0.5601697005541785,
          0.5504938587669461,
          0.5413238789207147,
          0.5328283816624845,
          0.525175987639256,
          0.5185353174980294,
          0.5130749918858051,
          0.5089636314495835,
          0.5063698568363647,
          0.5057653512554098,
          0.5088340481650221,
          0.5175629435857656,
          0.533939033538204,
          0.5599493140429014,
          0.5975807811204217,
          0.648820430791329,
          0.7156552590761869,
          0.8000722619955596,
          0.9040584355700104,
          1.0275163206367663,
          1.1620106372997017,
          1.297021650479353,
          1.4220296250962574,
          1.526514826070951,
          1.5999575183239716,
          1.6318379667758554,
          1.6116364363471392,
          1.5288331919583602,
          1.3729084985300553,
          1.1380115536585698,
          0.8369672856434973,
          0.4872695554602364,
          0.10641222408418316,
          -0.2881108475092553,
          -0.6788057983446851,
          -1.0481787674467,
          -1.3787358938399064,
          -1.6529833165488972,
          -1.8534271745982762,
          -1.9674818856720315,
          -2.002194982091699,
          -1.9695222748382055,
          -1.881419574892477,
          -1.749842693235439,
          -1.5867474408480158,
          -1.404089628711136,
          -1.213825067805722,
          -1.027909569112703,
          -0.8582989436130031,
          -0.7142203513845955,
          -0.5939863488936546,
          -0.49318084170339904,
          -0.4073877353770515,
          -0.33219093547783163,
          -0.2631743475689601,
          -0.1959218772136584,
          -0.12601742997514653,
          -0.049044911416646575,
          0.039411772898621744,
          0.14231672790285582,
          0.25682610050992283,
          0.37864404812911157,
          0.5034747281697064,
          0.6270222980409953,
          0.7449909151522659,
          0.8530847369128027,
          0.9470079207318943,
          1.0224646240188262,
          1.0751590041828851,
          1.1021324072650662,
          1.105774933833193,
          1.089813873086798,
          1.0579765142254123,
          1.013990146448568,
          0.9615820589557975,
          0.9044795409466311,
          0.8464098816206025,
          0.7911003701772429,
          0.7422782958160838,
          0.7027265915977549,
          0.6714507660272754,
          0.6465119714707639,
          0.6259713602943372,
          0.6078900848641129,
          0.5903292975462081,
          0.5713501507067408,
          0.5490137967118283,
          0.5213813879275881,
          0.4865140767201376,
          0.442949052562192,
          0.3911276533528637,
          0.3319672540978611,
          0.2663852298028936,
          0.19529895547367038,
          0.11962580611589946,
          0.0402831567352927,
          -0.0418116176624419,
          -0.12574114207159504,
          -0.2105880414864575,
          -0.2954349409013214,
          -0.37936446531047463,
          -0.46145923970820923,
          -0.5408018890888159,
          -0.6164750384465852,
          -0.6875613127758099,
          -0.7531433370707771,
          -0.8123037363257798,
          -0.864125135535108,
          -0.9076901596930526
         ]
        }
       ],
       "layout": {
        "template": {
         "data": {
          "bar": [
           {
            "error_x": {
             "color": "#2a3f5f"
            },
            "error_y": {
             "color": "#2a3f5f"
            },
            "marker": {
             "line": {
              "color": "#E5ECF6",
              "width": 0.5
             },
             "pattern": {
              "fillmode": "overlay",
              "size": 10,
              "solidity": 0.2
             }
            },
            "type": "bar"
           }
          ],
          "barpolar": [
           {
            "marker": {
             "line": {
              "color": "#E5ECF6",
              "width": 0.5
             },
             "pattern": {
              "fillmode": "overlay",
              "size": 10,
              "solidity": 0.2
             }
            },
            "type": "barpolar"
           }
          ],
          "carpet": [
           {
            "aaxis": {
             "endlinecolor": "#2a3f5f",
             "gridcolor": "white",
             "linecolor": "white",
             "minorgridcolor": "white",
             "startlinecolor": "#2a3f5f"
            },
            "baxis": {
             "endlinecolor": "#2a3f5f",
             "gridcolor": "white",
             "linecolor": "white",
             "minorgridcolor": "white",
             "startlinecolor": "#2a3f5f"
            },
            "type": "carpet"
           }
          ],
          "choropleth": [
           {
            "colorbar": {
             "outlinewidth": 0,
             "ticks": ""
            },
            "type": "choropleth"
           }
          ],
          "contour": [
           {
            "colorbar": {
             "outlinewidth": 0,
             "ticks": ""
            },
            "colorscale": [
             [
              0,
              "#0d0887"
             ],
             [
              0.1111111111111111,
              "#46039f"
             ],
             [
              0.2222222222222222,
              "#7201a8"
             ],
             [
              0.3333333333333333,
              "#9c179e"
             ],
             [
              0.4444444444444444,
              "#bd3786"
             ],
             [
              0.5555555555555556,
              "#d8576b"
             ],
             [
              0.6666666666666666,
              "#ed7953"
             ],
             [
              0.7777777777777778,
              "#fb9f3a"
             ],
             [
              0.8888888888888888,
              "#fdca26"
             ],
             [
              1,
              "#f0f921"
             ]
            ],
            "type": "contour"
           }
          ],
          "contourcarpet": [
           {
            "colorbar": {
             "outlinewidth": 0,
             "ticks": ""
            },
            "type": "contourcarpet"
           }
          ],
          "heatmap": [
           {
            "colorbar": {
             "outlinewidth": 0,
             "ticks": ""
            },
            "colorscale": [
             [
              0,
              "#0d0887"
             ],
             [
              0.1111111111111111,
              "#46039f"
             ],
             [
              0.2222222222222222,
              "#7201a8"
             ],
             [
              0.3333333333333333,
              "#9c179e"
             ],
             [
              0.4444444444444444,
              "#bd3786"
             ],
             [
              0.5555555555555556,
              "#d8576b"
             ],
             [
              0.6666666666666666,
              "#ed7953"
             ],
             [
              0.7777777777777778,
              "#fb9f3a"
             ],
             [
              0.8888888888888888,
              "#fdca26"
             ],
             [
              1,
              "#f0f921"
             ]
            ],
            "type": "heatmap"
           }
          ],
          "heatmapgl": [
           {
            "colorbar": {
             "outlinewidth": 0,
             "ticks": ""
            },
            "colorscale": [
             [
              0,
              "#0d0887"
             ],
             [
              0.1111111111111111,
              "#46039f"
             ],
             [
              0.2222222222222222,
              "#7201a8"
             ],
             [
              0.3333333333333333,
              "#9c179e"
             ],
             [
              0.4444444444444444,
              "#bd3786"
             ],
             [
              0.5555555555555556,
              "#d8576b"
             ],
             [
              0.6666666666666666,
              "#ed7953"
             ],
             [
              0.7777777777777778,
              "#fb9f3a"
             ],
             [
              0.8888888888888888,
              "#fdca26"
             ],
             [
              1,
              "#f0f921"
             ]
            ],
            "type": "heatmapgl"
           }
          ],
          "histogram": [
           {
            "marker": {
             "pattern": {
              "fillmode": "overlay",
              "size": 10,
              "solidity": 0.2
             }
            },
            "type": "histogram"
           }
          ],
          "histogram2d": [
           {
            "colorbar": {
             "outlinewidth": 0,
             "ticks": ""
            },
            "colorscale": [
             [
              0,
              "#0d0887"
             ],
             [
              0.1111111111111111,
              "#46039f"
             ],
             [
              0.2222222222222222,
              "#7201a8"
             ],
             [
              0.3333333333333333,
              "#9c179e"
             ],
             [
              0.4444444444444444,
              "#bd3786"
             ],
             [
              0.5555555555555556,
              "#d8576b"
             ],
             [
              0.6666666666666666,
              "#ed7953"
             ],
             [
              0.7777777777777778,
              "#fb9f3a"
             ],
             [
              0.8888888888888888,
              "#fdca26"
             ],
             [
              1,
              "#f0f921"
             ]
            ],
            "type": "histogram2d"
           }
          ],
          "histogram2dcontour": [
           {
            "colorbar": {
             "outlinewidth": 0,
             "ticks": ""
            },
            "colorscale": [
             [
              0,
              "#0d0887"
             ],
             [
              0.1111111111111111,
              "#46039f"
             ],
             [
              0.2222222222222222,
              "#7201a8"
             ],
             [
              0.3333333333333333,
              "#9c179e"
             ],
             [
              0.4444444444444444,
              "#bd3786"
             ],
             [
              0.5555555555555556,
              "#d8576b"
             ],
             [
              0.6666666666666666,
              "#ed7953"
             ],
             [
              0.7777777777777778,
              "#fb9f3a"
             ],
             [
              0.8888888888888888,
              "#fdca26"
             ],
             [
              1,
              "#f0f921"
             ]
            ],
            "type": "histogram2dcontour"
           }
          ],
          "mesh3d": [
           {
            "colorbar": {
             "outlinewidth": 0,
             "ticks": ""
            },
            "type": "mesh3d"
           }
          ],
          "parcoords": [
           {
            "line": {
             "colorbar": {
              "outlinewidth": 0,
              "ticks": ""
             }
            },
            "type": "parcoords"
           }
          ],
          "pie": [
           {
            "automargin": true,
            "type": "pie"
           }
          ],
          "scatter": [
           {
            "fillpattern": {
             "fillmode": "overlay",
             "size": 10,
             "solidity": 0.2
            },
            "type": "scatter"
           }
          ],
          "scatter3d": [
           {
            "line": {
             "colorbar": {
              "outlinewidth": 0,
              "ticks": ""
             }
            },
            "marker": {
             "colorbar": {
              "outlinewidth": 0,
              "ticks": ""
             }
            },
            "type": "scatter3d"
           }
          ],
          "scattercarpet": [
           {
            "marker": {
             "colorbar": {
              "outlinewidth": 0,
              "ticks": ""
             }
            },
            "type": "scattercarpet"
           }
          ],
          "scattergeo": [
           {
            "marker": {
             "colorbar": {
              "outlinewidth": 0,
              "ticks": ""
             }
            },
            "type": "scattergeo"
           }
          ],
          "scattergl": [
           {
            "marker": {
             "colorbar": {
              "outlinewidth": 0,
              "ticks": ""
             }
            },
            "type": "scattergl"
           }
          ],
          "scattermapbox": [
           {
            "marker": {
             "colorbar": {
              "outlinewidth": 0,
              "ticks": ""
             }
            },
            "type": "scattermapbox"
           }
          ],
          "scatterpolar": [
           {
            "marker": {
             "colorbar": {
              "outlinewidth": 0,
              "ticks": ""
             }
            },
            "type": "scatterpolar"
           }
          ],
          "scatterpolargl": [
           {
            "marker": {
             "colorbar": {
              "outlinewidth": 0,
              "ticks": ""
             }
            },
            "type": "scatterpolargl"
           }
          ],
          "scatterternary": [
           {
            "marker": {
             "colorbar": {
              "outlinewidth": 0,
              "ticks": ""
             }
            },
            "type": "scatterternary"
           }
          ],
          "surface": [
           {
            "colorbar": {
             "outlinewidth": 0,
             "ticks": ""
            },
            "colorscale": [
             [
              0,
              "#0d0887"
             ],
             [
              0.1111111111111111,
              "#46039f"
             ],
             [
              0.2222222222222222,
              "#7201a8"
             ],
             [
              0.3333333333333333,
              "#9c179e"
             ],
             [
              0.4444444444444444,
              "#bd3786"
             ],
             [
              0.5555555555555556,
              "#d8576b"
             ],
             [
              0.6666666666666666,
              "#ed7953"
             ],
             [
              0.7777777777777778,
              "#fb9f3a"
             ],
             [
              0.8888888888888888,
              "#fdca26"
             ],
             [
              1,
              "#f0f921"
             ]
            ],
            "type": "surface"
           }
          ],
          "table": [
           {
            "cells": {
             "fill": {
              "color": "#EBF0F8"
             },
             "line": {
              "color": "white"
             }
            },
            "header": {
             "fill": {
              "color": "#C8D4E3"
             },
             "line": {
              "color": "white"
             }
            },
            "type": "table"
           }
          ]
         },
         "layout": {
          "annotationdefaults": {
           "arrowcolor": "#2a3f5f",
           "arrowhead": 0,
           "arrowwidth": 1
          },
          "autotypenumbers": "strict",
          "coloraxis": {
           "colorbar": {
            "outlinewidth": 0,
            "ticks": ""
           }
          },
          "colorscale": {
           "diverging": [
            [
             0,
             "#8e0152"
            ],
            [
             0.1,
             "#c51b7d"
            ],
            [
             0.2,
             "#de77ae"
            ],
            [
             0.3,
             "#f1b6da"
            ],
            [
             0.4,
             "#fde0ef"
            ],
            [
             0.5,
             "#f7f7f7"
            ],
            [
             0.6,
             "#e6f5d0"
            ],
            [
             0.7,
             "#b8e186"
            ],
            [
             0.8,
             "#7fbc41"
            ],
            [
             0.9,
             "#4d9221"
            ],
            [
             1,
             "#276419"
            ]
           ],
           "sequential": [
            [
             0,
             "#0d0887"
            ],
            [
             0.1111111111111111,
             "#46039f"
            ],
            [
             0.2222222222222222,
             "#7201a8"
            ],
            [
             0.3333333333333333,
             "#9c179e"
            ],
            [
             0.4444444444444444,
             "#bd3786"
            ],
            [
             0.5555555555555556,
             "#d8576b"
            ],
            [
             0.6666666666666666,
             "#ed7953"
            ],
            [
             0.7777777777777778,
             "#fb9f3a"
            ],
            [
             0.8888888888888888,
             "#fdca26"
            ],
            [
             1,
             "#f0f921"
            ]
           ],
           "sequentialminus": [
            [
             0,
             "#0d0887"
            ],
            [
             0.1111111111111111,
             "#46039f"
            ],
            [
             0.2222222222222222,
             "#7201a8"
            ],
            [
             0.3333333333333333,
             "#9c179e"
            ],
            [
             0.4444444444444444,
             "#bd3786"
            ],
            [
             0.5555555555555556,
             "#d8576b"
            ],
            [
             0.6666666666666666,
             "#ed7953"
            ],
            [
             0.7777777777777778,
             "#fb9f3a"
            ],
            [
             0.8888888888888888,
             "#fdca26"
            ],
            [
             1,
             "#f0f921"
            ]
           ]
          },
          "colorway": [
           "#636efa",
           "#EF553B",
           "#00cc96",
           "#ab63fa",
           "#FFA15A",
           "#19d3f3",
           "#FF6692",
           "#B6E880",
           "#FF97FF",
           "#FECB52"
          ],
          "font": {
           "color": "#2a3f5f"
          },
          "geo": {
           "bgcolor": "white",
           "lakecolor": "white",
           "landcolor": "#E5ECF6",
           "showlakes": true,
           "showland": true,
           "subunitcolor": "white"
          },
          "hoverlabel": {
           "align": "left"
          },
          "hovermode": "closest",
          "mapbox": {
           "style": "light"
          },
          "paper_bgcolor": "white",
          "plot_bgcolor": "#E5ECF6",
          "polar": {
           "angularaxis": {
            "gridcolor": "white",
            "linecolor": "white",
            "ticks": ""
           },
           "bgcolor": "#E5ECF6",
           "radialaxis": {
            "gridcolor": "white",
            "linecolor": "white",
            "ticks": ""
           }
          },
          "scene": {
           "xaxis": {
            "backgroundcolor": "#E5ECF6",
            "gridcolor": "white",
            "gridwidth": 2,
            "linecolor": "white",
            "showbackground": true,
            "ticks": "",
            "zerolinecolor": "white"
           },
           "yaxis": {
            "backgroundcolor": "#E5ECF6",
            "gridcolor": "white",
            "gridwidth": 2,
            "linecolor": "white",
            "showbackground": true,
            "ticks": "",
            "zerolinecolor": "white"
           },
           "zaxis": {
            "backgroundcolor": "#E5ECF6",
            "gridcolor": "white",
            "gridwidth": 2,
            "linecolor": "white",
            "showbackground": true,
            "ticks": "",
            "zerolinecolor": "white"
           }
          },
          "shapedefaults": {
           "line": {
            "color": "#2a3f5f"
           }
          },
          "ternary": {
           "aaxis": {
            "gridcolor": "white",
            "linecolor": "white",
            "ticks": ""
           },
           "baxis": {
            "gridcolor": "white",
            "linecolor": "white",
            "ticks": ""
           },
           "bgcolor": "#E5ECF6",
           "caxis": {
            "gridcolor": "white",
            "linecolor": "white",
            "ticks": ""
           }
          },
          "title": {
           "x": 0.05
          },
          "xaxis": {
           "automargin": true,
           "gridcolor": "white",
           "linecolor": "white",
           "ticks": "",
           "title": {
            "standoff": 15
           },
           "zerolinecolor": "white",
           "zerolinewidth": 2
          },
          "yaxis": {
           "automargin": true,
           "gridcolor": "white",
           "linecolor": "white",
           "ticks": "",
           "title": {
            "standoff": 15
           },
           "zerolinecolor": "white",
           "zerolinewidth": 2
          }
         }
        },
        "title": {
         "text": "Scipy and custom interpolations"
        },
        "xaxis": {
         "title": {
          "text": "time"
         }
        },
        "yaxis": {
         "title": {
          "text": "heart rate"
         }
        }
       }
      },
      "text/html": [
       "<div>                            <div id=\"98f0901c-66fb-4094-9f7d-3007709eab02\" class=\"plotly-graph-div\" style=\"height:525px; width:100%;\"></div>            <script type=\"text/javascript\">                require([\"plotly\"], function(Plotly) {                    window.PLOTLYENV=window.PLOTLYENV || {};                                    if (document.getElementById(\"98f0901c-66fb-4094-9f7d-3007709eab02\")) {                    Plotly.newPlot(                        \"98f0901c-66fb-4094-9f7d-3007709eab02\",                        [{\"mode\":\"markers\",\"name\":\"Original data\",\"x\":[0.0,1.0,2.0,3.0,4.0,5.0,6.0,7.0,8.0,9.0,10.0],\"y\":[0.580364487363645,0.5063698568363647,0.9040584355700104,1.3729084985300553,-1.8534271745982762,-0.8582989436130031,0.039411772898621744,1.0751590041828851,0.7422782958160838,0.4865140767201376,-0.2105880414864575],\"type\":\"scatter\"},{\"mode\":\"lines\",\"name\":\"Fitted line\",\"x\":[-1.0,-0.9,-0.8,-0.7,-0.6,-0.5,-0.3999999999999999,-0.29999999999999993,-0.19999999999999996,-0.09999999999999998,0.0,0.10000000000000009,0.20000000000000018,0.30000000000000004,0.40000000000000013,0.5,0.6000000000000001,0.7000000000000002,0.8,0.9000000000000001,1.0,1.1,1.2000000000000002,1.3000000000000003,1.4000000000000004,1.5,1.6,1.7000000000000002,1.8000000000000003,1.9000000000000004,2.0,2.1,2.2,2.3000000000000003,2.4000000000000004,2.5,2.6,2.7,2.8000000000000003,2.9000000000000004,3.0,3.1000000000000005,3.2,3.3,3.4000000000000004,3.5,3.6000000000000005,3.7,3.8000000000000007,3.9000000000000004,4.0,4.1000000000000005,4.2,4.300000000000001,4.4,4.5,4.6000000000000005,4.7,4.800000000000001,4.9,5.0,5.1000000000000005,5.2,5.300000000000001,5.4,5.5,5.6000000000000005,5.7,5.800000000000001,5.9,6.0,6.1000000000000005,6.2,6.300000000000001,6.4,6.5,6.6000000000000005,6.7,6.800000000000001,6.9,7.0,7.1,7.200000000000001,7.300000000000001,7.4,7.5,7.6,7.700000000000001,7.800000000000001,7.9,8.0,8.1,8.200000000000001,8.3,8.4,8.5,8.600000000000001,8.700000000000001,8.8,8.9,9.0,9.100000000000001,9.200000000000001,9.3,9.4,9.5,9.600000000000001,9.700000000000001,9.8,9.9,10.0,10.100000000000001,10.200000000000001,10.3,10.4,10.5,10.600000000000001,10.700000000000001,10.8,10.9,11.0],\"y\":[0.6543591178909252,0.6517653432777065,0.6476539828414848,0.6421936572292606,0.635552987088034,0.6279005930648055,0.6194050958065753,0.6102351159603439,0.6005592741731115,0.5905461910918783,0.580364487363645,0.5701827836354116,0.5601697005541785,0.5504938587669461,0.5413238789207147,0.5328283816624845,0.525175987639256,0.5185353174980295,0.5130749918858051,0.5089636314495835,0.5063698568363647,0.5057653512554098,0.5088340481650222,0.5175629435857656,0.533939033538204,0.5599493140429014,0.5975807811204218,0.6488204307913289,0.7156552590761869,0.8000722619955596,0.9040584355700104,1.0275163206367663,1.1620106372997014,1.297021650479353,1.4220296250962574,1.526514826070951,1.5999575183239716,1.6318379667758554,1.6116364363471392,1.52883319195836,1.3729084985300553,1.1380115536585698,0.8369672856434973,0.48726955546023626,0.10641222408418313,-0.2881108475092552,-0.6788057983446854,-1.0481787674467005,-1.3787358938399061,-1.6529833165488963,-1.8534271745982762,-1.9674818856720315,-2.002194982091699,-1.9695222748382053,-1.881419574892477,-1.7498426932354392,-1.586747440848016,-1.4040896287111355,-1.2138250678057219,-1.0279095691127031,-0.8582989436130031,-0.7142203513845955,-0.5939863488936545,-0.493180841703399,-0.40738773537705136,-0.3321909354778315,-0.2631743475689598,-0.19592187721365828,-0.12601742997514637,-0.04904491141664613,0.039411772898621744,0.14231672790285582,0.25682610050992283,0.3786440481291115,0.5034747281697063,0.6270222980409953,0.7449909151522658,0.8530847369128027,0.9470079207318944,1.022464624018826,1.0751590041828851,1.1021324072650662,1.105774933833193,1.089813873086798,1.0579765142254123,1.0139901464485683,0.9615820589557974,0.9044795409466309,0.8464098816206025,0.7911003701772428,0.7422782958160838,0.702726591597755,0.6714507660272754,0.6465119714707638,0.6259713602943371,0.6078900848641128,0.590329297546208,0.5713501507067407,0.5490137967118284,0.521381387927588,0.4865140767201376,0.4429490525621921,0.39112765335286376,0.33196725409786115,0.26638522980289364,0.19529895547367046,0.11962580611589949,0.040283156735292716,-0.041811617662441874,-0.12574114207159506,-0.2105880414864575,-0.2954349409013215,-0.3793644653104747,-0.46145923970820923,-0.540801889088816,-0.6164750384465854,-0.68756131277581,-0.7531433370707774,-0.8123037363257801,-0.8641251355351083,-0.9076901596930531],\"type\":\"scatter\"},{\"line\":{\"dash\":\"longdash\"},\"mode\":\"lines\",\"name\":\"Fitted line (custom)\",\"x\":[-1.0,-0.9,-0.8,-0.7,-0.6,-0.5,-0.3999999999999999,-0.29999999999999993,-0.19999999999999996,-0.09999999999999998,0.0,0.10000000000000009,0.20000000000000018,0.30000000000000004,0.40000000000000013,0.5,0.6000000000000001,0.7000000000000002,0.8,0.9000000000000001,1.0,1.1,1.2000000000000002,1.3000000000000003,1.4000000000000004,1.5,1.6,1.7000000000000002,1.8000000000000003,1.9000000000000004,2.0,2.1,2.2,2.3000000000000003,2.4000000000000004,2.5,2.6,2.7,2.8000000000000003,2.9000000000000004,3.0,3.1000000000000005,3.2,3.3,3.4000000000000004,3.5,3.6000000000000005,3.7,3.8000000000000007,3.9000000000000004,4.0,4.1000000000000005,4.2,4.300000000000001,4.4,4.5,4.6000000000000005,4.7,4.800000000000001,4.9,5.0,5.1000000000000005,5.2,5.300000000000001,5.4,5.5,5.6000000000000005,5.7,5.800000000000001,5.9,6.0,6.1000000000000005,6.2,6.300000000000001,6.4,6.5,6.6000000000000005,6.7,6.800000000000001,6.9,7.0,7.1,7.200000000000001,7.300000000000001,7.4,7.5,7.6,7.700000000000001,7.800000000000001,7.9,8.0,8.1,8.200000000000001,8.3,8.4,8.5,8.600000000000001,8.700000000000001,8.8,8.9,9.0,9.100000000000001,9.200000000000001,9.3,9.4,9.5,9.600000000000001,9.700000000000001,9.8,9.9,10.0,10.100000000000001,10.200000000000001,10.3,10.4,10.5,10.600000000000001,10.700000000000001,10.8,10.9,11.0],\"y\":[0.6543591178909253,0.6517653432777065,0.6476539828414849,0.6421936572292606,0.635552987088034,0.6279005930648055,0.6194050958065753,0.6102351159603439,0.6005592741731115,0.5905461910918783,0.580364487363645,0.5701827836354115,0.5601697005541785,0.5504938587669461,0.5413238789207147,0.5328283816624845,0.525175987639256,0.5185353174980294,0.5130749918858051,0.5089636314495835,0.5063698568363647,0.5057653512554098,0.5088340481650221,0.5175629435857656,0.533939033538204,0.5599493140429014,0.5975807811204217,0.648820430791329,0.7156552590761869,0.8000722619955596,0.9040584355700104,1.0275163206367663,1.1620106372997017,1.297021650479353,1.4220296250962574,1.526514826070951,1.5999575183239716,1.6318379667758554,1.6116364363471392,1.5288331919583602,1.3729084985300553,1.1380115536585698,0.8369672856434973,0.4872695554602364,0.10641222408418316,-0.2881108475092553,-0.6788057983446851,-1.0481787674467,-1.3787358938399064,-1.6529833165488972,-1.8534271745982762,-1.9674818856720315,-2.002194982091699,-1.9695222748382055,-1.881419574892477,-1.749842693235439,-1.5867474408480158,-1.404089628711136,-1.213825067805722,-1.027909569112703,-0.8582989436130031,-0.7142203513845955,-0.5939863488936546,-0.49318084170339904,-0.4073877353770515,-0.33219093547783163,-0.2631743475689601,-0.1959218772136584,-0.12601742997514653,-0.049044911416646575,0.039411772898621744,0.14231672790285582,0.25682610050992283,0.37864404812911157,0.5034747281697064,0.6270222980409953,0.7449909151522659,0.8530847369128027,0.9470079207318943,1.0224646240188262,1.0751590041828851,1.1021324072650662,1.105774933833193,1.089813873086798,1.0579765142254123,1.013990146448568,0.9615820589557975,0.9044795409466311,0.8464098816206025,0.7911003701772429,0.7422782958160838,0.7027265915977549,0.6714507660272754,0.6465119714707639,0.6259713602943372,0.6078900848641129,0.5903292975462081,0.5713501507067408,0.5490137967118283,0.5213813879275881,0.4865140767201376,0.442949052562192,0.3911276533528637,0.3319672540978611,0.2663852298028936,0.19529895547367038,0.11962580611589946,0.0402831567352927,-0.0418116176624419,-0.12574114207159504,-0.2105880414864575,-0.2954349409013214,-0.37936446531047463,-0.46145923970820923,-0.5408018890888159,-0.6164750384465852,-0.6875613127758099,-0.7531433370707771,-0.8123037363257798,-0.864125135535108,-0.9076901596930526],\"type\":\"scatter\"}],                        {\"template\":{\"data\":{\"histogram2dcontour\":[{\"type\":\"histogram2dcontour\",\"colorbar\":{\"outlinewidth\":0,\"ticks\":\"\"},\"colorscale\":[[0.0,\"#0d0887\"],[0.1111111111111111,\"#46039f\"],[0.2222222222222222,\"#7201a8\"],[0.3333333333333333,\"#9c179e\"],[0.4444444444444444,\"#bd3786\"],[0.5555555555555556,\"#d8576b\"],[0.6666666666666666,\"#ed7953\"],[0.7777777777777778,\"#fb9f3a\"],[0.8888888888888888,\"#fdca26\"],[1.0,\"#f0f921\"]]}],\"choropleth\":[{\"type\":\"choropleth\",\"colorbar\":{\"outlinewidth\":0,\"ticks\":\"\"}}],\"histogram2d\":[{\"type\":\"histogram2d\",\"colorbar\":{\"outlinewidth\":0,\"ticks\":\"\"},\"colorscale\":[[0.0,\"#0d0887\"],[0.1111111111111111,\"#46039f\"],[0.2222222222222222,\"#7201a8\"],[0.3333333333333333,\"#9c179e\"],[0.4444444444444444,\"#bd3786\"],[0.5555555555555556,\"#d8576b\"],[0.6666666666666666,\"#ed7953\"],[0.7777777777777778,\"#fb9f3a\"],[0.8888888888888888,\"#fdca26\"],[1.0,\"#f0f921\"]]}],\"heatmap\":[{\"type\":\"heatmap\",\"colorbar\":{\"outlinewidth\":0,\"ticks\":\"\"},\"colorscale\":[[0.0,\"#0d0887\"],[0.1111111111111111,\"#46039f\"],[0.2222222222222222,\"#7201a8\"],[0.3333333333333333,\"#9c179e\"],[0.4444444444444444,\"#bd3786\"],[0.5555555555555556,\"#d8576b\"],[0.6666666666666666,\"#ed7953\"],[0.7777777777777778,\"#fb9f3a\"],[0.8888888888888888,\"#fdca26\"],[1.0,\"#f0f921\"]]}],\"heatmapgl\":[{\"type\":\"heatmapgl\",\"colorbar\":{\"outlinewidth\":0,\"ticks\":\"\"},\"colorscale\":[[0.0,\"#0d0887\"],[0.1111111111111111,\"#46039f\"],[0.2222222222222222,\"#7201a8\"],[0.3333333333333333,\"#9c179e\"],[0.4444444444444444,\"#bd3786\"],[0.5555555555555556,\"#d8576b\"],[0.6666666666666666,\"#ed7953\"],[0.7777777777777778,\"#fb9f3a\"],[0.8888888888888888,\"#fdca26\"],[1.0,\"#f0f921\"]]}],\"contourcarpet\":[{\"type\":\"contourcarpet\",\"colorbar\":{\"outlinewidth\":0,\"ticks\":\"\"}}],\"contour\":[{\"type\":\"contour\",\"colorbar\":{\"outlinewidth\":0,\"ticks\":\"\"},\"colorscale\":[[0.0,\"#0d0887\"],[0.1111111111111111,\"#46039f\"],[0.2222222222222222,\"#7201a8\"],[0.3333333333333333,\"#9c179e\"],[0.4444444444444444,\"#bd3786\"],[0.5555555555555556,\"#d8576b\"],[0.6666666666666666,\"#ed7953\"],[0.7777777777777778,\"#fb9f3a\"],[0.8888888888888888,\"#fdca26\"],[1.0,\"#f0f921\"]]}],\"surface\":[{\"type\":\"surface\",\"colorbar\":{\"outlinewidth\":0,\"ticks\":\"\"},\"colorscale\":[[0.0,\"#0d0887\"],[0.1111111111111111,\"#46039f\"],[0.2222222222222222,\"#7201a8\"],[0.3333333333333333,\"#9c179e\"],[0.4444444444444444,\"#bd3786\"],[0.5555555555555556,\"#d8576b\"],[0.6666666666666666,\"#ed7953\"],[0.7777777777777778,\"#fb9f3a\"],[0.8888888888888888,\"#fdca26\"],[1.0,\"#f0f921\"]]}],\"mesh3d\":[{\"type\":\"mesh3d\",\"colorbar\":{\"outlinewidth\":0,\"ticks\":\"\"}}],\"scatter\":[{\"fillpattern\":{\"fillmode\":\"overlay\",\"size\":10,\"solidity\":0.2},\"type\":\"scatter\"}],\"parcoords\":[{\"type\":\"parcoords\",\"line\":{\"colorbar\":{\"outlinewidth\":0,\"ticks\":\"\"}}}],\"scatterpolargl\":[{\"type\":\"scatterpolargl\",\"marker\":{\"colorbar\":{\"outlinewidth\":0,\"ticks\":\"\"}}}],\"bar\":[{\"error_x\":{\"color\":\"#2a3f5f\"},\"error_y\":{\"color\":\"#2a3f5f\"},\"marker\":{\"line\":{\"color\":\"#E5ECF6\",\"width\":0.5},\"pattern\":{\"fillmode\":\"overlay\",\"size\":10,\"solidity\":0.2}},\"type\":\"bar\"}],\"scattergeo\":[{\"type\":\"scattergeo\",\"marker\":{\"colorbar\":{\"outlinewidth\":0,\"ticks\":\"\"}}}],\"scatterpolar\":[{\"type\":\"scatterpolar\",\"marker\":{\"colorbar\":{\"outlinewidth\":0,\"ticks\":\"\"}}}],\"histogram\":[{\"marker\":{\"pattern\":{\"fillmode\":\"overlay\",\"size\":10,\"solidity\":0.2}},\"type\":\"histogram\"}],\"scattergl\":[{\"type\":\"scattergl\",\"marker\":{\"colorbar\":{\"outlinewidth\":0,\"ticks\":\"\"}}}],\"scatter3d\":[{\"type\":\"scatter3d\",\"line\":{\"colorbar\":{\"outlinewidth\":0,\"ticks\":\"\"}},\"marker\":{\"colorbar\":{\"outlinewidth\":0,\"ticks\":\"\"}}}],\"scattermapbox\":[{\"type\":\"scattermapbox\",\"marker\":{\"colorbar\":{\"outlinewidth\":0,\"ticks\":\"\"}}}],\"scatterternary\":[{\"type\":\"scatterternary\",\"marker\":{\"colorbar\":{\"outlinewidth\":0,\"ticks\":\"\"}}}],\"scattercarpet\":[{\"type\":\"scattercarpet\",\"marker\":{\"colorbar\":{\"outlinewidth\":0,\"ticks\":\"\"}}}],\"carpet\":[{\"aaxis\":{\"endlinecolor\":\"#2a3f5f\",\"gridcolor\":\"white\",\"linecolor\":\"white\",\"minorgridcolor\":\"white\",\"startlinecolor\":\"#2a3f5f\"},\"baxis\":{\"endlinecolor\":\"#2a3f5f\",\"gridcolor\":\"white\",\"linecolor\":\"white\",\"minorgridcolor\":\"white\",\"startlinecolor\":\"#2a3f5f\"},\"type\":\"carpet\"}],\"table\":[{\"cells\":{\"fill\":{\"color\":\"#EBF0F8\"},\"line\":{\"color\":\"white\"}},\"header\":{\"fill\":{\"color\":\"#C8D4E3\"},\"line\":{\"color\":\"white\"}},\"type\":\"table\"}],\"barpolar\":[{\"marker\":{\"line\":{\"color\":\"#E5ECF6\",\"width\":0.5},\"pattern\":{\"fillmode\":\"overlay\",\"size\":10,\"solidity\":0.2}},\"type\":\"barpolar\"}],\"pie\":[{\"automargin\":true,\"type\":\"pie\"}]},\"layout\":{\"autotypenumbers\":\"strict\",\"colorway\":[\"#636efa\",\"#EF553B\",\"#00cc96\",\"#ab63fa\",\"#FFA15A\",\"#19d3f3\",\"#FF6692\",\"#B6E880\",\"#FF97FF\",\"#FECB52\"],\"font\":{\"color\":\"#2a3f5f\"},\"hovermode\":\"closest\",\"hoverlabel\":{\"align\":\"left\"},\"paper_bgcolor\":\"white\",\"plot_bgcolor\":\"#E5ECF6\",\"polar\":{\"bgcolor\":\"#E5ECF6\",\"angularaxis\":{\"gridcolor\":\"white\",\"linecolor\":\"white\",\"ticks\":\"\"},\"radialaxis\":{\"gridcolor\":\"white\",\"linecolor\":\"white\",\"ticks\":\"\"}},\"ternary\":{\"bgcolor\":\"#E5ECF6\",\"aaxis\":{\"gridcolor\":\"white\",\"linecolor\":\"white\",\"ticks\":\"\"},\"baxis\":{\"gridcolor\":\"white\",\"linecolor\":\"white\",\"ticks\":\"\"},\"caxis\":{\"gridcolor\":\"white\",\"linecolor\":\"white\",\"ticks\":\"\"}},\"coloraxis\":{\"colorbar\":{\"outlinewidth\":0,\"ticks\":\"\"}},\"colorscale\":{\"sequential\":[[0.0,\"#0d0887\"],[0.1111111111111111,\"#46039f\"],[0.2222222222222222,\"#7201a8\"],[0.3333333333333333,\"#9c179e\"],[0.4444444444444444,\"#bd3786\"],[0.5555555555555556,\"#d8576b\"],[0.6666666666666666,\"#ed7953\"],[0.7777777777777778,\"#fb9f3a\"],[0.8888888888888888,\"#fdca26\"],[1.0,\"#f0f921\"]],\"sequentialminus\":[[0.0,\"#0d0887\"],[0.1111111111111111,\"#46039f\"],[0.2222222222222222,\"#7201a8\"],[0.3333333333333333,\"#9c179e\"],[0.4444444444444444,\"#bd3786\"],[0.5555555555555556,\"#d8576b\"],[0.6666666666666666,\"#ed7953\"],[0.7777777777777778,\"#fb9f3a\"],[0.8888888888888888,\"#fdca26\"],[1.0,\"#f0f921\"]],\"diverging\":[[0,\"#8e0152\"],[0.1,\"#c51b7d\"],[0.2,\"#de77ae\"],[0.3,\"#f1b6da\"],[0.4,\"#fde0ef\"],[0.5,\"#f7f7f7\"],[0.6,\"#e6f5d0\"],[0.7,\"#b8e186\"],[0.8,\"#7fbc41\"],[0.9,\"#4d9221\"],[1,\"#276419\"]]},\"xaxis\":{\"gridcolor\":\"white\",\"linecolor\":\"white\",\"ticks\":\"\",\"title\":{\"standoff\":15},\"zerolinecolor\":\"white\",\"automargin\":true,\"zerolinewidth\":2},\"yaxis\":{\"gridcolor\":\"white\",\"linecolor\":\"white\",\"ticks\":\"\",\"title\":{\"standoff\":15},\"zerolinecolor\":\"white\",\"automargin\":true,\"zerolinewidth\":2},\"scene\":{\"xaxis\":{\"backgroundcolor\":\"#E5ECF6\",\"gridcolor\":\"white\",\"linecolor\":\"white\",\"showbackground\":true,\"ticks\":\"\",\"zerolinecolor\":\"white\",\"gridwidth\":2},\"yaxis\":{\"backgroundcolor\":\"#E5ECF6\",\"gridcolor\":\"white\",\"linecolor\":\"white\",\"showbackground\":true,\"ticks\":\"\",\"zerolinecolor\":\"white\",\"gridwidth\":2},\"zaxis\":{\"backgroundcolor\":\"#E5ECF6\",\"gridcolor\":\"white\",\"linecolor\":\"white\",\"showbackground\":true,\"ticks\":\"\",\"zerolinecolor\":\"white\",\"gridwidth\":2}},\"shapedefaults\":{\"line\":{\"color\":\"#2a3f5f\"}},\"annotationdefaults\":{\"arrowcolor\":\"#2a3f5f\",\"arrowhead\":0,\"arrowwidth\":1},\"geo\":{\"bgcolor\":\"white\",\"landcolor\":\"#E5ECF6\",\"subunitcolor\":\"white\",\"showland\":true,\"showlakes\":true,\"lakecolor\":\"white\"},\"title\":{\"x\":0.05},\"mapbox\":{\"style\":\"light\"}}},\"title\":{\"text\":\"Scipy and custom interpolations\"},\"xaxis\":{\"title\":{\"text\":\"time\"}},\"yaxis\":{\"title\":{\"text\":\"heart rate\"}}},                        {\"responsive\": true}                    ).then(function(){\n",
       "                            \n",
       "var gd = document.getElementById('98f0901c-66fb-4094-9f7d-3007709eab02');\n",
       "var x = new MutationObserver(function (mutations, observer) {{\n",
       "        var display = window.getComputedStyle(gd).display;\n",
       "        if (!display || display === 'none') {{\n",
       "            console.log([gd, 'removed!']);\n",
       "            Plotly.purge(gd);\n",
       "            observer.disconnect();\n",
       "        }}\n",
       "}});\n",
       "\n",
       "// Listen for the removal of the full notebook cells\n",
       "var notebookContainer = gd.closest('#notebook-container');\n",
       "if (notebookContainer) {{\n",
       "    x.observe(notebookContainer, {childList: true});\n",
       "}}\n",
       "\n",
       "// Listen for the clearing of the current output cell\n",
       "var outputEl = gd.closest('.output');\n",
       "if (outputEl) {{\n",
       "    x.observe(outputEl, {childList: true});\n",
       "}}\n",
       "\n",
       "                        })                };                });            </script>        </div>"
      ]
     },
     "metadata": {},
     "output_type": "display_data"
    }
   ],
   "source": [
    "# Create a figure\n",
    "fig = go.Figure()\n",
    "\n",
    "# Add scatter plot\n",
    "fig.add_trace(go.Scatter(x=x_train, y=y_train, mode=\"markers\", name=\"Original data\"))\n",
    "\n",
    "# Add line plot\n",
    "fig.add_trace(go.Scatter(x=x_test, y=y_test, mode=\"lines\", name=\"Fitted line\"))\n",
    "\n",
    "y_test_custom = [custom_spline.interpolate(x) for x in x_test]\n",
    "assert np.allclose(y_test, y_test_custom)\n",
    "fig.add_trace(\n",
    "    go.Scatter(x=x_test, y=y_test_custom, mode=\"lines\", name=\"Fitted line (custom)\", line=dict(dash=\"longdash\"))\n",
    ")\n",
    "\n",
    "# Add titles and labels\n",
    "fig.update_layout(title=\"Scipy and custom interpolations\", xaxis_title=\"time\", yaxis_title=\"heart rate\")\n",
    "\n",
    "# Show the plot\n",
    "fig.show()"
   ]
  }
 ],
 "metadata": {
  "accelerator": "GPU",
  "colab": {
   "collapsed_sections": [],
   "name": "easy-captcha-fastai-v2.ipynb",
   "provenance": [],
   "toc_visible": true
  },
  "kernelspec": {
   "display_name": "Python 3 (ipykernel)",
   "language": "python",
   "name": "python3"
  },
  "language_info": {
   "codemirror_mode": {
    "name": "ipython",
    "version": 3
   },
   "file_extension": ".py",
   "mimetype": "text/x-python",
   "name": "python",
   "nbconvert_exporter": "python",
   "pygments_lexer": "ipython3",
   "version": "3.12.2"
  }
 },
 "nbformat": 4,
 "nbformat_minor": 4
}
