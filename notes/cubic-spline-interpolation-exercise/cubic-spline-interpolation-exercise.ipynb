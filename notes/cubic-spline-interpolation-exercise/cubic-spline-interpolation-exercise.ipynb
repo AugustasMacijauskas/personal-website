{
 "cells": [
  {
   "cell_type": "raw",
   "metadata": {
    "vscode": {
     "languageId": "raw"
    }
   },
   "source": [
    "---\n",
    "title: Cubic spline interpolation exercise\n",
    "description: Large language models (predictably) learn to represent the semantic meaning of sentences.\n",
    "author: Augustas Macijauskas\n",
    "date: \"2024/04/13\"\n",
    "image: dalle-3-cubic-spline-interpolation-exercise.webp\n",
    "image-alt: Cubic spline interpolation as imaged by DALL-E 3\n",
    "toc: true\n",
    "categories: [scientific computing, numerical methods]\n",
    "draft: false\n",
    "---"
   ]
  },
  {
   "cell_type": "markdown",
   "metadata": {},
   "source": [
    "# Cubic spline interpolation exercise\n",
    "\n",
    "I somehow stumbled upon cubic spline interpolation quite accidentally, but it caught my interest with all of the neat linear algebra and scientific computing techniques behind it. This got me excited to revise materials from my undergrad classes and try to implement the method in Python from scratch.\n",
    "\n",
    "Resources:\n",
    "\n",
    "1. The scipy <a href=\"https://docs.scipy.org/doc/scipy/reference/generated/scipy.interpolate.CubicSpline.html\" target=\"_blank\">scipy implementation</a> of the method.\n",
    "1. <a href=\"https://en.wikiversity.org/wiki/Cubic_Spline_Interpolation\" target=\"_blank\">Cubic Spline Interpolation</a> on Wikiversity."
   ]
  },
  {
   "cell_type": "markdown",
   "metadata": {
    "id": "C4GutaJHmEat"
   },
   "source": [
    "## Imports\n",
    "\n",
    "Toggle cells below if you want to see what imports are being made."
   ]
  },
  {
   "cell_type": "code",
   "execution_count": 1,
   "metadata": {
    "id": "Oi5gbToTf2Nb"
   },
   "outputs": [],
   "source": [
    "#|code-fold: true\n",
    "%load_ext autoreload\n",
    "%autoreload 2"
   ]
  },
  {
   "cell_type": "code",
   "execution_count": 2,
   "metadata": {},
   "outputs": [],
   "source": [
    "#|code-fold: true\n",
    "import numpy as np\n",
    "import plotly.graph_objects as go\n",
    "from scipy.interpolate import CubicSpline\n",
    "\n",
    "# Ensures we can render plotly plots with quarto\n",
    "import plotly.io as pio\n",
    "pio.renderers.default = \"plotly_mimetype+notebook_connected\""
   ]
  },
  {
   "cell_type": "markdown",
   "metadata": {},
   "source": [
    "## Data"
   ]
  },
  {
   "cell_type": "markdown",
   "metadata": {},
   "source": [
    "## Cubic spline interpolation with scipy"
   ]
  },
  {
   "cell_type": "code",
   "execution_count": 3,
   "metadata": {},
   "outputs": [],
   "source": [
    "x_train = np.linspace(0, 10, 11)\n",
    "y_train = np.sin(x_train) + np.random.normal(0, 0.5, 11)"
   ]
  },
  {
   "cell_type": "code",
   "execution_count": 4,
   "metadata": {},
   "outputs": [],
   "source": [
    "cs = CubicSpline(x_train, y_train, bc_type=\"natural\", extrapolate=True)\n",
    "\n",
    "x_test = np.linspace(-1, 11, 121)\n",
    "y_test = cs(x_test)"
   ]
  },
  {
   "cell_type": "code",
   "execution_count": 5,
   "metadata": {},
   "outputs": [
    {
     "data": {
      "text/html": [
       "        <script type=\"text/javascript\">\n",
       "        window.PlotlyConfig = {MathJaxConfig: 'local'};\n",
       "        if (window.MathJax && window.MathJax.Hub && window.MathJax.Hub.Config) {window.MathJax.Hub.Config({SVG: {font: \"STIX-Web\"}});}\n",
       "        if (typeof require !== 'undefined') {\n",
       "        require.undef(\"plotly\");\n",
       "        requirejs.config({\n",
       "            paths: {\n",
       "                'plotly': ['https://cdn.plot.ly/plotly-2.30.0.min']\n",
       "            }\n",
       "        });\n",
       "        require(['plotly'], function(Plotly) {\n",
       "            window._Plotly = Plotly;\n",
       "        });\n",
       "        }\n",
       "        </script>\n",
       "        "
      ]
     },
     "metadata": {},
     "output_type": "display_data"
    },
    {
     "data": {
      "application/vnd.plotly.v1+json": {
       "config": {
        "plotlyServerURL": "https://plot.ly"
       },
       "data": [
        {
         "mode": "markers",
         "name": "Original points",
         "type": "scatter",
         "x": [
          0,
          1,
          2,
          3,
          4,
          5,
          6,
          7,
          8,
          9,
          10
         ],
         "y": [
          0.06023960725105956,
          0.7476645970438187,
          1.1878760819497403,
          0.17730274228895102,
          -0.8501792141564172,
          -1.1955969226262175,
          0.04320454754473191,
          0.8762558429287948,
          1.9479504519544424,
          0.8697780964452229,
          -0.8453968175925286
         ]
        },
        {
         "mode": "lines",
         "name": "Fitted line",
         "type": "scatter",
         "x": [
          -1,
          -0.9,
          -0.8,
          -0.7,
          -0.6,
          -0.5,
          -0.3999999999999999,
          -0.29999999999999993,
          -0.19999999999999996,
          -0.09999999999999998,
          0,
          0.10000000000000009,
          0.20000000000000018,
          0.30000000000000004,
          0.40000000000000013,
          0.5,
          0.6000000000000001,
          0.7000000000000002,
          0.8,
          0.9000000000000001,
          1,
          1.1,
          1.2000000000000002,
          1.3000000000000003,
          1.4000000000000004,
          1.5,
          1.6,
          1.7000000000000002,
          1.8000000000000003,
          1.9000000000000004,
          2,
          2.1,
          2.2,
          2.3000000000000003,
          2.4000000000000004,
          2.5,
          2.6,
          2.7,
          2.8000000000000003,
          2.9000000000000004,
          3,
          3.1000000000000005,
          3.2,
          3.3,
          3.4000000000000004,
          3.5,
          3.6000000000000005,
          3.7,
          3.8000000000000007,
          3.9000000000000004,
          4,
          4.1000000000000005,
          4.2,
          4.300000000000001,
          4.4,
          4.5,
          4.6000000000000005,
          4.7,
          4.800000000000001,
          4.9,
          5,
          5.1000000000000005,
          5.2,
          5.300000000000001,
          5.4,
          5.5,
          5.6000000000000005,
          5.7,
          5.800000000000001,
          5.9,
          6,
          6.1000000000000005,
          6.2,
          6.300000000000001,
          6.4,
          6.5,
          6.6000000000000005,
          6.7,
          6.800000000000001,
          6.9,
          7,
          7.1,
          7.200000000000001,
          7.300000000000001,
          7.4,
          7.5,
          7.6,
          7.700000000000001,
          7.800000000000001,
          7.9,
          8,
          8.1,
          8.200000000000001,
          8.3,
          8.4,
          8.5,
          8.600000000000001,
          8.700000000000001,
          8.8,
          8.9,
          9,
          9.100000000000001,
          9.200000000000001,
          9.3,
          9.4,
          9.5,
          9.600000000000001,
          9.700000000000001,
          9.8,
          9.9,
          10,
          10.100000000000001,
          10.200000000000001,
          10.3,
          10.4,
          10.5,
          10.600000000000001,
          10.700000000000001,
          10.8,
          10.9,
          11
         ],
         "y": [
          -0.6271853825417,
          -0.5522023377899065,
          -0.4791899917031186,
          -0.4079293777630022,
          -0.3382015294512234,
          -0.2697874802494484,
          -0.20246826363934303,
          -0.13602491310257359,
          -0.07023846212080594,
          -0.004889944175706209,
          0.06023960725105956,
          0.12536915867782542,
          0.19071767662292521,
          0.25650412760469277,
          0.32294747814146224,
          0.39026669475156744,
          0.45868074395334246,
          0.5284085922651212,
          0.5996692062052376,
          0.6726815522920253,
          0.7476645970438187,
          0.824371126955731,
          0.9006892084299918,
          0.9740407278456106,
          1.0418475715815967,
          1.1015316260169588,
          1.1505147775307067,
          1.1862189125018499,
          1.2060659173093966,
          1.2074776783323573,
          1.1878760819497403,
          1.1455913768186452,
          1.0825872607085316,
          1.0017357936669498,
          0.9059090357414492,
          0.7979790469795806,
          0.6808178874288927,
          0.5572976171369357,
          0.4302902961512599,
          0.3026679845194148,
          0.17730274228895102,
          0.05653680794573908,
          -0.05940686627105717,
          -0.17083514968395477,
          -0.2780549116154706,
          -0.38137302138811857,
          -0.4810963483244167,
          -0.5775317617468789,
          -0.6709861309780233,
          -0.7617663253403637,
          -0.8501792141564172,
          -0.9360556461231018,
          -1.0173223874349395,
          -1.0914301836608575,
          -1.1558297803697792,
          -1.207971923130631,
          -1.2453073575123377,
          -1.2652868290838244,
          -1.2653610834140163,
          -1.2429808660718393,
          -1.1955969226262175,
          -1.1218310775208877,
          -1.0249894706988316,
          -0.9095493209778397,
          -0.7799878471757062,
          -0.6407822681102224,
          -0.496409802599179,
          -0.35134766946037055,
          -0.210073087511587,
          -0.07706327557062254,
          0.04320454754473191,
          0.14756933360623817,
          0.23813471674386913,
          0.3183205016771544,
          0.3915464931256205,
          0.4612324958087961,
          0.5307983144462096,
          0.6036637537573879,
          0.6832486184618602,
          0.7729727132791528,
          0.8762558429287948,
          0.9950585714887675,
          1.1255045004708706,
          1.262257990745351,
          1.3999834031824623,
          1.5333450986524553,
          1.6570074380255813,
          1.7656347821720937,
          1.8538914919622393,
          1.9164419282662717,
          1.9479504519544424,
          1.9445693121070284,
          1.9084023106444115,
          1.843041137697001,
          1.752077483395206,
          1.6391030378694342,
          1.507709491250092,
          1.3614885336675924,
          1.2040318552523421,
          1.0389311461347495,
          0.8697780964452229,
          0.6995734587997922,
          0.5289542357569919,
          0.3579664923609713,
          0.18665629365588313,
          0.015069704685879759,
          -0.15674720950488924,
          -0.3287483838722653,
          -0.5008877533720987,
          -0.6731192529602374,
          -0.8453968175925286,
          -1.0176743822248226,
          -1.1899058818129615,
          -1.362045251312795,
          -1.5340464256801711,
          -1.7058633398709369,
          -1.877449928840943,
          -2.0487601275460317,
          -2.2197478709420513,
          -2.3903670939848523,
          -2.5605717316302794
         ]
        }
       ],
       "layout": {
        "template": {
         "data": {
          "bar": [
           {
            "error_x": {
             "color": "#2a3f5f"
            },
            "error_y": {
             "color": "#2a3f5f"
            },
            "marker": {
             "line": {
              "color": "#E5ECF6",
              "width": 0.5
             },
             "pattern": {
              "fillmode": "overlay",
              "size": 10,
              "solidity": 0.2
             }
            },
            "type": "bar"
           }
          ],
          "barpolar": [
           {
            "marker": {
             "line": {
              "color": "#E5ECF6",
              "width": 0.5
             },
             "pattern": {
              "fillmode": "overlay",
              "size": 10,
              "solidity": 0.2
             }
            },
            "type": "barpolar"
           }
          ],
          "carpet": [
           {
            "aaxis": {
             "endlinecolor": "#2a3f5f",
             "gridcolor": "white",
             "linecolor": "white",
             "minorgridcolor": "white",
             "startlinecolor": "#2a3f5f"
            },
            "baxis": {
             "endlinecolor": "#2a3f5f",
             "gridcolor": "white",
             "linecolor": "white",
             "minorgridcolor": "white",
             "startlinecolor": "#2a3f5f"
            },
            "type": "carpet"
           }
          ],
          "choropleth": [
           {
            "colorbar": {
             "outlinewidth": 0,
             "ticks": ""
            },
            "type": "choropleth"
           }
          ],
          "contour": [
           {
            "colorbar": {
             "outlinewidth": 0,
             "ticks": ""
            },
            "colorscale": [
             [
              0,
              "#0d0887"
             ],
             [
              0.1111111111111111,
              "#46039f"
             ],
             [
              0.2222222222222222,
              "#7201a8"
             ],
             [
              0.3333333333333333,
              "#9c179e"
             ],
             [
              0.4444444444444444,
              "#bd3786"
             ],
             [
              0.5555555555555556,
              "#d8576b"
             ],
             [
              0.6666666666666666,
              "#ed7953"
             ],
             [
              0.7777777777777778,
              "#fb9f3a"
             ],
             [
              0.8888888888888888,
              "#fdca26"
             ],
             [
              1,
              "#f0f921"
             ]
            ],
            "type": "contour"
           }
          ],
          "contourcarpet": [
           {
            "colorbar": {
             "outlinewidth": 0,
             "ticks": ""
            },
            "type": "contourcarpet"
           }
          ],
          "heatmap": [
           {
            "colorbar": {
             "outlinewidth": 0,
             "ticks": ""
            },
            "colorscale": [
             [
              0,
              "#0d0887"
             ],
             [
              0.1111111111111111,
              "#46039f"
             ],
             [
              0.2222222222222222,
              "#7201a8"
             ],
             [
              0.3333333333333333,
              "#9c179e"
             ],
             [
              0.4444444444444444,
              "#bd3786"
             ],
             [
              0.5555555555555556,
              "#d8576b"
             ],
             [
              0.6666666666666666,
              "#ed7953"
             ],
             [
              0.7777777777777778,
              "#fb9f3a"
             ],
             [
              0.8888888888888888,
              "#fdca26"
             ],
             [
              1,
              "#f0f921"
             ]
            ],
            "type": "heatmap"
           }
          ],
          "heatmapgl": [
           {
            "colorbar": {
             "outlinewidth": 0,
             "ticks": ""
            },
            "colorscale": [
             [
              0,
              "#0d0887"
             ],
             [
              0.1111111111111111,
              "#46039f"
             ],
             [
              0.2222222222222222,
              "#7201a8"
             ],
             [
              0.3333333333333333,
              "#9c179e"
             ],
             [
              0.4444444444444444,
              "#bd3786"
             ],
             [
              0.5555555555555556,
              "#d8576b"
             ],
             [
              0.6666666666666666,
              "#ed7953"
             ],
             [
              0.7777777777777778,
              "#fb9f3a"
             ],
             [
              0.8888888888888888,
              "#fdca26"
             ],
             [
              1,
              "#f0f921"
             ]
            ],
            "type": "heatmapgl"
           }
          ],
          "histogram": [
           {
            "marker": {
             "pattern": {
              "fillmode": "overlay",
              "size": 10,
              "solidity": 0.2
             }
            },
            "type": "histogram"
           }
          ],
          "histogram2d": [
           {
            "colorbar": {
             "outlinewidth": 0,
             "ticks": ""
            },
            "colorscale": [
             [
              0,
              "#0d0887"
             ],
             [
              0.1111111111111111,
              "#46039f"
             ],
             [
              0.2222222222222222,
              "#7201a8"
             ],
             [
              0.3333333333333333,
              "#9c179e"
             ],
             [
              0.4444444444444444,
              "#bd3786"
             ],
             [
              0.5555555555555556,
              "#d8576b"
             ],
             [
              0.6666666666666666,
              "#ed7953"
             ],
             [
              0.7777777777777778,
              "#fb9f3a"
             ],
             [
              0.8888888888888888,
              "#fdca26"
             ],
             [
              1,
              "#f0f921"
             ]
            ],
            "type": "histogram2d"
           }
          ],
          "histogram2dcontour": [
           {
            "colorbar": {
             "outlinewidth": 0,
             "ticks": ""
            },
            "colorscale": [
             [
              0,
              "#0d0887"
             ],
             [
              0.1111111111111111,
              "#46039f"
             ],
             [
              0.2222222222222222,
              "#7201a8"
             ],
             [
              0.3333333333333333,
              "#9c179e"
             ],
             [
              0.4444444444444444,
              "#bd3786"
             ],
             [
              0.5555555555555556,
              "#d8576b"
             ],
             [
              0.6666666666666666,
              "#ed7953"
             ],
             [
              0.7777777777777778,
              "#fb9f3a"
             ],
             [
              0.8888888888888888,
              "#fdca26"
             ],
             [
              1,
              "#f0f921"
             ]
            ],
            "type": "histogram2dcontour"
           }
          ],
          "mesh3d": [
           {
            "colorbar": {
             "outlinewidth": 0,
             "ticks": ""
            },
            "type": "mesh3d"
           }
          ],
          "parcoords": [
           {
            "line": {
             "colorbar": {
              "outlinewidth": 0,
              "ticks": ""
             }
            },
            "type": "parcoords"
           }
          ],
          "pie": [
           {
            "automargin": true,
            "type": "pie"
           }
          ],
          "scatter": [
           {
            "fillpattern": {
             "fillmode": "overlay",
             "size": 10,
             "solidity": 0.2
            },
            "type": "scatter"
           }
          ],
          "scatter3d": [
           {
            "line": {
             "colorbar": {
              "outlinewidth": 0,
              "ticks": ""
             }
            },
            "marker": {
             "colorbar": {
              "outlinewidth": 0,
              "ticks": ""
             }
            },
            "type": "scatter3d"
           }
          ],
          "scattercarpet": [
           {
            "marker": {
             "colorbar": {
              "outlinewidth": 0,
              "ticks": ""
             }
            },
            "type": "scattercarpet"
           }
          ],
          "scattergeo": [
           {
            "marker": {
             "colorbar": {
              "outlinewidth": 0,
              "ticks": ""
             }
            },
            "type": "scattergeo"
           }
          ],
          "scattergl": [
           {
            "marker": {
             "colorbar": {
              "outlinewidth": 0,
              "ticks": ""
             }
            },
            "type": "scattergl"
           }
          ],
          "scattermapbox": [
           {
            "marker": {
             "colorbar": {
              "outlinewidth": 0,
              "ticks": ""
             }
            },
            "type": "scattermapbox"
           }
          ],
          "scatterpolar": [
           {
            "marker": {
             "colorbar": {
              "outlinewidth": 0,
              "ticks": ""
             }
            },
            "type": "scatterpolar"
           }
          ],
          "scatterpolargl": [
           {
            "marker": {
             "colorbar": {
              "outlinewidth": 0,
              "ticks": ""
             }
            },
            "type": "scatterpolargl"
           }
          ],
          "scatterternary": [
           {
            "marker": {
             "colorbar": {
              "outlinewidth": 0,
              "ticks": ""
             }
            },
            "type": "scatterternary"
           }
          ],
          "surface": [
           {
            "colorbar": {
             "outlinewidth": 0,
             "ticks": ""
            },
            "colorscale": [
             [
              0,
              "#0d0887"
             ],
             [
              0.1111111111111111,
              "#46039f"
             ],
             [
              0.2222222222222222,
              "#7201a8"
             ],
             [
              0.3333333333333333,
              "#9c179e"
             ],
             [
              0.4444444444444444,
              "#bd3786"
             ],
             [
              0.5555555555555556,
              "#d8576b"
             ],
             [
              0.6666666666666666,
              "#ed7953"
             ],
             [
              0.7777777777777778,
              "#fb9f3a"
             ],
             [
              0.8888888888888888,
              "#fdca26"
             ],
             [
              1,
              "#f0f921"
             ]
            ],
            "type": "surface"
           }
          ],
          "table": [
           {
            "cells": {
             "fill": {
              "color": "#EBF0F8"
             },
             "line": {
              "color": "white"
             }
            },
            "header": {
             "fill": {
              "color": "#C8D4E3"
             },
             "line": {
              "color": "white"
             }
            },
            "type": "table"
           }
          ]
         },
         "layout": {
          "annotationdefaults": {
           "arrowcolor": "#2a3f5f",
           "arrowhead": 0,
           "arrowwidth": 1
          },
          "autotypenumbers": "strict",
          "coloraxis": {
           "colorbar": {
            "outlinewidth": 0,
            "ticks": ""
           }
          },
          "colorscale": {
           "diverging": [
            [
             0,
             "#8e0152"
            ],
            [
             0.1,
             "#c51b7d"
            ],
            [
             0.2,
             "#de77ae"
            ],
            [
             0.3,
             "#f1b6da"
            ],
            [
             0.4,
             "#fde0ef"
            ],
            [
             0.5,
             "#f7f7f7"
            ],
            [
             0.6,
             "#e6f5d0"
            ],
            [
             0.7,
             "#b8e186"
            ],
            [
             0.8,
             "#7fbc41"
            ],
            [
             0.9,
             "#4d9221"
            ],
            [
             1,
             "#276419"
            ]
           ],
           "sequential": [
            [
             0,
             "#0d0887"
            ],
            [
             0.1111111111111111,
             "#46039f"
            ],
            [
             0.2222222222222222,
             "#7201a8"
            ],
            [
             0.3333333333333333,
             "#9c179e"
            ],
            [
             0.4444444444444444,
             "#bd3786"
            ],
            [
             0.5555555555555556,
             "#d8576b"
            ],
            [
             0.6666666666666666,
             "#ed7953"
            ],
            [
             0.7777777777777778,
             "#fb9f3a"
            ],
            [
             0.8888888888888888,
             "#fdca26"
            ],
            [
             1,
             "#f0f921"
            ]
           ],
           "sequentialminus": [
            [
             0,
             "#0d0887"
            ],
            [
             0.1111111111111111,
             "#46039f"
            ],
            [
             0.2222222222222222,
             "#7201a8"
            ],
            [
             0.3333333333333333,
             "#9c179e"
            ],
            [
             0.4444444444444444,
             "#bd3786"
            ],
            [
             0.5555555555555556,
             "#d8576b"
            ],
            [
             0.6666666666666666,
             "#ed7953"
            ],
            [
             0.7777777777777778,
             "#fb9f3a"
            ],
            [
             0.8888888888888888,
             "#fdca26"
            ],
            [
             1,
             "#f0f921"
            ]
           ]
          },
          "colorway": [
           "#636efa",
           "#EF553B",
           "#00cc96",
           "#ab63fa",
           "#FFA15A",
           "#19d3f3",
           "#FF6692",
           "#B6E880",
           "#FF97FF",
           "#FECB52"
          ],
          "font": {
           "color": "#2a3f5f"
          },
          "geo": {
           "bgcolor": "white",
           "lakecolor": "white",
           "landcolor": "#E5ECF6",
           "showlakes": true,
           "showland": true,
           "subunitcolor": "white"
          },
          "hoverlabel": {
           "align": "left"
          },
          "hovermode": "closest",
          "mapbox": {
           "style": "light"
          },
          "paper_bgcolor": "white",
          "plot_bgcolor": "#E5ECF6",
          "polar": {
           "angularaxis": {
            "gridcolor": "white",
            "linecolor": "white",
            "ticks": ""
           },
           "bgcolor": "#E5ECF6",
           "radialaxis": {
            "gridcolor": "white",
            "linecolor": "white",
            "ticks": ""
           }
          },
          "scene": {
           "xaxis": {
            "backgroundcolor": "#E5ECF6",
            "gridcolor": "white",
            "gridwidth": 2,
            "linecolor": "white",
            "showbackground": true,
            "ticks": "",
            "zerolinecolor": "white"
           },
           "yaxis": {
            "backgroundcolor": "#E5ECF6",
            "gridcolor": "white",
            "gridwidth": 2,
            "linecolor": "white",
            "showbackground": true,
            "ticks": "",
            "zerolinecolor": "white"
           },
           "zaxis": {
            "backgroundcolor": "#E5ECF6",
            "gridcolor": "white",
            "gridwidth": 2,
            "linecolor": "white",
            "showbackground": true,
            "ticks": "",
            "zerolinecolor": "white"
           }
          },
          "shapedefaults": {
           "line": {
            "color": "#2a3f5f"
           }
          },
          "ternary": {
           "aaxis": {
            "gridcolor": "white",
            "linecolor": "white",
            "ticks": ""
           },
           "baxis": {
            "gridcolor": "white",
            "linecolor": "white",
            "ticks": ""
           },
           "bgcolor": "#E5ECF6",
           "caxis": {
            "gridcolor": "white",
            "linecolor": "white",
            "ticks": ""
           }
          },
          "title": {
           "x": 0.05
          },
          "xaxis": {
           "automargin": true,
           "gridcolor": "white",
           "linecolor": "white",
           "ticks": "",
           "title": {
            "standoff": 15
           },
           "zerolinecolor": "white",
           "zerolinewidth": 2
          },
          "yaxis": {
           "automargin": true,
           "gridcolor": "white",
           "linecolor": "white",
           "ticks": "",
           "title": {
            "standoff": 15
           },
           "zerolinecolor": "white",
           "zerolinewidth": 2
          }
         }
        },
        "title": {
         "text": "Scipy interpolation"
        },
        "xaxis": {
         "title": {
          "text": "x"
         }
        },
        "yaxis": {
         "title": {
          "text": "y"
         }
        }
       }
      },
      "text/html": [
       "<div>                            <div id=\"cfaf4cbd-75b2-4d8e-b55b-c748305c2e21\" class=\"plotly-graph-div\" style=\"height:525px; width:100%;\"></div>            <script type=\"text/javascript\">                require([\"plotly\"], function(Plotly) {                    window.PLOTLYENV=window.PLOTLYENV || {};                                    if (document.getElementById(\"cfaf4cbd-75b2-4d8e-b55b-c748305c2e21\")) {                    Plotly.newPlot(                        \"cfaf4cbd-75b2-4d8e-b55b-c748305c2e21\",                        [{\"mode\":\"markers\",\"name\":\"Original points\",\"x\":[0.0,1.0,2.0,3.0,4.0,5.0,6.0,7.0,8.0,9.0,10.0],\"y\":[0.06023960725105956,0.7476645970438187,1.1878760819497403,0.17730274228895102,-0.8501792141564172,-1.1955969226262175,0.04320454754473191,0.8762558429287948,1.9479504519544424,0.8697780964452229,-0.8453968175925286],\"type\":\"scatter\"},{\"mode\":\"lines\",\"name\":\"Fitted line\",\"x\":[-1.0,-0.9,-0.8,-0.7,-0.6,-0.5,-0.3999999999999999,-0.29999999999999993,-0.19999999999999996,-0.09999999999999998,0.0,0.10000000000000009,0.20000000000000018,0.30000000000000004,0.40000000000000013,0.5,0.6000000000000001,0.7000000000000002,0.8,0.9000000000000001,1.0,1.1,1.2000000000000002,1.3000000000000003,1.4000000000000004,1.5,1.6,1.7000000000000002,1.8000000000000003,1.9000000000000004,2.0,2.1,2.2,2.3000000000000003,2.4000000000000004,2.5,2.6,2.7,2.8000000000000003,2.9000000000000004,3.0,3.1000000000000005,3.2,3.3,3.4000000000000004,3.5,3.6000000000000005,3.7,3.8000000000000007,3.9000000000000004,4.0,4.1000000000000005,4.2,4.300000000000001,4.4,4.5,4.6000000000000005,4.7,4.800000000000001,4.9,5.0,5.1000000000000005,5.2,5.300000000000001,5.4,5.5,5.6000000000000005,5.7,5.800000000000001,5.9,6.0,6.1000000000000005,6.2,6.300000000000001,6.4,6.5,6.6000000000000005,6.7,6.800000000000001,6.9,7.0,7.1,7.200000000000001,7.300000000000001,7.4,7.5,7.6,7.700000000000001,7.800000000000001,7.9,8.0,8.1,8.200000000000001,8.3,8.4,8.5,8.600000000000001,8.700000000000001,8.8,8.9,9.0,9.100000000000001,9.200000000000001,9.3,9.4,9.5,9.600000000000001,9.700000000000001,9.8,9.9,10.0,10.100000000000001,10.200000000000001,10.3,10.4,10.5,10.600000000000001,10.700000000000001,10.8,10.9,11.0],\"y\":[-0.6271853825417,-0.5522023377899065,-0.4791899917031186,-0.4079293777630022,-0.3382015294512234,-0.2697874802494484,-0.20246826363934303,-0.13602491310257359,-0.07023846212080594,-0.004889944175706209,0.06023960725105956,0.12536915867782542,0.19071767662292521,0.25650412760469277,0.32294747814146224,0.39026669475156744,0.45868074395334246,0.5284085922651212,0.5996692062052376,0.6726815522920253,0.7476645970438187,0.824371126955731,0.9006892084299918,0.9740407278456106,1.0418475715815967,1.1015316260169588,1.1505147775307067,1.1862189125018499,1.2060659173093966,1.2074776783323573,1.1878760819497403,1.1455913768186452,1.0825872607085316,1.0017357936669498,0.9059090357414492,0.7979790469795806,0.6808178874288927,0.5572976171369357,0.4302902961512599,0.3026679845194148,0.17730274228895102,0.05653680794573908,-0.05940686627105717,-0.17083514968395477,-0.2780549116154706,-0.38137302138811857,-0.4810963483244167,-0.5775317617468789,-0.6709861309780233,-0.7617663253403637,-0.8501792141564172,-0.9360556461231018,-1.0173223874349395,-1.0914301836608575,-1.1558297803697792,-1.207971923130631,-1.2453073575123377,-1.2652868290838244,-1.2653610834140163,-1.2429808660718393,-1.1955969226262175,-1.1218310775208877,-1.0249894706988316,-0.9095493209778397,-0.7799878471757062,-0.6407822681102224,-0.496409802599179,-0.35134766946037055,-0.210073087511587,-0.07706327557062254,0.04320454754473191,0.14756933360623817,0.23813471674386913,0.3183205016771544,0.3915464931256205,0.4612324958087961,0.5307983144462096,0.6036637537573879,0.6832486184618602,0.7729727132791528,0.8762558429287948,0.9950585714887675,1.1255045004708706,1.262257990745351,1.3999834031824623,1.5333450986524553,1.6570074380255813,1.7656347821720937,1.8538914919622393,1.9164419282662717,1.9479504519544424,1.9445693121070284,1.9084023106444115,1.843041137697001,1.752077483395206,1.6391030378694342,1.507709491250092,1.3614885336675924,1.2040318552523421,1.0389311461347495,0.8697780964452229,0.6995734587997922,0.5289542357569919,0.3579664923609713,0.18665629365588313,0.015069704685879759,-0.15674720950488924,-0.3287483838722653,-0.5008877533720987,-0.6731192529602374,-0.8453968175925286,-1.0176743822248226,-1.1899058818129615,-1.362045251312795,-1.5340464256801711,-1.7058633398709369,-1.877449928840943,-2.0487601275460317,-2.2197478709420513,-2.3903670939848523,-2.5605717316302794],\"type\":\"scatter\"}],                        {\"template\":{\"data\":{\"histogram2dcontour\":[{\"type\":\"histogram2dcontour\",\"colorbar\":{\"outlinewidth\":0,\"ticks\":\"\"},\"colorscale\":[[0.0,\"#0d0887\"],[0.1111111111111111,\"#46039f\"],[0.2222222222222222,\"#7201a8\"],[0.3333333333333333,\"#9c179e\"],[0.4444444444444444,\"#bd3786\"],[0.5555555555555556,\"#d8576b\"],[0.6666666666666666,\"#ed7953\"],[0.7777777777777778,\"#fb9f3a\"],[0.8888888888888888,\"#fdca26\"],[1.0,\"#f0f921\"]]}],\"choropleth\":[{\"type\":\"choropleth\",\"colorbar\":{\"outlinewidth\":0,\"ticks\":\"\"}}],\"histogram2d\":[{\"type\":\"histogram2d\",\"colorbar\":{\"outlinewidth\":0,\"ticks\":\"\"},\"colorscale\":[[0.0,\"#0d0887\"],[0.1111111111111111,\"#46039f\"],[0.2222222222222222,\"#7201a8\"],[0.3333333333333333,\"#9c179e\"],[0.4444444444444444,\"#bd3786\"],[0.5555555555555556,\"#d8576b\"],[0.6666666666666666,\"#ed7953\"],[0.7777777777777778,\"#fb9f3a\"],[0.8888888888888888,\"#fdca26\"],[1.0,\"#f0f921\"]]}],\"heatmap\":[{\"type\":\"heatmap\",\"colorbar\":{\"outlinewidth\":0,\"ticks\":\"\"},\"colorscale\":[[0.0,\"#0d0887\"],[0.1111111111111111,\"#46039f\"],[0.2222222222222222,\"#7201a8\"],[0.3333333333333333,\"#9c179e\"],[0.4444444444444444,\"#bd3786\"],[0.5555555555555556,\"#d8576b\"],[0.6666666666666666,\"#ed7953\"],[0.7777777777777778,\"#fb9f3a\"],[0.8888888888888888,\"#fdca26\"],[1.0,\"#f0f921\"]]}],\"heatmapgl\":[{\"type\":\"heatmapgl\",\"colorbar\":{\"outlinewidth\":0,\"ticks\":\"\"},\"colorscale\":[[0.0,\"#0d0887\"],[0.1111111111111111,\"#46039f\"],[0.2222222222222222,\"#7201a8\"],[0.3333333333333333,\"#9c179e\"],[0.4444444444444444,\"#bd3786\"],[0.5555555555555556,\"#d8576b\"],[0.6666666666666666,\"#ed7953\"],[0.7777777777777778,\"#fb9f3a\"],[0.8888888888888888,\"#fdca26\"],[1.0,\"#f0f921\"]]}],\"contourcarpet\":[{\"type\":\"contourcarpet\",\"colorbar\":{\"outlinewidth\":0,\"ticks\":\"\"}}],\"contour\":[{\"type\":\"contour\",\"colorbar\":{\"outlinewidth\":0,\"ticks\":\"\"},\"colorscale\":[[0.0,\"#0d0887\"],[0.1111111111111111,\"#46039f\"],[0.2222222222222222,\"#7201a8\"],[0.3333333333333333,\"#9c179e\"],[0.4444444444444444,\"#bd3786\"],[0.5555555555555556,\"#d8576b\"],[0.6666666666666666,\"#ed7953\"],[0.7777777777777778,\"#fb9f3a\"],[0.8888888888888888,\"#fdca26\"],[1.0,\"#f0f921\"]]}],\"surface\":[{\"type\":\"surface\",\"colorbar\":{\"outlinewidth\":0,\"ticks\":\"\"},\"colorscale\":[[0.0,\"#0d0887\"],[0.1111111111111111,\"#46039f\"],[0.2222222222222222,\"#7201a8\"],[0.3333333333333333,\"#9c179e\"],[0.4444444444444444,\"#bd3786\"],[0.5555555555555556,\"#d8576b\"],[0.6666666666666666,\"#ed7953\"],[0.7777777777777778,\"#fb9f3a\"],[0.8888888888888888,\"#fdca26\"],[1.0,\"#f0f921\"]]}],\"mesh3d\":[{\"type\":\"mesh3d\",\"colorbar\":{\"outlinewidth\":0,\"ticks\":\"\"}}],\"scatter\":[{\"fillpattern\":{\"fillmode\":\"overlay\",\"size\":10,\"solidity\":0.2},\"type\":\"scatter\"}],\"parcoords\":[{\"type\":\"parcoords\",\"line\":{\"colorbar\":{\"outlinewidth\":0,\"ticks\":\"\"}}}],\"scatterpolargl\":[{\"type\":\"scatterpolargl\",\"marker\":{\"colorbar\":{\"outlinewidth\":0,\"ticks\":\"\"}}}],\"bar\":[{\"error_x\":{\"color\":\"#2a3f5f\"},\"error_y\":{\"color\":\"#2a3f5f\"},\"marker\":{\"line\":{\"color\":\"#E5ECF6\",\"width\":0.5},\"pattern\":{\"fillmode\":\"overlay\",\"size\":10,\"solidity\":0.2}},\"type\":\"bar\"}],\"scattergeo\":[{\"type\":\"scattergeo\",\"marker\":{\"colorbar\":{\"outlinewidth\":0,\"ticks\":\"\"}}}],\"scatterpolar\":[{\"type\":\"scatterpolar\",\"marker\":{\"colorbar\":{\"outlinewidth\":0,\"ticks\":\"\"}}}],\"histogram\":[{\"marker\":{\"pattern\":{\"fillmode\":\"overlay\",\"size\":10,\"solidity\":0.2}},\"type\":\"histogram\"}],\"scattergl\":[{\"type\":\"scattergl\",\"marker\":{\"colorbar\":{\"outlinewidth\":0,\"ticks\":\"\"}}}],\"scatter3d\":[{\"type\":\"scatter3d\",\"line\":{\"colorbar\":{\"outlinewidth\":0,\"ticks\":\"\"}},\"marker\":{\"colorbar\":{\"outlinewidth\":0,\"ticks\":\"\"}}}],\"scattermapbox\":[{\"type\":\"scattermapbox\",\"marker\":{\"colorbar\":{\"outlinewidth\":0,\"ticks\":\"\"}}}],\"scatterternary\":[{\"type\":\"scatterternary\",\"marker\":{\"colorbar\":{\"outlinewidth\":0,\"ticks\":\"\"}}}],\"scattercarpet\":[{\"type\":\"scattercarpet\",\"marker\":{\"colorbar\":{\"outlinewidth\":0,\"ticks\":\"\"}}}],\"carpet\":[{\"aaxis\":{\"endlinecolor\":\"#2a3f5f\",\"gridcolor\":\"white\",\"linecolor\":\"white\",\"minorgridcolor\":\"white\",\"startlinecolor\":\"#2a3f5f\"},\"baxis\":{\"endlinecolor\":\"#2a3f5f\",\"gridcolor\":\"white\",\"linecolor\":\"white\",\"minorgridcolor\":\"white\",\"startlinecolor\":\"#2a3f5f\"},\"type\":\"carpet\"}],\"table\":[{\"cells\":{\"fill\":{\"color\":\"#EBF0F8\"},\"line\":{\"color\":\"white\"}},\"header\":{\"fill\":{\"color\":\"#C8D4E3\"},\"line\":{\"color\":\"white\"}},\"type\":\"table\"}],\"barpolar\":[{\"marker\":{\"line\":{\"color\":\"#E5ECF6\",\"width\":0.5},\"pattern\":{\"fillmode\":\"overlay\",\"size\":10,\"solidity\":0.2}},\"type\":\"barpolar\"}],\"pie\":[{\"automargin\":true,\"type\":\"pie\"}]},\"layout\":{\"autotypenumbers\":\"strict\",\"colorway\":[\"#636efa\",\"#EF553B\",\"#00cc96\",\"#ab63fa\",\"#FFA15A\",\"#19d3f3\",\"#FF6692\",\"#B6E880\",\"#FF97FF\",\"#FECB52\"],\"font\":{\"color\":\"#2a3f5f\"},\"hovermode\":\"closest\",\"hoverlabel\":{\"align\":\"left\"},\"paper_bgcolor\":\"white\",\"plot_bgcolor\":\"#E5ECF6\",\"polar\":{\"bgcolor\":\"#E5ECF6\",\"angularaxis\":{\"gridcolor\":\"white\",\"linecolor\":\"white\",\"ticks\":\"\"},\"radialaxis\":{\"gridcolor\":\"white\",\"linecolor\":\"white\",\"ticks\":\"\"}},\"ternary\":{\"bgcolor\":\"#E5ECF6\",\"aaxis\":{\"gridcolor\":\"white\",\"linecolor\":\"white\",\"ticks\":\"\"},\"baxis\":{\"gridcolor\":\"white\",\"linecolor\":\"white\",\"ticks\":\"\"},\"caxis\":{\"gridcolor\":\"white\",\"linecolor\":\"white\",\"ticks\":\"\"}},\"coloraxis\":{\"colorbar\":{\"outlinewidth\":0,\"ticks\":\"\"}},\"colorscale\":{\"sequential\":[[0.0,\"#0d0887\"],[0.1111111111111111,\"#46039f\"],[0.2222222222222222,\"#7201a8\"],[0.3333333333333333,\"#9c179e\"],[0.4444444444444444,\"#bd3786\"],[0.5555555555555556,\"#d8576b\"],[0.6666666666666666,\"#ed7953\"],[0.7777777777777778,\"#fb9f3a\"],[0.8888888888888888,\"#fdca26\"],[1.0,\"#f0f921\"]],\"sequentialminus\":[[0.0,\"#0d0887\"],[0.1111111111111111,\"#46039f\"],[0.2222222222222222,\"#7201a8\"],[0.3333333333333333,\"#9c179e\"],[0.4444444444444444,\"#bd3786\"],[0.5555555555555556,\"#d8576b\"],[0.6666666666666666,\"#ed7953\"],[0.7777777777777778,\"#fb9f3a\"],[0.8888888888888888,\"#fdca26\"],[1.0,\"#f0f921\"]],\"diverging\":[[0,\"#8e0152\"],[0.1,\"#c51b7d\"],[0.2,\"#de77ae\"],[0.3,\"#f1b6da\"],[0.4,\"#fde0ef\"],[0.5,\"#f7f7f7\"],[0.6,\"#e6f5d0\"],[0.7,\"#b8e186\"],[0.8,\"#7fbc41\"],[0.9,\"#4d9221\"],[1,\"#276419\"]]},\"xaxis\":{\"gridcolor\":\"white\",\"linecolor\":\"white\",\"ticks\":\"\",\"title\":{\"standoff\":15},\"zerolinecolor\":\"white\",\"automargin\":true,\"zerolinewidth\":2},\"yaxis\":{\"gridcolor\":\"white\",\"linecolor\":\"white\",\"ticks\":\"\",\"title\":{\"standoff\":15},\"zerolinecolor\":\"white\",\"automargin\":true,\"zerolinewidth\":2},\"scene\":{\"xaxis\":{\"backgroundcolor\":\"#E5ECF6\",\"gridcolor\":\"white\",\"linecolor\":\"white\",\"showbackground\":true,\"ticks\":\"\",\"zerolinecolor\":\"white\",\"gridwidth\":2},\"yaxis\":{\"backgroundcolor\":\"#E5ECF6\",\"gridcolor\":\"white\",\"linecolor\":\"white\",\"showbackground\":true,\"ticks\":\"\",\"zerolinecolor\":\"white\",\"gridwidth\":2},\"zaxis\":{\"backgroundcolor\":\"#E5ECF6\",\"gridcolor\":\"white\",\"linecolor\":\"white\",\"showbackground\":true,\"ticks\":\"\",\"zerolinecolor\":\"white\",\"gridwidth\":2}},\"shapedefaults\":{\"line\":{\"color\":\"#2a3f5f\"}},\"annotationdefaults\":{\"arrowcolor\":\"#2a3f5f\",\"arrowhead\":0,\"arrowwidth\":1},\"geo\":{\"bgcolor\":\"white\",\"landcolor\":\"#E5ECF6\",\"subunitcolor\":\"white\",\"showland\":true,\"showlakes\":true,\"lakecolor\":\"white\"},\"title\":{\"x\":0.05},\"mapbox\":{\"style\":\"light\"}}},\"title\":{\"text\":\"Scipy interpolation\"},\"xaxis\":{\"title\":{\"text\":\"x\"}},\"yaxis\":{\"title\":{\"text\":\"y\"}}},                        {\"responsive\": true}                    ).then(function(){\n",
       "                            \n",
       "var gd = document.getElementById('cfaf4cbd-75b2-4d8e-b55b-c748305c2e21');\n",
       "var x = new MutationObserver(function (mutations, observer) {{\n",
       "        var display = window.getComputedStyle(gd).display;\n",
       "        if (!display || display === 'none') {{\n",
       "            console.log([gd, 'removed!']);\n",
       "            Plotly.purge(gd);\n",
       "            observer.disconnect();\n",
       "        }}\n",
       "}});\n",
       "\n",
       "// Listen for the removal of the full notebook cells\n",
       "var notebookContainer = gd.closest('#notebook-container');\n",
       "if (notebookContainer) {{\n",
       "    x.observe(notebookContainer, {childList: true});\n",
       "}}\n",
       "\n",
       "// Listen for the clearing of the current output cell\n",
       "var outputEl = gd.closest('.output');\n",
       "if (outputEl) {{\n",
       "    x.observe(outputEl, {childList: true});\n",
       "}}\n",
       "\n",
       "                        })                };                });            </script>        </div>"
      ]
     },
     "metadata": {},
     "output_type": "display_data"
    }
   ],
   "source": [
    "# Create a figure\n",
    "fig = go.Figure()\n",
    "\n",
    "# Add scatter plot\n",
    "fig.add_trace(go.Scatter(x=x_train, y=y_train, mode='markers', name='Original points'))\n",
    "\n",
    "# Add line plot\n",
    "fig.add_trace(go.Scatter(x=x_test, y=y_test, mode='lines', name='Fitted line'))\n",
    "\n",
    "# Add titles and labels\n",
    "fig.update_layout(title=\"Scipy interpolation\", xaxis_title=\"x\", yaxis_title=\"y\")\n",
    "\n",
    "# Show the plot\n",
    "fig.show()\n"
   ]
  },
  {
   "cell_type": "markdown",
   "metadata": {},
   "source": [
    "## Custom implementation of cubic spline interpolation"
   ]
  },
  {
   "cell_type": "code",
   "execution_count": 6,
   "metadata": {},
   "outputs": [],
   "source": [
    "def tridiagonal_linear_system_solver(d_lower, d_main, d_upper, b):\n",
    "    \"\"\"Solve a tridiagonal linear system given the main, lower, and upper diagonals, as well as the vector b\"\"\"\n",
    "\n",
    "    n = len(d_main)\n",
    "\n",
    "    # Forward sweep\n",
    "    for i in range(1, n):\n",
    "        w = d_lower[i - 1] / d_main[i - 1]\n",
    "        d_main[i] -= w * d_upper[i - 1]\n",
    "        b[i] -= w * b[i - 1]\n",
    "\n",
    "    # Back substitution\n",
    "    x = np.zeros(n)\n",
    "    x[-1] = b[-1] / d_main[-1]\n",
    "    for i in range(n - 2, -1, -1):\n",
    "        x[i] = (b[i] - d_upper[i] * x[i + 1]) / d_main[i]\n",
    "\n",
    "    return x\n",
    "\n",
    "\n",
    "class CubicSplineCustom:\n",
    "\n",
    "    def __init__(self, x, y):\n",
    "        if not np.all(np.diff(x) > 0):\n",
    "            raise ValueError(\"x values must be in ascending order.\")\n",
    "\n",
    "        self.x = np.array(x)\n",
    "        self.y = np.array(y)\n",
    "        self._find_coeffs()\n",
    "\n",
    "    def _find_coeffs(self):\n",
    "        # Find the relevant diagonals and from self.x and self.y assuming natural boundary conditions\n",
    "        d_lower, d_main, d_upper, b, h = self._compute_diagonals_and_b()\n",
    "\n",
    "        # Compute the M_i's for i = 1, n-1 (since M_0 and M_n are assumed to be 0). This will require solving a\n",
    "        # tridiagonal linear system\n",
    "        ms = tridiagonal_linear_system_solver(d_lower, d_main, d_upper, b)\n",
    "\n",
    "        # Compute the coefficients of the cubic polynomials\n",
    "        self.c = self._compute_coefficients_from_second_derivatives(ms, h)\n",
    "\n",
    "    def _compute_diagonals_and_b(self):\n",
    "        x, y = self.x, self.y\n",
    "        h = np.diff(x)\n",
    "\n",
    "        # Compute the diagonals for the tridiagonal matrix\n",
    "        d_lower = h.copy()\n",
    "        d_lower[-1] = 0  # one of the naturals BCs\n",
    "        d_upper = h.copy()\n",
    "        d_upper[0] = 0\n",
    "\n",
    "        d_main = 2 * np.ones(len(x))\n",
    "        d_main[1:-1] *= h[:-1] + h[1:]\n",
    "\n",
    "        b = np.zeros(len(x))\n",
    "        y_diff = np.diff(y)\n",
    "        b[1:-1] = 6 * (y_diff[1:] / h[1:] - y_diff[:-1] / h[:-1])\n",
    "\n",
    "        return d_lower, d_main, d_upper, b, h\n",
    "\n",
    "    def _compute_coefficients_from_second_derivatives(self, ms, h):\n",
    "        coeffs = np.zeros((4, len(self.x) - 1))\n",
    "        coeffs[0, :] = (ms[1:] - ms[:-1]) / (6 * h)\n",
    "        coeffs[1, :] = ms[:-1] / 2\n",
    "        coeffs[2, :] = (self.y[1:] - self.y[:-1]) / h - (ms[1:] + 2 * ms[:-1]) * h / 6\n",
    "        coeffs[3, :] = self.y[:-1]\n",
    "\n",
    "        return coeffs\n",
    "\n",
    "    def _get_index(self, x):\n",
    "        \"\"\"Performs binary search\"\"\"\n",
    "        low, high = 0, len(self.x) - 1\n",
    "\n",
    "        while low < high:\n",
    "            mid = (low + high) // 2\n",
    "            if self.x[mid] <= x:\n",
    "                low = mid + 1\n",
    "            else:\n",
    "                high = mid\n",
    "\n",
    "        return min(max(low - 1, 0), len(self.x) - 2)\n",
    "\n",
    "    def interpolate(self, x: float):\n",
    "        # Find which polynomial is appropriate and evaluate at x\n",
    "        idx = self._get_index(x)\n",
    "        dx = x - self.x[idx]\n",
    "        return (self.c[0, idx] * dx + self.c[1, idx]) * dx**2 + self.c[2, idx] * dx + self.c[3, idx]\n"
   ]
  },
  {
   "cell_type": "code",
   "execution_count": 7,
   "metadata": {},
   "outputs": [
    {
     "data": {
      "text/plain": [
       "2.4075003542614415e-16"
      ]
     },
     "execution_count": 7,
     "metadata": {},
     "output_type": "execute_result"
    }
   ],
   "source": [
    "custom_spline = CubicSplineCustom(x_train, y_train)\n",
    "\n",
    "assert cs.c.shape == custom_spline.c.shape\n",
    "assert np.allclose(cs.c, custom_spline.c)\n",
    "np.sqrt(((cs.c - custom_spline.c) ** 2).mean())"
   ]
  },
  {
   "cell_type": "code",
   "execution_count": 8,
   "metadata": {},
   "outputs": [],
   "source": [
    "assert np.allclose(custom_spline.interpolate(-1), cs(-1))\n",
    "assert np.allclose(custom_spline.interpolate(86500), cs(86500))"
   ]
  },
  {
   "cell_type": "code",
   "execution_count": 9,
   "metadata": {},
   "outputs": [
    {
     "data": {
      "application/vnd.plotly.v1+json": {
       "config": {
        "plotlyServerURL": "https://plot.ly"
       },
       "data": [
        {
         "mode": "markers",
         "name": "Original data",
         "type": "scatter",
         "x": [
          0,
          1,
          2,
          3,
          4,
          5,
          6,
          7,
          8,
          9,
          10
         ],
         "y": [
          0.06023960725105956,
          0.7476645970438187,
          1.1878760819497403,
          0.17730274228895102,
          -0.8501792141564172,
          -1.1955969226262175,
          0.04320454754473191,
          0.8762558429287948,
          1.9479504519544424,
          0.8697780964452229,
          -0.8453968175925286
         ]
        },
        {
         "mode": "lines",
         "name": "Fitted line",
         "type": "scatter",
         "x": [
          -1,
          -0.9,
          -0.8,
          -0.7,
          -0.6,
          -0.5,
          -0.3999999999999999,
          -0.29999999999999993,
          -0.19999999999999996,
          -0.09999999999999998,
          0,
          0.10000000000000009,
          0.20000000000000018,
          0.30000000000000004,
          0.40000000000000013,
          0.5,
          0.6000000000000001,
          0.7000000000000002,
          0.8,
          0.9000000000000001,
          1,
          1.1,
          1.2000000000000002,
          1.3000000000000003,
          1.4000000000000004,
          1.5,
          1.6,
          1.7000000000000002,
          1.8000000000000003,
          1.9000000000000004,
          2,
          2.1,
          2.2,
          2.3000000000000003,
          2.4000000000000004,
          2.5,
          2.6,
          2.7,
          2.8000000000000003,
          2.9000000000000004,
          3,
          3.1000000000000005,
          3.2,
          3.3,
          3.4000000000000004,
          3.5,
          3.6000000000000005,
          3.7,
          3.8000000000000007,
          3.9000000000000004,
          4,
          4.1000000000000005,
          4.2,
          4.300000000000001,
          4.4,
          4.5,
          4.6000000000000005,
          4.7,
          4.800000000000001,
          4.9,
          5,
          5.1000000000000005,
          5.2,
          5.300000000000001,
          5.4,
          5.5,
          5.6000000000000005,
          5.7,
          5.800000000000001,
          5.9,
          6,
          6.1000000000000005,
          6.2,
          6.300000000000001,
          6.4,
          6.5,
          6.6000000000000005,
          6.7,
          6.800000000000001,
          6.9,
          7,
          7.1,
          7.200000000000001,
          7.300000000000001,
          7.4,
          7.5,
          7.6,
          7.700000000000001,
          7.800000000000001,
          7.9,
          8,
          8.1,
          8.200000000000001,
          8.3,
          8.4,
          8.5,
          8.600000000000001,
          8.700000000000001,
          8.8,
          8.9,
          9,
          9.100000000000001,
          9.200000000000001,
          9.3,
          9.4,
          9.5,
          9.600000000000001,
          9.700000000000001,
          9.8,
          9.9,
          10,
          10.100000000000001,
          10.200000000000001,
          10.3,
          10.4,
          10.5,
          10.600000000000001,
          10.700000000000001,
          10.8,
          10.9,
          11
         ],
         "y": [
          -0.6271853825417,
          -0.5522023377899065,
          -0.4791899917031186,
          -0.4079293777630022,
          -0.3382015294512234,
          -0.2697874802494484,
          -0.20246826363934303,
          -0.13602491310257359,
          -0.07023846212080594,
          -0.004889944175706209,
          0.06023960725105956,
          0.12536915867782542,
          0.19071767662292521,
          0.25650412760469277,
          0.32294747814146224,
          0.39026669475156744,
          0.45868074395334246,
          0.5284085922651212,
          0.5996692062052376,
          0.6726815522920253,
          0.7476645970438187,
          0.824371126955731,
          0.9006892084299918,
          0.9740407278456106,
          1.0418475715815967,
          1.1015316260169588,
          1.1505147775307067,
          1.1862189125018499,
          1.2060659173093966,
          1.2074776783323573,
          1.1878760819497403,
          1.1455913768186452,
          1.0825872607085316,
          1.0017357936669498,
          0.9059090357414492,
          0.7979790469795806,
          0.6808178874288927,
          0.5572976171369357,
          0.4302902961512599,
          0.3026679845194148,
          0.17730274228895102,
          0.05653680794573908,
          -0.05940686627105717,
          -0.17083514968395477,
          -0.2780549116154706,
          -0.38137302138811857,
          -0.4810963483244167,
          -0.5775317617468789,
          -0.6709861309780233,
          -0.7617663253403637,
          -0.8501792141564172,
          -0.9360556461231018,
          -1.0173223874349395,
          -1.0914301836608575,
          -1.1558297803697792,
          -1.207971923130631,
          -1.2453073575123377,
          -1.2652868290838244,
          -1.2653610834140163,
          -1.2429808660718393,
          -1.1955969226262175,
          -1.1218310775208877,
          -1.0249894706988316,
          -0.9095493209778397,
          -0.7799878471757062,
          -0.6407822681102224,
          -0.496409802599179,
          -0.35134766946037055,
          -0.210073087511587,
          -0.07706327557062254,
          0.04320454754473191,
          0.14756933360623817,
          0.23813471674386913,
          0.3183205016771544,
          0.3915464931256205,
          0.4612324958087961,
          0.5307983144462096,
          0.6036637537573879,
          0.6832486184618602,
          0.7729727132791528,
          0.8762558429287948,
          0.9950585714887675,
          1.1255045004708706,
          1.262257990745351,
          1.3999834031824623,
          1.5333450986524553,
          1.6570074380255813,
          1.7656347821720937,
          1.8538914919622393,
          1.9164419282662717,
          1.9479504519544424,
          1.9445693121070284,
          1.9084023106444115,
          1.843041137697001,
          1.752077483395206,
          1.6391030378694342,
          1.507709491250092,
          1.3614885336675924,
          1.2040318552523421,
          1.0389311461347495,
          0.8697780964452229,
          0.6995734587997922,
          0.5289542357569919,
          0.3579664923609713,
          0.18665629365588313,
          0.015069704685879759,
          -0.15674720950488924,
          -0.3287483838722653,
          -0.5008877533720987,
          -0.6731192529602374,
          -0.8453968175925286,
          -1.0176743822248226,
          -1.1899058818129615,
          -1.362045251312795,
          -1.5340464256801711,
          -1.7058633398709369,
          -1.877449928840943,
          -2.0487601275460317,
          -2.2197478709420513,
          -2.3903670939848523,
          -2.5605717316302794
         ]
        },
        {
         "line": {
          "dash": "longdash"
         },
         "mode": "lines",
         "name": "Fitted line (custom)",
         "type": "scatter",
         "x": [
          -1,
          -0.9,
          -0.8,
          -0.7,
          -0.6,
          -0.5,
          -0.3999999999999999,
          -0.29999999999999993,
          -0.19999999999999996,
          -0.09999999999999998,
          0,
          0.10000000000000009,
          0.20000000000000018,
          0.30000000000000004,
          0.40000000000000013,
          0.5,
          0.6000000000000001,
          0.7000000000000002,
          0.8,
          0.9000000000000001,
          1,
          1.1,
          1.2000000000000002,
          1.3000000000000003,
          1.4000000000000004,
          1.5,
          1.6,
          1.7000000000000002,
          1.8000000000000003,
          1.9000000000000004,
          2,
          2.1,
          2.2,
          2.3000000000000003,
          2.4000000000000004,
          2.5,
          2.6,
          2.7,
          2.8000000000000003,
          2.9000000000000004,
          3,
          3.1000000000000005,
          3.2,
          3.3,
          3.4000000000000004,
          3.5,
          3.6000000000000005,
          3.7,
          3.8000000000000007,
          3.9000000000000004,
          4,
          4.1000000000000005,
          4.2,
          4.300000000000001,
          4.4,
          4.5,
          4.6000000000000005,
          4.7,
          4.800000000000001,
          4.9,
          5,
          5.1000000000000005,
          5.2,
          5.300000000000001,
          5.4,
          5.5,
          5.6000000000000005,
          5.7,
          5.800000000000001,
          5.9,
          6,
          6.1000000000000005,
          6.2,
          6.300000000000001,
          6.4,
          6.5,
          6.6000000000000005,
          6.7,
          6.800000000000001,
          6.9,
          7,
          7.1,
          7.200000000000001,
          7.300000000000001,
          7.4,
          7.5,
          7.6,
          7.700000000000001,
          7.800000000000001,
          7.9,
          8,
          8.1,
          8.200000000000001,
          8.3,
          8.4,
          8.5,
          8.600000000000001,
          8.700000000000001,
          8.8,
          8.9,
          9,
          9.100000000000001,
          9.200000000000001,
          9.3,
          9.4,
          9.5,
          9.600000000000001,
          9.700000000000001,
          9.8,
          9.9,
          10,
          10.100000000000001,
          10.200000000000001,
          10.3,
          10.4,
          10.5,
          10.600000000000001,
          10.700000000000001,
          10.8,
          10.9,
          11
         ],
         "y": [
          -0.6271853825416995,
          -0.5522023377899061,
          -0.47918999170311816,
          -0.40792937776300187,
          -0.33820152945122317,
          -0.2697874802494482,
          -0.20246826363934292,
          -0.1360249131025735,
          -0.0702384621208059,
          -0.004889944175706193,
          0.06023960725105956,
          0.1253691586778254,
          0.19071767662292516,
          0.25650412760469266,
          0.3229474781414622,
          0.3902666947515674,
          0.45868074395334235,
          0.5284085922651212,
          0.5996692062052373,
          0.6726815522920253,
          0.7476645970438187,
          0.8243711269557309,
          0.9006892084299918,
          0.9740407278456107,
          1.0418475715815967,
          1.1015316260169588,
          1.150514777530707,
          1.1862189125018499,
          1.206065917309397,
          1.2074776783323573,
          1.1878760819497403,
          1.1455913768186452,
          1.0825872607085316,
          1.0017357936669498,
          0.9059090357414493,
          0.7979790469795807,
          0.6808178874288927,
          0.5572976171369358,
          0.43029029615126,
          0.3026679845194149,
          0.17730274228895102,
          0.05653680794573908,
          -0.059406866271057124,
          -0.17083514968395466,
          -0.27805491161547047,
          -0.38137302138811857,
          -0.4810963483244166,
          -0.577531761746879,
          -0.6709861309780232,
          -0.7617663253403637,
          -0.8501792141564172,
          -0.9360556461231018,
          -1.0173223874349397,
          -1.0914301836608575,
          -1.1558297803697792,
          -1.207971923130631,
          -1.2453073575123377,
          -1.2652868290838244,
          -1.2653610834140163,
          -1.242980866071839,
          -1.1955969226262175,
          -1.1218310775208875,
          -1.0249894706988314,
          -0.9095493209778396,
          -0.7799878471757062,
          -0.6407822681102224,
          -0.4964098025991789,
          -0.35134766946037055,
          -0.21007308751158682,
          -0.07706327557062242,
          0.04320454754473191,
          0.14756933360623814,
          0.2381347167438691,
          0.3183205016771544,
          0.39154649312562045,
          0.46123249580879605,
          0.5307983144462096,
          0.6036637537573879,
          0.6832486184618601,
          0.772972713279153,
          0.8762558429287948,
          0.9950585714887674,
          1.1255045004708708,
          1.262257990745351,
          1.3999834031824623,
          1.5333450986524553,
          1.6570074380255815,
          1.7656347821720937,
          1.8538914919622393,
          1.916441928266272,
          1.9479504519544424,
          1.9445693121070284,
          1.9084023106444115,
          1.843041137697001,
          1.7520774833952057,
          1.639103037869434,
          1.5077094912500917,
          1.3614885336675924,
          1.204031855252342,
          1.0389311461347495,
          0.8697780964452229,
          0.6995734587997922,
          0.5289542357569919,
          0.35796649236097133,
          0.1866562936558832,
          0.01506970468587987,
          -0.15674720950488918,
          -0.3287483838722651,
          -0.5008877533720988,
          -0.6731192529602372,
          -0.8453968175925286,
          -1.0176743822248229,
          -1.1899058818129615,
          -1.3620452513127954,
          -1.534046425680171,
          -1.7058633398709369,
          -1.8774499288409434,
          -2.048760127546032,
          -2.2197478709420517,
          -2.3903670939848523,
          -2.5605717316302803
         ]
        }
       ],
       "layout": {
        "template": {
         "data": {
          "bar": [
           {
            "error_x": {
             "color": "#2a3f5f"
            },
            "error_y": {
             "color": "#2a3f5f"
            },
            "marker": {
             "line": {
              "color": "#E5ECF6",
              "width": 0.5
             },
             "pattern": {
              "fillmode": "overlay",
              "size": 10,
              "solidity": 0.2
             }
            },
            "type": "bar"
           }
          ],
          "barpolar": [
           {
            "marker": {
             "line": {
              "color": "#E5ECF6",
              "width": 0.5
             },
             "pattern": {
              "fillmode": "overlay",
              "size": 10,
              "solidity": 0.2
             }
            },
            "type": "barpolar"
           }
          ],
          "carpet": [
           {
            "aaxis": {
             "endlinecolor": "#2a3f5f",
             "gridcolor": "white",
             "linecolor": "white",
             "minorgridcolor": "white",
             "startlinecolor": "#2a3f5f"
            },
            "baxis": {
             "endlinecolor": "#2a3f5f",
             "gridcolor": "white",
             "linecolor": "white",
             "minorgridcolor": "white",
             "startlinecolor": "#2a3f5f"
            },
            "type": "carpet"
           }
          ],
          "choropleth": [
           {
            "colorbar": {
             "outlinewidth": 0,
             "ticks": ""
            },
            "type": "choropleth"
           }
          ],
          "contour": [
           {
            "colorbar": {
             "outlinewidth": 0,
             "ticks": ""
            },
            "colorscale": [
             [
              0,
              "#0d0887"
             ],
             [
              0.1111111111111111,
              "#46039f"
             ],
             [
              0.2222222222222222,
              "#7201a8"
             ],
             [
              0.3333333333333333,
              "#9c179e"
             ],
             [
              0.4444444444444444,
              "#bd3786"
             ],
             [
              0.5555555555555556,
              "#d8576b"
             ],
             [
              0.6666666666666666,
              "#ed7953"
             ],
             [
              0.7777777777777778,
              "#fb9f3a"
             ],
             [
              0.8888888888888888,
              "#fdca26"
             ],
             [
              1,
              "#f0f921"
             ]
            ],
            "type": "contour"
           }
          ],
          "contourcarpet": [
           {
            "colorbar": {
             "outlinewidth": 0,
             "ticks": ""
            },
            "type": "contourcarpet"
           }
          ],
          "heatmap": [
           {
            "colorbar": {
             "outlinewidth": 0,
             "ticks": ""
            },
            "colorscale": [
             [
              0,
              "#0d0887"
             ],
             [
              0.1111111111111111,
              "#46039f"
             ],
             [
              0.2222222222222222,
              "#7201a8"
             ],
             [
              0.3333333333333333,
              "#9c179e"
             ],
             [
              0.4444444444444444,
              "#bd3786"
             ],
             [
              0.5555555555555556,
              "#d8576b"
             ],
             [
              0.6666666666666666,
              "#ed7953"
             ],
             [
              0.7777777777777778,
              "#fb9f3a"
             ],
             [
              0.8888888888888888,
              "#fdca26"
             ],
             [
              1,
              "#f0f921"
             ]
            ],
            "type": "heatmap"
           }
          ],
          "heatmapgl": [
           {
            "colorbar": {
             "outlinewidth": 0,
             "ticks": ""
            },
            "colorscale": [
             [
              0,
              "#0d0887"
             ],
             [
              0.1111111111111111,
              "#46039f"
             ],
             [
              0.2222222222222222,
              "#7201a8"
             ],
             [
              0.3333333333333333,
              "#9c179e"
             ],
             [
              0.4444444444444444,
              "#bd3786"
             ],
             [
              0.5555555555555556,
              "#d8576b"
             ],
             [
              0.6666666666666666,
              "#ed7953"
             ],
             [
              0.7777777777777778,
              "#fb9f3a"
             ],
             [
              0.8888888888888888,
              "#fdca26"
             ],
             [
              1,
              "#f0f921"
             ]
            ],
            "type": "heatmapgl"
           }
          ],
          "histogram": [
           {
            "marker": {
             "pattern": {
              "fillmode": "overlay",
              "size": 10,
              "solidity": 0.2
             }
            },
            "type": "histogram"
           }
          ],
          "histogram2d": [
           {
            "colorbar": {
             "outlinewidth": 0,
             "ticks": ""
            },
            "colorscale": [
             [
              0,
              "#0d0887"
             ],
             [
              0.1111111111111111,
              "#46039f"
             ],
             [
              0.2222222222222222,
              "#7201a8"
             ],
             [
              0.3333333333333333,
              "#9c179e"
             ],
             [
              0.4444444444444444,
              "#bd3786"
             ],
             [
              0.5555555555555556,
              "#d8576b"
             ],
             [
              0.6666666666666666,
              "#ed7953"
             ],
             [
              0.7777777777777778,
              "#fb9f3a"
             ],
             [
              0.8888888888888888,
              "#fdca26"
             ],
             [
              1,
              "#f0f921"
             ]
            ],
            "type": "histogram2d"
           }
          ],
          "histogram2dcontour": [
           {
            "colorbar": {
             "outlinewidth": 0,
             "ticks": ""
            },
            "colorscale": [
             [
              0,
              "#0d0887"
             ],
             [
              0.1111111111111111,
              "#46039f"
             ],
             [
              0.2222222222222222,
              "#7201a8"
             ],
             [
              0.3333333333333333,
              "#9c179e"
             ],
             [
              0.4444444444444444,
              "#bd3786"
             ],
             [
              0.5555555555555556,
              "#d8576b"
             ],
             [
              0.6666666666666666,
              "#ed7953"
             ],
             [
              0.7777777777777778,
              "#fb9f3a"
             ],
             [
              0.8888888888888888,
              "#fdca26"
             ],
             [
              1,
              "#f0f921"
             ]
            ],
            "type": "histogram2dcontour"
           }
          ],
          "mesh3d": [
           {
            "colorbar": {
             "outlinewidth": 0,
             "ticks": ""
            },
            "type": "mesh3d"
           }
          ],
          "parcoords": [
           {
            "line": {
             "colorbar": {
              "outlinewidth": 0,
              "ticks": ""
             }
            },
            "type": "parcoords"
           }
          ],
          "pie": [
           {
            "automargin": true,
            "type": "pie"
           }
          ],
          "scatter": [
           {
            "fillpattern": {
             "fillmode": "overlay",
             "size": 10,
             "solidity": 0.2
            },
            "type": "scatter"
           }
          ],
          "scatter3d": [
           {
            "line": {
             "colorbar": {
              "outlinewidth": 0,
              "ticks": ""
             }
            },
            "marker": {
             "colorbar": {
              "outlinewidth": 0,
              "ticks": ""
             }
            },
            "type": "scatter3d"
           }
          ],
          "scattercarpet": [
           {
            "marker": {
             "colorbar": {
              "outlinewidth": 0,
              "ticks": ""
             }
            },
            "type": "scattercarpet"
           }
          ],
          "scattergeo": [
           {
            "marker": {
             "colorbar": {
              "outlinewidth": 0,
              "ticks": ""
             }
            },
            "type": "scattergeo"
           }
          ],
          "scattergl": [
           {
            "marker": {
             "colorbar": {
              "outlinewidth": 0,
              "ticks": ""
             }
            },
            "type": "scattergl"
           }
          ],
          "scattermapbox": [
           {
            "marker": {
             "colorbar": {
              "outlinewidth": 0,
              "ticks": ""
             }
            },
            "type": "scattermapbox"
           }
          ],
          "scatterpolar": [
           {
            "marker": {
             "colorbar": {
              "outlinewidth": 0,
              "ticks": ""
             }
            },
            "type": "scatterpolar"
           }
          ],
          "scatterpolargl": [
           {
            "marker": {
             "colorbar": {
              "outlinewidth": 0,
              "ticks": ""
             }
            },
            "type": "scatterpolargl"
           }
          ],
          "scatterternary": [
           {
            "marker": {
             "colorbar": {
              "outlinewidth": 0,
              "ticks": ""
             }
            },
            "type": "scatterternary"
           }
          ],
          "surface": [
           {
            "colorbar": {
             "outlinewidth": 0,
             "ticks": ""
            },
            "colorscale": [
             [
              0,
              "#0d0887"
             ],
             [
              0.1111111111111111,
              "#46039f"
             ],
             [
              0.2222222222222222,
              "#7201a8"
             ],
             [
              0.3333333333333333,
              "#9c179e"
             ],
             [
              0.4444444444444444,
              "#bd3786"
             ],
             [
              0.5555555555555556,
              "#d8576b"
             ],
             [
              0.6666666666666666,
              "#ed7953"
             ],
             [
              0.7777777777777778,
              "#fb9f3a"
             ],
             [
              0.8888888888888888,
              "#fdca26"
             ],
             [
              1,
              "#f0f921"
             ]
            ],
            "type": "surface"
           }
          ],
          "table": [
           {
            "cells": {
             "fill": {
              "color": "#EBF0F8"
             },
             "line": {
              "color": "white"
             }
            },
            "header": {
             "fill": {
              "color": "#C8D4E3"
             },
             "line": {
              "color": "white"
             }
            },
            "type": "table"
           }
          ]
         },
         "layout": {
          "annotationdefaults": {
           "arrowcolor": "#2a3f5f",
           "arrowhead": 0,
           "arrowwidth": 1
          },
          "autotypenumbers": "strict",
          "coloraxis": {
           "colorbar": {
            "outlinewidth": 0,
            "ticks": ""
           }
          },
          "colorscale": {
           "diverging": [
            [
             0,
             "#8e0152"
            ],
            [
             0.1,
             "#c51b7d"
            ],
            [
             0.2,
             "#de77ae"
            ],
            [
             0.3,
             "#f1b6da"
            ],
            [
             0.4,
             "#fde0ef"
            ],
            [
             0.5,
             "#f7f7f7"
            ],
            [
             0.6,
             "#e6f5d0"
            ],
            [
             0.7,
             "#b8e186"
            ],
            [
             0.8,
             "#7fbc41"
            ],
            [
             0.9,
             "#4d9221"
            ],
            [
             1,
             "#276419"
            ]
           ],
           "sequential": [
            [
             0,
             "#0d0887"
            ],
            [
             0.1111111111111111,
             "#46039f"
            ],
            [
             0.2222222222222222,
             "#7201a8"
            ],
            [
             0.3333333333333333,
             "#9c179e"
            ],
            [
             0.4444444444444444,
             "#bd3786"
            ],
            [
             0.5555555555555556,
             "#d8576b"
            ],
            [
             0.6666666666666666,
             "#ed7953"
            ],
            [
             0.7777777777777778,
             "#fb9f3a"
            ],
            [
             0.8888888888888888,
             "#fdca26"
            ],
            [
             1,
             "#f0f921"
            ]
           ],
           "sequentialminus": [
            [
             0,
             "#0d0887"
            ],
            [
             0.1111111111111111,
             "#46039f"
            ],
            [
             0.2222222222222222,
             "#7201a8"
            ],
            [
             0.3333333333333333,
             "#9c179e"
            ],
            [
             0.4444444444444444,
             "#bd3786"
            ],
            [
             0.5555555555555556,
             "#d8576b"
            ],
            [
             0.6666666666666666,
             "#ed7953"
            ],
            [
             0.7777777777777778,
             "#fb9f3a"
            ],
            [
             0.8888888888888888,
             "#fdca26"
            ],
            [
             1,
             "#f0f921"
            ]
           ]
          },
          "colorway": [
           "#636efa",
           "#EF553B",
           "#00cc96",
           "#ab63fa",
           "#FFA15A",
           "#19d3f3",
           "#FF6692",
           "#B6E880",
           "#FF97FF",
           "#FECB52"
          ],
          "font": {
           "color": "#2a3f5f"
          },
          "geo": {
           "bgcolor": "white",
           "lakecolor": "white",
           "landcolor": "#E5ECF6",
           "showlakes": true,
           "showland": true,
           "subunitcolor": "white"
          },
          "hoverlabel": {
           "align": "left"
          },
          "hovermode": "closest",
          "mapbox": {
           "style": "light"
          },
          "paper_bgcolor": "white",
          "plot_bgcolor": "#E5ECF6",
          "polar": {
           "angularaxis": {
            "gridcolor": "white",
            "linecolor": "white",
            "ticks": ""
           },
           "bgcolor": "#E5ECF6",
           "radialaxis": {
            "gridcolor": "white",
            "linecolor": "white",
            "ticks": ""
           }
          },
          "scene": {
           "xaxis": {
            "backgroundcolor": "#E5ECF6",
            "gridcolor": "white",
            "gridwidth": 2,
            "linecolor": "white",
            "showbackground": true,
            "ticks": "",
            "zerolinecolor": "white"
           },
           "yaxis": {
            "backgroundcolor": "#E5ECF6",
            "gridcolor": "white",
            "gridwidth": 2,
            "linecolor": "white",
            "showbackground": true,
            "ticks": "",
            "zerolinecolor": "white"
           },
           "zaxis": {
            "backgroundcolor": "#E5ECF6",
            "gridcolor": "white",
            "gridwidth": 2,
            "linecolor": "white",
            "showbackground": true,
            "ticks": "",
            "zerolinecolor": "white"
           }
          },
          "shapedefaults": {
           "line": {
            "color": "#2a3f5f"
           }
          },
          "ternary": {
           "aaxis": {
            "gridcolor": "white",
            "linecolor": "white",
            "ticks": ""
           },
           "baxis": {
            "gridcolor": "white",
            "linecolor": "white",
            "ticks": ""
           },
           "bgcolor": "#E5ECF6",
           "caxis": {
            "gridcolor": "white",
            "linecolor": "white",
            "ticks": ""
           }
          },
          "title": {
           "x": 0.05
          },
          "xaxis": {
           "automargin": true,
           "gridcolor": "white",
           "linecolor": "white",
           "ticks": "",
           "title": {
            "standoff": 15
           },
           "zerolinecolor": "white",
           "zerolinewidth": 2
          },
          "yaxis": {
           "automargin": true,
           "gridcolor": "white",
           "linecolor": "white",
           "ticks": "",
           "title": {
            "standoff": 15
           },
           "zerolinecolor": "white",
           "zerolinewidth": 2
          }
         }
        },
        "title": {
         "text": "Scipy and custom interpolations"
        },
        "xaxis": {
         "title": {
          "text": "x"
         }
        },
        "yaxis": {
         "title": {
          "text": "y"
         }
        }
       }
      },
      "text/html": [
       "<div>                            <div id=\"ae13271f-7b03-4b9c-871a-b3132060ba75\" class=\"plotly-graph-div\" style=\"height:525px; width:100%;\"></div>            <script type=\"text/javascript\">                require([\"plotly\"], function(Plotly) {                    window.PLOTLYENV=window.PLOTLYENV || {};                                    if (document.getElementById(\"ae13271f-7b03-4b9c-871a-b3132060ba75\")) {                    Plotly.newPlot(                        \"ae13271f-7b03-4b9c-871a-b3132060ba75\",                        [{\"mode\":\"markers\",\"name\":\"Original data\",\"x\":[0.0,1.0,2.0,3.0,4.0,5.0,6.0,7.0,8.0,9.0,10.0],\"y\":[0.06023960725105956,0.7476645970438187,1.1878760819497403,0.17730274228895102,-0.8501792141564172,-1.1955969226262175,0.04320454754473191,0.8762558429287948,1.9479504519544424,0.8697780964452229,-0.8453968175925286],\"type\":\"scatter\"},{\"mode\":\"lines\",\"name\":\"Fitted line\",\"x\":[-1.0,-0.9,-0.8,-0.7,-0.6,-0.5,-0.3999999999999999,-0.29999999999999993,-0.19999999999999996,-0.09999999999999998,0.0,0.10000000000000009,0.20000000000000018,0.30000000000000004,0.40000000000000013,0.5,0.6000000000000001,0.7000000000000002,0.8,0.9000000000000001,1.0,1.1,1.2000000000000002,1.3000000000000003,1.4000000000000004,1.5,1.6,1.7000000000000002,1.8000000000000003,1.9000000000000004,2.0,2.1,2.2,2.3000000000000003,2.4000000000000004,2.5,2.6,2.7,2.8000000000000003,2.9000000000000004,3.0,3.1000000000000005,3.2,3.3,3.4000000000000004,3.5,3.6000000000000005,3.7,3.8000000000000007,3.9000000000000004,4.0,4.1000000000000005,4.2,4.300000000000001,4.4,4.5,4.6000000000000005,4.7,4.800000000000001,4.9,5.0,5.1000000000000005,5.2,5.300000000000001,5.4,5.5,5.6000000000000005,5.7,5.800000000000001,5.9,6.0,6.1000000000000005,6.2,6.300000000000001,6.4,6.5,6.6000000000000005,6.7,6.800000000000001,6.9,7.0,7.1,7.200000000000001,7.300000000000001,7.4,7.5,7.6,7.700000000000001,7.800000000000001,7.9,8.0,8.1,8.200000000000001,8.3,8.4,8.5,8.600000000000001,8.700000000000001,8.8,8.9,9.0,9.100000000000001,9.200000000000001,9.3,9.4,9.5,9.600000000000001,9.700000000000001,9.8,9.9,10.0,10.100000000000001,10.200000000000001,10.3,10.4,10.5,10.600000000000001,10.700000000000001,10.8,10.9,11.0],\"y\":[-0.6271853825417,-0.5522023377899065,-0.4791899917031186,-0.4079293777630022,-0.3382015294512234,-0.2697874802494484,-0.20246826363934303,-0.13602491310257359,-0.07023846212080594,-0.004889944175706209,0.06023960725105956,0.12536915867782542,0.19071767662292521,0.25650412760469277,0.32294747814146224,0.39026669475156744,0.45868074395334246,0.5284085922651212,0.5996692062052376,0.6726815522920253,0.7476645970438187,0.824371126955731,0.9006892084299918,0.9740407278456106,1.0418475715815967,1.1015316260169588,1.1505147775307067,1.1862189125018499,1.2060659173093966,1.2074776783323573,1.1878760819497403,1.1455913768186452,1.0825872607085316,1.0017357936669498,0.9059090357414492,0.7979790469795806,0.6808178874288927,0.5572976171369357,0.4302902961512599,0.3026679845194148,0.17730274228895102,0.05653680794573908,-0.05940686627105717,-0.17083514968395477,-0.2780549116154706,-0.38137302138811857,-0.4810963483244167,-0.5775317617468789,-0.6709861309780233,-0.7617663253403637,-0.8501792141564172,-0.9360556461231018,-1.0173223874349395,-1.0914301836608575,-1.1558297803697792,-1.207971923130631,-1.2453073575123377,-1.2652868290838244,-1.2653610834140163,-1.2429808660718393,-1.1955969226262175,-1.1218310775208877,-1.0249894706988316,-0.9095493209778397,-0.7799878471757062,-0.6407822681102224,-0.496409802599179,-0.35134766946037055,-0.210073087511587,-0.07706327557062254,0.04320454754473191,0.14756933360623817,0.23813471674386913,0.3183205016771544,0.3915464931256205,0.4612324958087961,0.5307983144462096,0.6036637537573879,0.6832486184618602,0.7729727132791528,0.8762558429287948,0.9950585714887675,1.1255045004708706,1.262257990745351,1.3999834031824623,1.5333450986524553,1.6570074380255813,1.7656347821720937,1.8538914919622393,1.9164419282662717,1.9479504519544424,1.9445693121070284,1.9084023106444115,1.843041137697001,1.752077483395206,1.6391030378694342,1.507709491250092,1.3614885336675924,1.2040318552523421,1.0389311461347495,0.8697780964452229,0.6995734587997922,0.5289542357569919,0.3579664923609713,0.18665629365588313,0.015069704685879759,-0.15674720950488924,-0.3287483838722653,-0.5008877533720987,-0.6731192529602374,-0.8453968175925286,-1.0176743822248226,-1.1899058818129615,-1.362045251312795,-1.5340464256801711,-1.7058633398709369,-1.877449928840943,-2.0487601275460317,-2.2197478709420513,-2.3903670939848523,-2.5605717316302794],\"type\":\"scatter\"},{\"line\":{\"dash\":\"longdash\"},\"mode\":\"lines\",\"name\":\"Fitted line (custom)\",\"x\":[-1.0,-0.9,-0.8,-0.7,-0.6,-0.5,-0.3999999999999999,-0.29999999999999993,-0.19999999999999996,-0.09999999999999998,0.0,0.10000000000000009,0.20000000000000018,0.30000000000000004,0.40000000000000013,0.5,0.6000000000000001,0.7000000000000002,0.8,0.9000000000000001,1.0,1.1,1.2000000000000002,1.3000000000000003,1.4000000000000004,1.5,1.6,1.7000000000000002,1.8000000000000003,1.9000000000000004,2.0,2.1,2.2,2.3000000000000003,2.4000000000000004,2.5,2.6,2.7,2.8000000000000003,2.9000000000000004,3.0,3.1000000000000005,3.2,3.3,3.4000000000000004,3.5,3.6000000000000005,3.7,3.8000000000000007,3.9000000000000004,4.0,4.1000000000000005,4.2,4.300000000000001,4.4,4.5,4.6000000000000005,4.7,4.800000000000001,4.9,5.0,5.1000000000000005,5.2,5.300000000000001,5.4,5.5,5.6000000000000005,5.7,5.800000000000001,5.9,6.0,6.1000000000000005,6.2,6.300000000000001,6.4,6.5,6.6000000000000005,6.7,6.800000000000001,6.9,7.0,7.1,7.200000000000001,7.300000000000001,7.4,7.5,7.6,7.700000000000001,7.800000000000001,7.9,8.0,8.1,8.200000000000001,8.3,8.4,8.5,8.600000000000001,8.700000000000001,8.8,8.9,9.0,9.100000000000001,9.200000000000001,9.3,9.4,9.5,9.600000000000001,9.700000000000001,9.8,9.9,10.0,10.100000000000001,10.200000000000001,10.3,10.4,10.5,10.600000000000001,10.700000000000001,10.8,10.9,11.0],\"y\":[-0.6271853825416995,-0.5522023377899061,-0.47918999170311816,-0.40792937776300187,-0.33820152945122317,-0.2697874802494482,-0.20246826363934292,-0.1360249131025735,-0.0702384621208059,-0.004889944175706193,0.06023960725105956,0.1253691586778254,0.19071767662292516,0.25650412760469266,0.3229474781414622,0.3902666947515674,0.45868074395334235,0.5284085922651212,0.5996692062052373,0.6726815522920253,0.7476645970438187,0.8243711269557309,0.9006892084299918,0.9740407278456107,1.0418475715815967,1.1015316260169588,1.150514777530707,1.1862189125018499,1.206065917309397,1.2074776783323573,1.1878760819497403,1.1455913768186452,1.0825872607085316,1.0017357936669498,0.9059090357414493,0.7979790469795807,0.6808178874288927,0.5572976171369358,0.43029029615126,0.3026679845194149,0.17730274228895102,0.05653680794573908,-0.059406866271057124,-0.17083514968395466,-0.27805491161547047,-0.38137302138811857,-0.4810963483244166,-0.577531761746879,-0.6709861309780232,-0.7617663253403637,-0.8501792141564172,-0.9360556461231018,-1.0173223874349397,-1.0914301836608575,-1.1558297803697792,-1.207971923130631,-1.2453073575123377,-1.2652868290838244,-1.2653610834140163,-1.242980866071839,-1.1955969226262175,-1.1218310775208875,-1.0249894706988314,-0.9095493209778396,-0.7799878471757062,-0.6407822681102224,-0.4964098025991789,-0.35134766946037055,-0.21007308751158682,-0.07706327557062242,0.04320454754473191,0.14756933360623814,0.2381347167438691,0.3183205016771544,0.39154649312562045,0.46123249580879605,0.5307983144462096,0.6036637537573879,0.6832486184618601,0.772972713279153,0.8762558429287948,0.9950585714887674,1.1255045004708708,1.262257990745351,1.3999834031824623,1.5333450986524553,1.6570074380255815,1.7656347821720937,1.8538914919622393,1.916441928266272,1.9479504519544424,1.9445693121070284,1.9084023106444115,1.843041137697001,1.7520774833952057,1.639103037869434,1.5077094912500917,1.3614885336675924,1.204031855252342,1.0389311461347495,0.8697780964452229,0.6995734587997922,0.5289542357569919,0.35796649236097133,0.1866562936558832,0.01506970468587987,-0.15674720950488918,-0.3287483838722651,-0.5008877533720988,-0.6731192529602372,-0.8453968175925286,-1.0176743822248229,-1.1899058818129615,-1.3620452513127954,-1.534046425680171,-1.7058633398709369,-1.8774499288409434,-2.048760127546032,-2.2197478709420517,-2.3903670939848523,-2.5605717316302803],\"type\":\"scatter\"}],                        {\"template\":{\"data\":{\"histogram2dcontour\":[{\"type\":\"histogram2dcontour\",\"colorbar\":{\"outlinewidth\":0,\"ticks\":\"\"},\"colorscale\":[[0.0,\"#0d0887\"],[0.1111111111111111,\"#46039f\"],[0.2222222222222222,\"#7201a8\"],[0.3333333333333333,\"#9c179e\"],[0.4444444444444444,\"#bd3786\"],[0.5555555555555556,\"#d8576b\"],[0.6666666666666666,\"#ed7953\"],[0.7777777777777778,\"#fb9f3a\"],[0.8888888888888888,\"#fdca26\"],[1.0,\"#f0f921\"]]}],\"choropleth\":[{\"type\":\"choropleth\",\"colorbar\":{\"outlinewidth\":0,\"ticks\":\"\"}}],\"histogram2d\":[{\"type\":\"histogram2d\",\"colorbar\":{\"outlinewidth\":0,\"ticks\":\"\"},\"colorscale\":[[0.0,\"#0d0887\"],[0.1111111111111111,\"#46039f\"],[0.2222222222222222,\"#7201a8\"],[0.3333333333333333,\"#9c179e\"],[0.4444444444444444,\"#bd3786\"],[0.5555555555555556,\"#d8576b\"],[0.6666666666666666,\"#ed7953\"],[0.7777777777777778,\"#fb9f3a\"],[0.8888888888888888,\"#fdca26\"],[1.0,\"#f0f921\"]]}],\"heatmap\":[{\"type\":\"heatmap\",\"colorbar\":{\"outlinewidth\":0,\"ticks\":\"\"},\"colorscale\":[[0.0,\"#0d0887\"],[0.1111111111111111,\"#46039f\"],[0.2222222222222222,\"#7201a8\"],[0.3333333333333333,\"#9c179e\"],[0.4444444444444444,\"#bd3786\"],[0.5555555555555556,\"#d8576b\"],[0.6666666666666666,\"#ed7953\"],[0.7777777777777778,\"#fb9f3a\"],[0.8888888888888888,\"#fdca26\"],[1.0,\"#f0f921\"]]}],\"heatmapgl\":[{\"type\":\"heatmapgl\",\"colorbar\":{\"outlinewidth\":0,\"ticks\":\"\"},\"colorscale\":[[0.0,\"#0d0887\"],[0.1111111111111111,\"#46039f\"],[0.2222222222222222,\"#7201a8\"],[0.3333333333333333,\"#9c179e\"],[0.4444444444444444,\"#bd3786\"],[0.5555555555555556,\"#d8576b\"],[0.6666666666666666,\"#ed7953\"],[0.7777777777777778,\"#fb9f3a\"],[0.8888888888888888,\"#fdca26\"],[1.0,\"#f0f921\"]]}],\"contourcarpet\":[{\"type\":\"contourcarpet\",\"colorbar\":{\"outlinewidth\":0,\"ticks\":\"\"}}],\"contour\":[{\"type\":\"contour\",\"colorbar\":{\"outlinewidth\":0,\"ticks\":\"\"},\"colorscale\":[[0.0,\"#0d0887\"],[0.1111111111111111,\"#46039f\"],[0.2222222222222222,\"#7201a8\"],[0.3333333333333333,\"#9c179e\"],[0.4444444444444444,\"#bd3786\"],[0.5555555555555556,\"#d8576b\"],[0.6666666666666666,\"#ed7953\"],[0.7777777777777778,\"#fb9f3a\"],[0.8888888888888888,\"#fdca26\"],[1.0,\"#f0f921\"]]}],\"surface\":[{\"type\":\"surface\",\"colorbar\":{\"outlinewidth\":0,\"ticks\":\"\"},\"colorscale\":[[0.0,\"#0d0887\"],[0.1111111111111111,\"#46039f\"],[0.2222222222222222,\"#7201a8\"],[0.3333333333333333,\"#9c179e\"],[0.4444444444444444,\"#bd3786\"],[0.5555555555555556,\"#d8576b\"],[0.6666666666666666,\"#ed7953\"],[0.7777777777777778,\"#fb9f3a\"],[0.8888888888888888,\"#fdca26\"],[1.0,\"#f0f921\"]]}],\"mesh3d\":[{\"type\":\"mesh3d\",\"colorbar\":{\"outlinewidth\":0,\"ticks\":\"\"}}],\"scatter\":[{\"fillpattern\":{\"fillmode\":\"overlay\",\"size\":10,\"solidity\":0.2},\"type\":\"scatter\"}],\"parcoords\":[{\"type\":\"parcoords\",\"line\":{\"colorbar\":{\"outlinewidth\":0,\"ticks\":\"\"}}}],\"scatterpolargl\":[{\"type\":\"scatterpolargl\",\"marker\":{\"colorbar\":{\"outlinewidth\":0,\"ticks\":\"\"}}}],\"bar\":[{\"error_x\":{\"color\":\"#2a3f5f\"},\"error_y\":{\"color\":\"#2a3f5f\"},\"marker\":{\"line\":{\"color\":\"#E5ECF6\",\"width\":0.5},\"pattern\":{\"fillmode\":\"overlay\",\"size\":10,\"solidity\":0.2}},\"type\":\"bar\"}],\"scattergeo\":[{\"type\":\"scattergeo\",\"marker\":{\"colorbar\":{\"outlinewidth\":0,\"ticks\":\"\"}}}],\"scatterpolar\":[{\"type\":\"scatterpolar\",\"marker\":{\"colorbar\":{\"outlinewidth\":0,\"ticks\":\"\"}}}],\"histogram\":[{\"marker\":{\"pattern\":{\"fillmode\":\"overlay\",\"size\":10,\"solidity\":0.2}},\"type\":\"histogram\"}],\"scattergl\":[{\"type\":\"scattergl\",\"marker\":{\"colorbar\":{\"outlinewidth\":0,\"ticks\":\"\"}}}],\"scatter3d\":[{\"type\":\"scatter3d\",\"line\":{\"colorbar\":{\"outlinewidth\":0,\"ticks\":\"\"}},\"marker\":{\"colorbar\":{\"outlinewidth\":0,\"ticks\":\"\"}}}],\"scattermapbox\":[{\"type\":\"scattermapbox\",\"marker\":{\"colorbar\":{\"outlinewidth\":0,\"ticks\":\"\"}}}],\"scatterternary\":[{\"type\":\"scatterternary\",\"marker\":{\"colorbar\":{\"outlinewidth\":0,\"ticks\":\"\"}}}],\"scattercarpet\":[{\"type\":\"scattercarpet\",\"marker\":{\"colorbar\":{\"outlinewidth\":0,\"ticks\":\"\"}}}],\"carpet\":[{\"aaxis\":{\"endlinecolor\":\"#2a3f5f\",\"gridcolor\":\"white\",\"linecolor\":\"white\",\"minorgridcolor\":\"white\",\"startlinecolor\":\"#2a3f5f\"},\"baxis\":{\"endlinecolor\":\"#2a3f5f\",\"gridcolor\":\"white\",\"linecolor\":\"white\",\"minorgridcolor\":\"white\",\"startlinecolor\":\"#2a3f5f\"},\"type\":\"carpet\"}],\"table\":[{\"cells\":{\"fill\":{\"color\":\"#EBF0F8\"},\"line\":{\"color\":\"white\"}},\"header\":{\"fill\":{\"color\":\"#C8D4E3\"},\"line\":{\"color\":\"white\"}},\"type\":\"table\"}],\"barpolar\":[{\"marker\":{\"line\":{\"color\":\"#E5ECF6\",\"width\":0.5},\"pattern\":{\"fillmode\":\"overlay\",\"size\":10,\"solidity\":0.2}},\"type\":\"barpolar\"}],\"pie\":[{\"automargin\":true,\"type\":\"pie\"}]},\"layout\":{\"autotypenumbers\":\"strict\",\"colorway\":[\"#636efa\",\"#EF553B\",\"#00cc96\",\"#ab63fa\",\"#FFA15A\",\"#19d3f3\",\"#FF6692\",\"#B6E880\",\"#FF97FF\",\"#FECB52\"],\"font\":{\"color\":\"#2a3f5f\"},\"hovermode\":\"closest\",\"hoverlabel\":{\"align\":\"left\"},\"paper_bgcolor\":\"white\",\"plot_bgcolor\":\"#E5ECF6\",\"polar\":{\"bgcolor\":\"#E5ECF6\",\"angularaxis\":{\"gridcolor\":\"white\",\"linecolor\":\"white\",\"ticks\":\"\"},\"radialaxis\":{\"gridcolor\":\"white\",\"linecolor\":\"white\",\"ticks\":\"\"}},\"ternary\":{\"bgcolor\":\"#E5ECF6\",\"aaxis\":{\"gridcolor\":\"white\",\"linecolor\":\"white\",\"ticks\":\"\"},\"baxis\":{\"gridcolor\":\"white\",\"linecolor\":\"white\",\"ticks\":\"\"},\"caxis\":{\"gridcolor\":\"white\",\"linecolor\":\"white\",\"ticks\":\"\"}},\"coloraxis\":{\"colorbar\":{\"outlinewidth\":0,\"ticks\":\"\"}},\"colorscale\":{\"sequential\":[[0.0,\"#0d0887\"],[0.1111111111111111,\"#46039f\"],[0.2222222222222222,\"#7201a8\"],[0.3333333333333333,\"#9c179e\"],[0.4444444444444444,\"#bd3786\"],[0.5555555555555556,\"#d8576b\"],[0.6666666666666666,\"#ed7953\"],[0.7777777777777778,\"#fb9f3a\"],[0.8888888888888888,\"#fdca26\"],[1.0,\"#f0f921\"]],\"sequentialminus\":[[0.0,\"#0d0887\"],[0.1111111111111111,\"#46039f\"],[0.2222222222222222,\"#7201a8\"],[0.3333333333333333,\"#9c179e\"],[0.4444444444444444,\"#bd3786\"],[0.5555555555555556,\"#d8576b\"],[0.6666666666666666,\"#ed7953\"],[0.7777777777777778,\"#fb9f3a\"],[0.8888888888888888,\"#fdca26\"],[1.0,\"#f0f921\"]],\"diverging\":[[0,\"#8e0152\"],[0.1,\"#c51b7d\"],[0.2,\"#de77ae\"],[0.3,\"#f1b6da\"],[0.4,\"#fde0ef\"],[0.5,\"#f7f7f7\"],[0.6,\"#e6f5d0\"],[0.7,\"#b8e186\"],[0.8,\"#7fbc41\"],[0.9,\"#4d9221\"],[1,\"#276419\"]]},\"xaxis\":{\"gridcolor\":\"white\",\"linecolor\":\"white\",\"ticks\":\"\",\"title\":{\"standoff\":15},\"zerolinecolor\":\"white\",\"automargin\":true,\"zerolinewidth\":2},\"yaxis\":{\"gridcolor\":\"white\",\"linecolor\":\"white\",\"ticks\":\"\",\"title\":{\"standoff\":15},\"zerolinecolor\":\"white\",\"automargin\":true,\"zerolinewidth\":2},\"scene\":{\"xaxis\":{\"backgroundcolor\":\"#E5ECF6\",\"gridcolor\":\"white\",\"linecolor\":\"white\",\"showbackground\":true,\"ticks\":\"\",\"zerolinecolor\":\"white\",\"gridwidth\":2},\"yaxis\":{\"backgroundcolor\":\"#E5ECF6\",\"gridcolor\":\"white\",\"linecolor\":\"white\",\"showbackground\":true,\"ticks\":\"\",\"zerolinecolor\":\"white\",\"gridwidth\":2},\"zaxis\":{\"backgroundcolor\":\"#E5ECF6\",\"gridcolor\":\"white\",\"linecolor\":\"white\",\"showbackground\":true,\"ticks\":\"\",\"zerolinecolor\":\"white\",\"gridwidth\":2}},\"shapedefaults\":{\"line\":{\"color\":\"#2a3f5f\"}},\"annotationdefaults\":{\"arrowcolor\":\"#2a3f5f\",\"arrowhead\":0,\"arrowwidth\":1},\"geo\":{\"bgcolor\":\"white\",\"landcolor\":\"#E5ECF6\",\"subunitcolor\":\"white\",\"showland\":true,\"showlakes\":true,\"lakecolor\":\"white\"},\"title\":{\"x\":0.05},\"mapbox\":{\"style\":\"light\"}}},\"title\":{\"text\":\"Scipy and custom interpolations\"},\"xaxis\":{\"title\":{\"text\":\"x\"}},\"yaxis\":{\"title\":{\"text\":\"y\"}}},                        {\"responsive\": true}                    ).then(function(){\n",
       "                            \n",
       "var gd = document.getElementById('ae13271f-7b03-4b9c-871a-b3132060ba75');\n",
       "var x = new MutationObserver(function (mutations, observer) {{\n",
       "        var display = window.getComputedStyle(gd).display;\n",
       "        if (!display || display === 'none') {{\n",
       "            console.log([gd, 'removed!']);\n",
       "            Plotly.purge(gd);\n",
       "            observer.disconnect();\n",
       "        }}\n",
       "}});\n",
       "\n",
       "// Listen for the removal of the full notebook cells\n",
       "var notebookContainer = gd.closest('#notebook-container');\n",
       "if (notebookContainer) {{\n",
       "    x.observe(notebookContainer, {childList: true});\n",
       "}}\n",
       "\n",
       "// Listen for the clearing of the current output cell\n",
       "var outputEl = gd.closest('.output');\n",
       "if (outputEl) {{\n",
       "    x.observe(outputEl, {childList: true});\n",
       "}}\n",
       "\n",
       "                        })                };                });            </script>        </div>"
      ]
     },
     "metadata": {},
     "output_type": "display_data"
    }
   ],
   "source": [
    "# Create a figure\n",
    "fig = go.Figure()\n",
    "\n",
    "# Add scatter plot\n",
    "fig.add_trace(go.Scatter(x=x_train, y=y_train, mode=\"markers\", name=\"Original data\"))\n",
    "\n",
    "# Add line plot\n",
    "fig.add_trace(go.Scatter(x=x_test, y=y_test, mode=\"lines\", name=\"Fitted line\"))\n",
    "\n",
    "y_test_custom = [custom_spline.interpolate(x) for x in x_test]\n",
    "assert np.allclose(y_test, y_test_custom)\n",
    "fig.add_trace(\n",
    "    go.Scatter(x=x_test, y=y_test_custom, mode=\"lines\", name=\"Fitted line (custom)\", line=dict(dash=\"longdash\"))\n",
    ")\n",
    "\n",
    "# Add titles and labels\n",
    "fig.update_layout(title=\"Scipy and custom interpolations\", xaxis_title=\"x\", yaxis_title=\"y\")\n",
    "\n",
    "# Show the plot\n",
    "fig.show()"
   ]
  }
 ],
 "metadata": {
  "accelerator": "GPU",
  "colab": {
   "collapsed_sections": [],
   "name": "easy-captcha-fastai-v2.ipynb",
   "provenance": [],
   "toc_visible": true
  },
  "kernelspec": {
   "display_name": "Python 3 (ipykernel)",
   "language": "python",
   "name": "python3"
  },
  "language_info": {
   "codemirror_mode": {
    "name": "ipython",
    "version": 3
   },
   "file_extension": ".py",
   "mimetype": "text/x-python",
   "name": "python",
   "nbconvert_exporter": "python",
   "pygments_lexer": "ipython3",
   "version": "3.12.2"
  }
 },
 "nbformat": 4,
 "nbformat_minor": 4
}
