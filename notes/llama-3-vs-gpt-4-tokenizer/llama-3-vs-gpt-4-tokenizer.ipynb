{
 "cells": [
  {
   "cell_type": "raw",
   "metadata": {
    "vscode": {
     "languageId": "raw"
    }
   },
   "source": [
    "---\n",
    "title: Are Llama 3 and GPT-4 tokenizers the same?\n",
    "description: There seems to be a lot overlap between the tokenizers of Llama 3 and GPT-4. How similar are they?\n",
    "author: Augustas Macijauskas\n",
    "date: \"2024/05/06\"\n",
    "image: dalle-3-why-weird-space.webp\n",
    "image-alt: LLM thinking as imaged by DALL-E 3\n",
    "toc: true\n",
    "categories: [deep learning, LLMs, tokenization]\n",
    "draft: false\n",
    "---"
   ]
  },
  {
   "cell_type": "code",
   "execution_count": 1,
   "metadata": {},
   "outputs": [],
   "source": [
    "# Autoreload modules\n",
    "%load_ext autoreload\n",
    "%autoreload 2"
   ]
  },
  {
   "cell_type": "code",
   "execution_count": 2,
   "metadata": {},
   "outputs": [],
   "source": [
    "from concurrent.futures import ThreadPoolExecutor\n",
    "import multiprocessing as mp\n",
    "\n",
    "import tiktoken\n",
    "from transformers import AutoTokenizer\n",
    "\n",
    "# Number of parallel threads (adjust as needed)\n",
    "NUM_CPUS = mp.cpu_count()"
   ]
  },
  {
   "cell_type": "code",
   "execution_count": 3,
   "metadata": {},
   "outputs": [
    {
     "name": "stderr",
     "output_type": "stream",
     "text": [
      "Special tokens have been added in the vocabulary, make sure the associated word embeddings are fine-tuned or trained.\n",
      "Special tokens have been added in the vocabulary, make sure the associated word embeddings are fine-tuned or trained.\n"
     ]
    },
    {
     "data": {
      "text/plain": [
       "(128256, 100263)"
      ]
     },
     "execution_count": 3,
     "metadata": {},
     "output_type": "execute_result"
    }
   ],
   "source": [
    "llama_tokenizer = AutoTokenizer.from_pretrained(\"meta-llama/Meta-Llama-3-8B-Instruct\")\n",
    "gpt_4_tokenizer = AutoTokenizer.from_pretrained(\"Xenova/gpt-4\")\n",
    "\n",
    "llama_vocab = llama_tokenizer.get_vocab()\n",
    "gpt_4_vocab = gpt_4_tokenizer.get_vocab()\n",
    "\n",
    "len(llama_vocab), len(gpt_4_vocab)"
   ]
  },
  {
   "cell_type": "code",
   "execution_count": 4,
   "metadata": {},
   "outputs": [
    {
     "name": "stdout",
     "output_type": "stream",
     "text": [
      "LLAMA only: 28000\n",
      "GPT-4 only: 7\n"
     ]
    }
   ],
   "source": [
    "# Iterate vocabs and print out the differences\n",
    "llama_only = []\n",
    "gpt_4_only = []\n",
    "for key in llama_vocab:\n",
    "    if key not in gpt_4_vocab:\n",
    "        llama_only.append(key)\n",
    "    \n",
    "for key in gpt_4_vocab:\n",
    "    if key not in llama_vocab:\n",
    "        gpt_4_only.append(key)\n",
    "\n",
    "print(f\"LLAMA only: {len(llama_only)}\")\n",
    "print(f\"GPT-4 only: {len(gpt_4_only)}\")"
   ]
  },
  {
   "cell_type": "code",
   "execution_count": 5,
   "metadata": {},
   "outputs": [
    {
     "data": {
      "text/plain": [
       "(['<|im_end|>',\n",
       "  '<|fim_middle|>',\n",
       "  '<|endoftext|>',\n",
       "  '<|fim_suffix|>',\n",
       "  '<|fim_prefix|>',\n",
       "  '<|im_start|>',\n",
       "  '<|endofprompt|>'],\n",
       " {'bos_token': AddedToken(\"<|endoftext|>\", rstrip=False, lstrip=False, single_word=False, normalized=False, special=True),\n",
       "  'eos_token': AddedToken(\"<|endoftext|>\", rstrip=False, lstrip=False, single_word=False, normalized=False, special=True),\n",
       "  'unk_token': AddedToken(\"<|endoftext|>\", rstrip=False, lstrip=False, single_word=False, normalized=False, special=True)})"
      ]
     },
     "execution_count": 5,
     "metadata": {},
     "output_type": "execute_result"
    }
   ],
   "source": [
    "gpt_4_only, gpt_4_tokenizer.special_tokens_map_extended"
   ]
  },
  {
   "cell_type": "code",
   "execution_count": 6,
   "metadata": {},
   "outputs": [
    {
     "name": "stdout",
     "output_type": "stream",
     "text": [
      "Intersection: 100256\n"
     ]
    }
   ],
   "source": [
    "# Calculate the intersection\n",
    "intersection = set(llama_vocab.keys()).intersection(set(gpt_4_vocab.keys()))\n",
    "print(f\"Intersection: {len(intersection)}\")"
   ]
  },
  {
   "cell_type": "markdown",
   "metadata": {},
   "source": [
    "## Compare GPT-4 to tiktoken"
   ]
  },
  {
   "cell_type": "code",
   "execution_count": 7,
   "metadata": {},
   "outputs": [
    {
     "data": {
      "application/vnd.jupyter.widget-view+json": {
       "model_id": "c4230083593b4d69ac59d1dccea1aa1d",
       "version_major": 2,
       "version_minor": 0
      },
      "text/plain": [
       "Downloading data:   0%|          | 0.00/375M [00:00<?, ?B/s]"
      ]
     },
     "metadata": {},
     "output_type": "display_data"
    },
    {
     "data": {
      "application/vnd.jupyter.widget-view+json": {
       "model_id": "354936da864147ac8adaa5648474deec",
       "version_major": 2,
       "version_minor": 0
      },
      "text/plain": [
       "Downloading data:   0%|          | 0.00/188M [00:00<?, ?B/s]"
      ]
     },
     "metadata": {},
     "output_type": "display_data"
    },
    {
     "data": {
      "application/vnd.jupyter.widget-view+json": {
       "model_id": "bc807e045d304091891cfba4e6c4fae3",
       "version_major": 2,
       "version_minor": 0
      },
      "text/plain": [
       "Downloading data:   0%|          | 0.00/162M [00:00<?, ?B/s]"
      ]
     },
     "metadata": {},
     "output_type": "display_data"
    },
    {
     "data": {
      "application/vnd.jupyter.widget-view+json": {
       "model_id": "79e2f108d097462183882bf3c1aa474c",
       "version_major": 2,
       "version_minor": 0
      },
      "text/plain": [
       "Generating train split:   0%|          | 0/607256 [00:00<?, ? examples/s]"
      ]
     },
     "metadata": {},
     "output_type": "display_data"
    },
    {
     "name": "stdout",
     "output_type": "stream",
     "text": [
      "1801350 607256 412178\n",
      "2820784\n",
      "len(final_dataset)=300000\n"
     ]
    }
   ],
   "source": [
    "from datasets import load_dataset\n",
    "\n",
    "split = \"train\"\n",
    "english_dataset = load_dataset(\"wikitext\", \"wikitext-103-raw-v1\", split=split)\n",
    "korean_dataset = load_dataset(\"lcw99/wikipedia-korean-20221001\", split=split)\n",
    "code_dataset = load_dataset(\"code_search_net\", \"python\", split=split, trust_remote_code=True)\n",
    "code_dataset = code_dataset.rename_column(\"whole_func_string\", \"text\")  # Rename whole_func_string to text\n",
    "print(len(english_dataset), len(korean_dataset), len(code_dataset))\n",
    "print(len(english_dataset) + len(korean_dataset) + len(code_dataset))\n",
    "\n",
    "n = 100000\n",
    "final_dataset = (\n",
    "    english_dataset.shuffle(42).select(range(min(n, len(english_dataset))))[\"text\"] +\n",
    "    korean_dataset.shuffle(42).select(range(min(n, len(korean_dataset))))[\"text\"] +\n",
    "    code_dataset.shuffle(42).select(range(min(n, len(code_dataset))))[\"text\"]\n",
    ")\n",
    "print(f\"{len(final_dataset)=}\")"
   ]
  },
  {
   "cell_type": "code",
   "execution_count": 8,
   "metadata": {},
   "outputs": [
    {
     "data": {
      "text/plain": [
       "'왕종린(, 1961년 ~ )은 미국의 중국계 물리학자로 중국 과학원 외국계 원사이다. 해양'"
      ]
     },
     "execution_count": 8,
     "metadata": {},
     "output_type": "execute_result"
    }
   ],
   "source": [
    "final_dataset[min(n, len(english_dataset))][:50]"
   ]
  },
  {
   "cell_type": "code",
   "execution_count": 10,
   "metadata": {},
   "outputs": [
    {
     "data": {
      "text/plain": [
       "True"
      ]
     },
     "execution_count": 10,
     "metadata": {},
     "output_type": "execute_result"
    }
   ],
   "source": [
    "gpt_4_tiktoken_tokenizer = tiktoken.get_encoding(\"cl100k_base\")\n",
    "\n",
    "\n",
    "def check_tokenizers_worker(test_string):\n",
    "    hf_output = gpt_4_tokenizer.encode(test_string)\n",
    "    tiktoken_output = gpt_4_tiktoken_tokenizer.encode(test_string)\n",
    "    return hf_output == tiktoken_output\n",
    "\n",
    "\n",
    "with ThreadPoolExecutor(max_workers=NUM_CPUS) as executor:\n",
    "    # Apply the function to each item in parallel\n",
    "    results = list(executor.map(check_tokenizers_worker, final_dataset))\n",
    "\n",
    "all(results)"
   ]
  },
  {
   "cell_type": "markdown",
   "metadata": {},
   "source": [
    "So the conclusions (at least for the dataset sampled above) seem to be:\n",
    "\n",
    "1. The first 100256 tokens of the Hugging Face implementations of `Llama 3` and `GPT-4` tokenizers seem to be the same.\n",
    "1. Hugging Face's `GPT-4` tokenizer is identical to the one from `tiktoken`, at least for the dataset sampled above.\n",
    "1. So `Llama 3` and `GPT-4` have very similar vocabularies, even though OpenAI never detailed how they trained their tokenizer.\n",
    "1. What's going on???"
   ]
  }
 ],
 "metadata": {
  "kernelspec": {
   "display_name": "website",
   "language": "python",
   "name": "python3"
  },
  "language_info": {
   "codemirror_mode": {
    "name": "ipython",
    "version": 3
   },
   "file_extension": ".py",
   "mimetype": "text/x-python",
   "name": "python",
   "nbconvert_exporter": "python",
   "pygments_lexer": "ipython3",
   "version": "3.12.2"
  }
 },
 "nbformat": 4,
 "nbformat_minor": 2
}
